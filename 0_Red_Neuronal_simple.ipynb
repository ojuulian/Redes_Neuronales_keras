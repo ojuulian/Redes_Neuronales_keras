{
 "cells": [
  {
   "cell_type": "markdown",
   "metadata": {
    "id": "7iFOX_Y3igEV"
   },
   "source": [
    "\n",
    "<h1><center>Perceptron simple</center></h1>\n"
   ]
  },
  {
   "cell_type": "markdown",
   "metadata": {
    "id": "iRC6JT-P_l6Y"
   },
   "source": [
    "# <h1 id=\"iris\">Dataset IRIS</h1>\n",
    "\n",
    "El Famoso set de datos que contiene información de 3 diferentes especies (target):\n",
    "\n",
    "* Iris-Setosa (0)\n",
    "* Iris-Versicolor (1)\n",
    "* Iris-Virginica (2)\n",
    "\n",
    "El dataset contiene 150 muestras (50 por cada especie) y 4 características:\n",
    "\n",
    "* Longitud del sepalo (cm)\n",
    "* Ancho del sepalo (cm)\n",
    "* Longitud del petalo (cm)\n",
    "* Ancho del petalo (cm)\n"
   ]
  },
  {
   "cell_type": "code",
   "execution_count": 15,
   "metadata": {
    "id": "VLkXmSMOB7De"
   },
   "outputs": [],
   "source": [
    "import numpy as np                         \n",
    "import matplotlib.pyplot as plt                \n",
    "%matplotlib inline\n",
    "from sklearn.datasets import load_iris         # para traer Datasets, en especial el dataset iris \n",
    "from sklearn.linear_model import Perceptron    # Trae arquitectura de perceptron a partir de sklearn.linear_model\n",
    "\n",
    "iris = load_iris()                             # variable en la cual se carga el dataset"
   ]
  },
  {
   "cell_type": "code",
   "execution_count": 16,
   "metadata": {
    "id": "nFIwLRI-CzwG"
   },
   "outputs": [
    {
     "data": {
      "text/plain": [
       "array([0, 0, 0, 0, 0, 0, 0, 0, 0, 0, 0, 0, 0, 0, 0, 0, 0, 0, 0, 0, 0, 0,\n",
       "       0, 0, 0, 0, 0, 0, 0, 0, 0, 0, 0, 0, 0, 0, 0, 0, 0, 0, 0, 0, 0, 0,\n",
       "       0, 0, 0, 0, 0, 0, 1, 1, 1, 1, 1, 1, 1, 1, 1, 1, 1, 1, 1, 1, 1, 1,\n",
       "       1, 1, 1, 1, 1, 1, 1, 1, 1, 1, 1, 1, 1, 1, 1, 1, 1, 1, 1, 1, 1, 1,\n",
       "       1, 1, 1, 1, 1, 1, 1, 1, 1, 1, 1, 1, 2, 2, 2, 2, 2, 2, 2, 2, 2, 2,\n",
       "       2, 2, 2, 2, 2, 2, 2, 2, 2, 2, 2, 2, 2, 2, 2, 2, 2, 2, 2, 2, 2, 2,\n",
       "       2, 2, 2, 2, 2, 2, 2, 2, 2, 2, 2, 2, 2, 2, 2, 2, 2, 2])"
      ]
     },
     "execution_count": 16,
     "metadata": {},
     "output_type": "execute_result"
    }
   ],
   "source": [
    "iris.target                                    # Clasificación-etiquetas "
   ]
  },
  {
   "cell_type": "markdown",
   "metadata": {},
   "source": [
    "El conjunto de datos esta en formato array, vease los primeros 5 observaciones."
   ]
  },
  {
   "cell_type": "code",
   "execution_count": 17,
   "metadata": {
    "id": "tZT795N7DLlm"
   },
   "outputs": [
    {
     "data": {
      "text/plain": [
       "array([[5.1, 3.5, 1.4, 0.2],\n",
       "       [4.9, 3. , 1.4, 0.2],\n",
       "       [4.7, 3.2, 1.3, 0.2],\n",
       "       [4.6, 3.1, 1.5, 0.2],\n",
       "       [5. , 3.6, 1.4, 0.2]])"
      ]
     },
     "execution_count": 17,
     "metadata": {},
     "output_type": "execute_result"
    }
   ],
   "source": [
    "iris.data[:5, :] "
   ]
  },
  {
   "cell_type": "code",
   "execution_count": 18,
   "metadata": {
    "id": "gOv9TAouJMDX"
   },
   "outputs": [
    {
     "data": {
      "image/png": "[encoded data removed]",
      "text/plain": [
       "<Figure size 936x432 with 1 Axes>"
      ]
     },
     "metadata": {
      "needs_background": "light"
     },
     "output_type": "display_data"
    }
   ],
   "source": [
    "data = iris.data[:, (2, 3)]       # Trayendo longitud y ancho del pétalo\n",
    "labels = iris.target\n",
    "\n",
    "plt.figure(figsize=(13,6))\n",
    "plt.scatter(data[:, 0], data[:, 1], c=labels, cmap=plt.cm.Set1, edgecolor='face')\n",
    "plt.xlabel('Longitud pétalo (cm)')\n",
    "plt.ylabel('Ancho pétalo (cm)')\n",
    "plt.show()"
   ]
  },
  {
   "cell_type": "markdown",
   "metadata": {},
   "source": [
    "En la gráfica se logra observar tres grupos caracterizados por diferente color, con lo cual se logra afirmar que los tipos de flores del dataset se caracterizan especialmente por su longitud y ancho de pétalo.\n",
    "\n",
    "En consecuencia, se quiere entrenar una red neuronal de tal manera que permita clasificar cualquier flor dentro de las categorias establecidas (etiquetas)."
   ]
  },
  {
   "cell_type": "code",
   "execution_count": 19,
   "metadata": {
    "colab": {
     "base_uri": "https://localhost:8080/",
     "height": 86
    },
    "id": "AEHrwO2v8tnL",
    "outputId": "759aa311-816f-46e4-a05b-e2e932f2b7e8"
   },
   "outputs": [
    {
     "data": {
      "text/plain": [
       "Perceptron()"
      ]
     },
     "execution_count": 19,
     "metadata": {},
     "output_type": "execute_result"
    }
   ],
   "source": [
    "X = iris.data[:, (2, 3)]                  # Longitud y ancho del petalo \n",
    "\n",
    "## Es Iris Virginica?\n",
    "y = (iris.target == 2).astype(np.int)     # .astype(np.int)  Asegura que la red obtenga solamente valores enteros\n",
    "\n",
    "test_perceptron = Perceptron()            # Llamando el constructor del perceptron.\n",
    "test_perceptron.fit(X, y)                 # Entrenando     "
   ]
  },
  {
   "cell_type": "markdown",
   "metadata": {},
   "source": [
    "Evaluando el desempeño."
   ]
  },
  {
   "cell_type": "code",
   "execution_count": 22,
   "metadata": {
    "colab": {
     "base_uri": "https://localhost:8080/",
     "height": 34
    },
    "id": "WxzLm5_e88ro",
    "outputId": "50916e55-682f-4ca6-f404-32de5a426b0a"
   },
   "outputs": [
    {
     "name": "stdout",
     "output_type": "stream",
     "text": [
      "Predicción 1: [1]\n"
     ]
    }
   ],
   "source": [
    "y1_pred = test_perceptron.predict([[5.1, 2]])           #poniendo a prueba una flor con (5.1, 2) (longotud y ancho) respectivamente\n",
    "y2_pred = test_perceptron.predict([[1.4, 0.2]])\n",
    "print('Predicción 1:', y1_pred)"
   ]
  },
  {
   "cell_type": "code",
   "execution_count": null,
   "metadata": {},
   "outputs": [],
   "source": [
    "La especie corresponderia a la especie 1"
   ]
  },
  {
   "cell_type": "code",
   "execution_count": 23,
   "metadata": {},
   "outputs": [
    {
     "name": "stdout",
     "output_type": "stream",
     "text": [
      "Predicción 2: [0]\n"
     ]
    }
   ],
   "source": [
    "print('Predicción 2:', y2_pred)"
   ]
  },
  {
   "cell_type": "markdown",
   "metadata": {
    "id": "5iVYjQhSHfTk"
   },
   "source": [
    "La especie corresponderia a la especie 0. No obstante, Si se quiere implementar clasificadores más complejos como la identificación de patrones se recurre a combinar múltiples perceptrones."
   ]
  },
  {
   "cell_type": "markdown",
   "metadata": {
    "id": "mxvW1nUuF7Fd"
   },
   "source": [
    "# <h1 id=\"mlp\">Multi-layer Perceptron (MLP)</h1>\n",
    "\n",
    "\n",
    "![texto alternativo](https://drive.google.com/uc?id=12-AUUKOswfzkZW6xRziIZhxldCa9vDSU)"
   ]
  },
  {
   "cell_type": "markdown",
   "metadata": {
    "id": "zDEjLOCmSJiE"
   },
   "source": [
    "Una arquitectura de múltiples capas de perceptrones o MLP) es la respuesta a la necesidad de poder analizar problemas más complejos como lo es la clasificación de imágenes. A grandes rasgos y tal y como se muestra en la animación está compuesta por una capa de entrada, una o múltiples capas de TLUs denominadas capas ocultas cada una compuesta por diferentes perceptrones y una capa final denominada capa de salida. Cuando se incluyen más de dos capas ocultas se suele denominar red neuronal profunda (Deep Neural Network DNN)\n",
    "\n"
   ]
  },
  {
   "cell_type": "markdown",
   "metadata": {
    "id": "U5KmY1jyY95f"
   },
   "source": [
    "![texto alternativo](https://drive.google.com/uc?id=1n0EQyBxXsxCBFQWTZJl-BbJIN2_Ht6sv)"
   ]
  },
  {
   "cell_type": "markdown",
   "metadata": {
    "id": "qXqyslIFeCGZ"
   },
   "source": [
    "# <h1 id=\"backward\">Backward Propagation</h1>\n",
    "\n",
    "La propagación hacia atrás o backpropagation es un algoritmo de entrenamiento de redes neuronales. El método consiste en un ciclo de propagación y adaptación en dos fases. Primero se aplica un estímulo a la entrada de la red que se propaga por todas las capas hasta generar una salida. Luego la señal de salida se compara con la salida deseada y se calcula el error para cada una de las salidas. Enseguida, el error calculado se propaga hacia atrás partiendo desde la capa de salida hasta la capa de entrada de tal manera que todas las neuronas reciben una retroalimentación respecto a su contribución relativa al error. \n",
    "\n",
    "![texto alternativo](https://drive.google.com/uc?id=1YC5Lcj-Axj0XewPZ7glzbIIOZbdCY219)"
   ]
  },
  {
   "cell_type": "markdown",
   "metadata": {
    "id": "X9Nlfrn5w-jC"
   },
   "source": [
    "## Algoritmo Backward propagation\n",
    "\n",
    "* Se procesa un mini-lote de información a la vez. Cada paso de la información por la red se denomina época. \n",
    "*  Cada mini-batch de información es pasado por la capa de entrada la cual lo envía a la primera capa oculta. \n",
    "*  Luego se procesa la salida de todas las neuronas en esta capa (por cada muestra en el batch) \n",
    "*  El resultado se pasa a la siguiente capa y así sucesivamente hasta la capa de salida. Hasta ahora el proceso es el mismo que forward pass, todos los resultados intermedios son almacenados hasta que son necesitados por el paso de backward.\n",
    "*  Enseguida el algoritmo mide el error en la salida mediante funciones de pérdidas y retorna la medida del error.\n",
    "*  Luego se calcula la contribución en el error de conexión correspondiente con la capa anterior aplicando la regla de la cadena, fundamental en el cálculo. Este proceso se reitera hasta la capa de entrada.\n",
    "*  En efecto el algoritmo propaga el gradiente del error a todos los pesos correspondientes de las conexiones en la red.\n",
    "*  Finalmente se ejecuta un gradiente descendente para ajustar todos los pesos sinápticos en la red empleando los gradientes de error.\n"
   ]
  },
  {
   "cell_type": "markdown",
   "metadata": {
    "id": "okn48pX5531G"
   },
   "source": [
    "**Happy Coding!**"
   ]
  }
 ],
 "metadata": {
  "colab": {
   "name": "3_Estructura_Redes_Neuronales.ipynb",
   "provenance": []
  },
  "kernelspec": {
   "display_name": "Python 3",
   "language": "python",
   "name": "python3"
  },
  "language_info": {
   "codemirror_mode": {
    "name": "ipython",
    "version": 3
   },
   "file_extension": ".py",
   "mimetype": "text/x-python",
   "name": "python",
   "nbconvert_exporter": "python",
   "pygments_lexer": "ipython3",
   "version": "3.7.9"
  }
 },
 "nbformat": 4,
 "nbformat_minor": 4
}
