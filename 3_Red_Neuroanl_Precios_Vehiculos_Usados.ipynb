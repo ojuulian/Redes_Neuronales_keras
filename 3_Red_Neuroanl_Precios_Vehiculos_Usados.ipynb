{
 "cells": [
  {
   "cell_type": "markdown",
   "metadata": {
    "id": "7iFOX_Y3igEV"
   },
   "source": [
    "\n",
    "<h1><center>Red Neuronal - Keras</center></h1>\n",
    "\n",
    "\n",
    "<center><i>Predicción de precios de vehiculos usados</i></center>\n",
    "\n",
    "\n"
   ]
  },
  {
   "cell_type": "markdown",
   "metadata": {
    "id": "_VfqD089-WuQ"
   },
   "source": [
    "# <h1 id=\"problema\">Contexto analítico y exploración de datos</h1>\n",
    "\n",
    "El mercado de autos usados es reconocido por ser un sector economico muy competido con un centenar de compañias que luchan por hacerse con una porción de la torta. El precio de los autos se devalua año año debido a multiples factores y determinar el precio correcto es clave para las compañias para lograr competir en el mercado. En este caso se requiere implementar una red neural que permita determinar el valor más justo para los vehiculos dependiento de sus atributos:\n",
    "\n",
    "* **year**: El año en que fue hecho el carro.\n",
    "* **manufacturer**: La marca.\n",
    "* **condition**: La condición del auto.\n",
    "* **cylinders**: La cantidad de cilindros.\n",
    "* **fuel**: Indica si es a gas o a gasolina.\n",
    "* **transmision**: El tipo de trasmision.\n",
    "* **size**: Tamaño.\n",
    "* **type**: El tipo de vehiculo (convertible, pickup, etc).\n",
    "* **paint_color**: Color.\n",
    "* **price**: Precio o valor en dólares que vale. "
   ]
  },
  {
   "cell_type": "code",
   "execution_count": 1,
   "metadata": {
    "id": "MdkkRVpVZbyQ"
   },
   "outputs": [],
   "source": [
    "#Importamos las librerias necesarias\n",
    "import pandas as pd\n",
    "import numpy as np\n",
    "import io\n",
    "from google.colab import files   #Librería necesaria para interactuar con archivos en Colab"
   ]
  },
  {
   "cell_type": "code",
   "execution_count": 2,
   "metadata": {
    "colab": {
     "base_uri": "https://localhost:8080/",
     "height": 142
    },
    "id": "lUUfMdJ3rnXz",
    "outputId": "d4fa9cca-ae01-493f-8e41-ce4769ccd17a"
   },
   "outputs": [
    {
     "data": {
      "text/html": [
       "<div>\n",
       "<style scoped>\n",
       "    .dataframe tbody tr th:only-of-type {\n",
       "        vertical-align: middle;\n",
       "    }\n",
       "\n",
       "    .dataframe tbody tr th {\n",
       "        vertical-align: top;\n",
       "    }\n",
       "\n",
       "    .dataframe thead th {\n",
       "        text-align: right;\n",
       "    }\n",
       "</style>\n",
       "<table border=\"1\" class=\"dataframe\">\n",
       "  <thead>\n",
       "    <tr style=\"text-align: right;\">\n",
       "      <th></th>\n",
       "      <th>year</th>\n",
       "      <th>manufacturer</th>\n",
       "      <th>condition</th>\n",
       "      <th>cylinders</th>\n",
       "      <th>fuel</th>\n",
       "      <th>title_status</th>\n",
       "      <th>transmission</th>\n",
       "      <th>drive</th>\n",
       "      <th>size</th>\n",
       "      <th>type</th>\n",
       "      <th>paint_color</th>\n",
       "      <th>price</th>\n",
       "    </tr>\n",
       "  </thead>\n",
       "  <tbody>\n",
       "    <tr>\n",
       "      <th>0</th>\n",
       "      <td>2009</td>\n",
       "      <td>chevrolet</td>\n",
       "      <td>good</td>\n",
       "      <td>8 cylinders</td>\n",
       "      <td>gas</td>\n",
       "      <td>clean</td>\n",
       "      <td>automatic</td>\n",
       "      <td>rwd</td>\n",
       "      <td>full-size</td>\n",
       "      <td>SUV</td>\n",
       "      <td>white</td>\n",
       "      <td>9000</td>\n",
       "    </tr>\n",
       "    <tr>\n",
       "      <th>1</th>\n",
       "      <td>2002</td>\n",
       "      <td>gmc</td>\n",
       "      <td>good</td>\n",
       "      <td>8 cylinders</td>\n",
       "      <td>gas</td>\n",
       "      <td>clean</td>\n",
       "      <td>automatic</td>\n",
       "      <td>4wd</td>\n",
       "      <td>NaN</td>\n",
       "      <td>pickup</td>\n",
       "      <td>white</td>\n",
       "      <td>6000</td>\n",
       "    </tr>\n",
       "    <tr>\n",
       "      <th>2</th>\n",
       "      <td>2007</td>\n",
       "      <td>pontiac</td>\n",
       "      <td>excellent</td>\n",
       "      <td>4 cylinders</td>\n",
       "      <td>gas</td>\n",
       "      <td>clean</td>\n",
       "      <td>automatic</td>\n",
       "      <td>fwd</td>\n",
       "      <td>compact</td>\n",
       "      <td>convertible</td>\n",
       "      <td>red</td>\n",
       "      <td>7000</td>\n",
       "    </tr>\n",
       "  </tbody>\n",
       "</table>\n",
       "</div>"
      ],
      "text/plain": [
       "   year manufacturer  condition  ...         type paint_color price\n",
       "0  2009    chevrolet       good  ...          SUV       white  9000\n",
       "1  2002          gmc       good  ...       pickup       white  6000\n",
       "2  2007      pontiac  excellent  ...  convertible         red  7000\n",
       "\n",
       "[3 rows x 12 columns]"
      ]
     },
     "execution_count": 2,
     "metadata": {
      "tags": []
     },
     "output_type": "execute_result"
    }
   ],
   "source": [
    "#uploaded = files.upload()\n",
    "#cars = pd.read_csv(io.StringIO(uploaded['Craiglist_Cars.csv'].decode('utf-8')), sep = ',' )\n",
    "cars = pd.read_csv('Craiglist_Cars.csv', sep = ',' )\n",
    "cars.head(3)"
   ]
  },
  {
   "cell_type": "markdown",
   "metadata": {
    "id": "cSWTI9p6ZH9O"
   },
   "source": [
    "### 1. Conociendo dimensiones y conteo de clases en variables categoricas, completitud de las variables disponibles. \n",
    "\n",
    "A continuación identifiquemos el porcentaje de datos nulos que tiene el dataset."
   ]
  },
  {
   "cell_type": "code",
   "execution_count": 3,
   "metadata": {
    "colab": {
     "base_uri": "https://localhost:8080/"
    },
    "id": "B6Lu6dsRBOob",
    "outputId": "c0876cb4-a9c5-47e1-802f-5dfb37bfd9a2"
   },
   "outputs": [
    {
     "name": "stdout",
     "output_type": "stream",
     "text": [
      "(434542, 12)\n"
     ]
    },
    {
     "data": {
      "text/plain": [
       "year             0.000000\n",
       "manufacturer     3.646138\n",
       "condition       36.860649\n",
       "cylinders       28.306355\n",
       "fuel             0.839505\n",
       "title_status     0.662997\n",
       "transmission     0.989087\n",
       "drive           13.280189\n",
       "size            58.133621\n",
       "type            11.566661\n",
       "paint_color     19.734571\n",
       "price            0.000000\n",
       "dtype: float64"
      ]
     },
     "execution_count": 3,
     "metadata": {
      "tags": []
     },
     "output_type": "execute_result"
    }
   ],
   "source": [
    "print(cars.shape)\n",
    "100*cars.isnull().sum()/cars.shape[0]"
   ]
  },
  {
   "cell_type": "code",
   "execution_count": 4,
   "metadata": {
    "colab": {
     "base_uri": "https://localhost:8080/"
    },
    "id": "8cYAAJxXBr2b",
    "outputId": "d557a3ac-2d87-49cd-f477-9298ba7c827b"
   },
   "outputs": [
    {
     "name": "stdout",
     "output_type": "stream",
     "text": [
      "Tipos de variables 0\n",
      "int64      2\n",
      "object    10\n",
      "dtype: int64\n",
      "                   0\n",
      "year           int64\n",
      "manufacturer  object\n",
      "condition     object\n",
      "cylinders     object\n",
      "fuel          object\n",
      "title_status  object\n",
      "transmission  object\n",
      "drive         object\n",
      "size          object\n",
      "type          object\n",
      "paint_color   object\n",
      "price          int64\n"
     ]
    }
   ],
   "source": [
    "types = pd.DataFrame(cars.dtypes)\n",
    "print(\"Tipos de variables\",types.groupby(0).size())\n",
    "print(types)"
   ]
  },
  {
   "cell_type": "code",
   "execution_count": 5,
   "metadata": {
    "colab": {
     "base_uri": "https://localhost:8080/"
    },
    "id": "07gsnrCtHL7e",
    "outputId": "51aea724-4c6d-48c2-ed21-eb4ac677f1e9"
   },
   "outputs": [
    {
     "name": "stdout",
     "output_type": "stream",
     "text": [
      "La variable manufacturer contiene: 43 valores diferentes\n",
      "La variable condition contiene: 7 valores diferentes\n",
      "La variable cylinders contiene: 9 valores diferentes\n",
      "La variable fuel contiene: 6 valores diferentes\n",
      "La variable title_status contiene: 7 valores diferentes\n",
      "La variable transmission contiene: 4 valores diferentes\n",
      "La variable drive contiene: 4 valores diferentes\n",
      "La variable size contiene: 5 valores diferentes\n",
      "La variable type contiene: 14 valores diferentes\n",
      "La variable paint_color contiene: 13 valores diferentes\n"
     ]
    }
   ],
   "source": [
    "categoricas = types.index[types[0] == 'O'].values     #muestra una lista con el nombre de las columnas tipo srt\n",
    "for line in categoricas:\n",
    " print(\"La variable \"+ line +\" contiene:\",str(len(cars[line].unique()))+\" valores diferentes\")"
   ]
  },
  {
   "cell_type": "markdown",
   "metadata": {
    "id": "uoA4GZZwJlev"
   },
   "source": [
    "La idea hasta aquí es poder establecer que técnicas de imputación son posibles hasta aquí, considerando la cantidad de valores nulos."
   ]
  },
  {
   "cell_type": "code",
   "execution_count": 6,
   "metadata": {
    "colab": {
     "base_uri": "https://localhost:8080/"
    },
    "id": "uYilrpGZHgWe",
    "outputId": "3d7e2cd0-0c53-4a0c-8683-84adfb372fcc"
   },
   "outputs": [
    {
     "name": "stdout",
     "output_type": "stream",
     "text": [
      "Distribución de  manufacturer : \n",
      " ford               17.966273\n",
      "chevrolet          14.873591\n",
      "toyota              7.667383\n",
      "nissan              5.094789\n",
      "honda               5.086045\n",
      "jeep                4.915060\n",
      "ram                 4.827381\n",
      "gmc                 4.297628\n",
      "dodge               3.775699\n",
      "bmw                 2.687887\n",
      "hyundai             2.462133\n",
      "subaru              2.127988\n",
      "mercedes-benz       2.062401\n",
      "volkswagen          2.023280\n",
      "chrysler            1.783947\n",
      "kia                 1.712378\n",
      "cadillac            1.504343\n",
      "buick               1.329906\n",
      "lexus               1.304592\n",
      "mazda               1.288023\n",
      "audi                1.187917\n",
      "acura               0.865509\n",
      "infiniti            0.783814\n",
      "pontiac             0.766784\n",
      "lincoln             0.685319\n",
      "volvo               0.590507\n",
      "mitsubishi          0.550004\n",
      "mini                0.441154\n",
      "rover               0.433330\n",
      "mercury             0.412848\n",
      "saturn              0.377639\n",
      "jaguar              0.226906\n",
      "fiat                0.153265\n",
      "harley-davidson     0.036590\n",
      "datsun              0.018640\n",
      "alfa-romeo          0.018640\n",
      "land rover          0.005063\n",
      "aston-martin        0.004142\n",
      "porche              0.003452\n",
      "ferrari             0.001151\n",
      "morgan              0.000230\n",
      "hennessey           0.000230\n",
      "Name: manufacturer, dtype: float64 \n",
      "\n",
      "Distribución de  condition : \n",
      " excellent    30.126432\n",
      "good         23.442843\n",
      "like new      6.345532\n",
      "fair          2.811926\n",
      "new           0.223914\n",
      "salvage       0.188704\n",
      "Name: condition, dtype: float64 \n",
      "\n",
      "Distribución de  cylinders : \n",
      " 6 cylinders     26.003700\n",
      "8 cylinders     22.150908\n",
      "4 cylinders     21.977622\n",
      "5 cylinders      0.662307\n",
      "10 cylinders     0.418602\n",
      "other            0.333685\n",
      "3 cylinders      0.117595\n",
      "12 cylinders     0.029226\n",
      "Name: cylinders, dtype: float64 \n",
      "\n",
      "Distribución de  fuel : \n",
      " gas         87.363247\n",
      "diesel       7.323573\n",
      "other        3.458814\n",
      "hybrid       0.860676\n",
      "electric     0.154185\n",
      "Name: fuel, dtype: float64 \n",
      "\n",
      "Distribución de  title_status : \n",
      " clean         95.473855\n",
      "rebuilt        1.893948\n",
      "salvage        0.992309\n",
      "lien           0.801994\n",
      "missing        0.147282\n",
      "parts only     0.027615\n",
      "Name: title_status, dtype: float64 \n",
      "\n",
      "Distribución de  transmission : \n",
      " automatic    88.616060\n",
      "manual        7.696609\n",
      "other         2.698243\n",
      "Name: transmission, dtype: float64 \n",
      "\n",
      "Distribución de  drive : \n",
      " 4wd    38.471540\n",
      "fwd    30.738801\n",
      "rwd    17.509470\n",
      "Name: drive, dtype: float64 \n",
      "\n",
      "Distribución de  size : \n",
      " full-size      21.924233\n",
      "mid-size       12.277294\n",
      "compact         6.618923\n",
      "sub-compact     1.045929\n",
      "Name: size, dtype: float64 \n",
      "\n",
      "Distribución de  type : \n",
      " sedan          22.850265\n",
      "SUV            22.407961\n",
      "pickup         11.318354\n",
      "truck          10.611632\n",
      "coupe           5.145417\n",
      "hatchback       3.212578\n",
      "other           3.179209\n",
      "wagon           2.757386\n",
      "convertible     2.474790\n",
      "van             2.297822\n",
      "mini-van        1.799136\n",
      "offroad         0.227366\n",
      "bus             0.151424\n",
      "Name: type, dtype: float64 \n",
      "\n",
      "Distribución de  paint_color : \n",
      " white     19.579005\n",
      "black     16.460089\n",
      "silver    11.873421\n",
      "blue       8.432096\n",
      "red        8.342347\n",
      "grey       7.617676\n",
      "green      2.405981\n",
      "custom     2.297822\n",
      "brown      1.835956\n",
      "yellow     0.690842\n",
      "orange     0.515485\n",
      "purple     0.214709\n",
      "Name: paint_color, dtype: float64 \n",
      "\n"
     ]
    }
   ],
   "source": [
    "for i in categoricas:\n",
    "    print(\"Distribución de \",i,\": \\n\", 100*cars[i].value_counts()/cars.shape[0],\"\\n\")"
   ]
  },
  {
   "cell_type": "markdown",
   "metadata": {
    "id": "B9_dNCTum1Hw"
   },
   "source": [
    "<h1 id=\"ingenieria\">Ingeniería de datos</h1>\n",
    "\n",
    "Ahora se debe preparar la información para poder alimentar la red neuronal."
   ]
  },
  {
   "cell_type": "markdown",
   "metadata": {
    "id": "vRCjvmPz63n7"
   },
   "source": [
    "### 2. Tratamiento de información nula en las variables cuya tasa de nulos sea máximo el 10%"
   ]
  },
  {
   "cell_type": "code",
   "execution_count": 7,
   "metadata": {
    "colab": {
     "base_uri": "https://localhost:8080/"
    },
    "id": "hVNrQiqFO78K",
    "outputId": "2fac9bbb-eea0-4d2d-ad06-7d5ef4961aa6"
   },
   "outputs": [
    {
     "data": {
      "text/plain": [
       "year             0.000000\n",
       "manufacturer     3.646138\n",
       "condition       36.860649\n",
       "cylinders       28.306355\n",
       "fuel             0.000000\n",
       "title_status     0.662997\n",
       "transmission     0.989087\n",
       "drive           13.280189\n",
       "size            58.133621\n",
       "type            11.566661\n",
       "paint_color     19.734571\n",
       "price            0.000000\n",
       "dtype: float64"
      ]
     },
     "execution_count": 7,
     "metadata": {
      "tags": []
     },
     "output_type": "execute_result"
    }
   ],
   "source": [
    "#Reemplazamos el tipo de actividad por la moda \n",
    "cars[\"fuel\"] = cars[\"fuel\"].fillna(cars[\"fuel\"].mode()[0])                 #Usare el tipo de combustible,   fillna: para llenado de valores nulos\n",
    "\n",
    "100*cars.isnull().sum()/cars.shape[0]                                      #100*cars.isnull().sum()/cars.shape[0]                                                 "
   ]
  },
  {
   "cell_type": "code",
   "execution_count": 8,
   "metadata": {
    "colab": {
     "base_uri": "https://localhost:8080/"
    },
    "id": "QY-0JnojJlez",
    "outputId": "a8ef23ba-eeb2-4922-e27e-c3d1d55b6aa7"
   },
   "outputs": [
    {
     "data": {
      "text/plain": [
       "year             0.000000\n",
       "manufacturer     0.000000\n",
       "condition       36.860649\n",
       "cylinders       28.306355\n",
       "fuel             0.000000\n",
       "title_status     0.000000\n",
       "transmission     0.000000\n",
       "drive           13.280189\n",
       "size            58.133621\n",
       "type            11.566661\n",
       "paint_color     19.734571\n",
       "price            0.000000\n",
       "dtype: float64"
      ]
     },
     "execution_count": 8,
     "metadata": {
      "tags": []
     },
     "output_type": "execute_result"
    }
   ],
   "source": [
    "cars[\"title_status\"] = cars[\"title_status\"].fillna(cars[\"title_status\"].mode()[0])\n",
    "cars[\"transmission\"] = cars[\"transmission\"].fillna(cars[\"transmission\"].mode()[0])\n",
    "cars[\"manufacturer\"] = cars[\"manufacturer\"].fillna(cars[\"manufacturer\"].mode()[0])\n",
    "\n",
    "#Verificamos el cambio\n",
    "100*cars.isnull().sum()/cars.shape[0]"
   ]
  },
  {
   "cell_type": "code",
   "execution_count": 9,
   "metadata": {
    "id": "KrevOPa8QT3f"
   },
   "outputs": [],
   "source": [
    "#cars=cars[['year','manufacturer', 'condition', 'cylinders','fuel', 'title_status', 'transmission', 'type', 'paint_color','price']]\r\n"
   ]
  },
  {
   "cell_type": "markdown",
   "metadata": {
    "id": "CtshbEQa7aRW"
   },
   "source": [
    "Hasta este punto ya se ha mitigado el problemas de valores nulos (en variables numéricas) haciendo imputación por la moda.\n",
    "\n",
    "### De categoricas a numéricas (de object a int64 )\n",
    "Luego del procedimiento anterior se debe proceder a convertir las variables categoricas en variables numericas. Puede implementarse un método como el One Hot Encoding disponible en Scikit Learn. Sin embargo, usarremos una funcionalidad embedida en Pandas denominada [\"get_dummies\"](https://pandas.pydata.org/pandas-docs/stable/reference/api/pandas.get_dummies.html):"
   ]
  },
  {
   "cell_type": "code",
   "execution_count": 10,
   "metadata": {
    "id": "vnGvwPI-QwE9"
   },
   "outputs": [],
   "source": [
    "#categoricas = cars.columns\r\n",
    "#categoricas"
   ]
  },
  {
   "cell_type": "code",
   "execution_count": 11,
   "metadata": {
    "colab": {
     "base_uri": "https://localhost:8080/",
     "height": 225
    },
    "id": "ZEtEYD5DS1iI",
    "outputId": "c60c6f08-0401-4c13-9c4d-d80f0c5874a7"
   },
   "outputs": [
    {
     "name": "stdout",
     "output_type": "stream",
     "text": [
      "(434542, 100)\n"
     ]
    },
    {
     "data": {
      "text/html": [
       "<div>\n",
       "<style scoped>\n",
       "    .dataframe tbody tr th:only-of-type {\n",
       "        vertical-align: middle;\n",
       "    }\n",
       "\n",
       "    .dataframe tbody tr th {\n",
       "        vertical-align: top;\n",
       "    }\n",
       "\n",
       "    .dataframe thead th {\n",
       "        text-align: right;\n",
       "    }\n",
       "</style>\n",
       "<table border=\"1\" class=\"dataframe\">\n",
       "  <thead>\n",
       "    <tr style=\"text-align: right;\">\n",
       "      <th></th>\n",
       "      <th>year</th>\n",
       "      <th>price</th>\n",
       "      <th>acura</th>\n",
       "      <th>alfa-romeo</th>\n",
       "      <th>aston-martin</th>\n",
       "      <th>audi</th>\n",
       "      <th>bmw</th>\n",
       "      <th>buick</th>\n",
       "      <th>cadillac</th>\n",
       "      <th>chevrolet</th>\n",
       "      <th>chrysler</th>\n",
       "      <th>datsun</th>\n",
       "      <th>dodge</th>\n",
       "      <th>ferrari</th>\n",
       "      <th>fiat</th>\n",
       "      <th>ford</th>\n",
       "      <th>gmc</th>\n",
       "      <th>harley-davidson</th>\n",
       "      <th>hennessey</th>\n",
       "      <th>honda</th>\n",
       "      <th>hyundai</th>\n",
       "      <th>infiniti</th>\n",
       "      <th>jaguar</th>\n",
       "      <th>jeep</th>\n",
       "      <th>kia</th>\n",
       "      <th>land rover</th>\n",
       "      <th>lexus</th>\n",
       "      <th>lincoln</th>\n",
       "      <th>mazda</th>\n",
       "      <th>mercedes-benz</th>\n",
       "      <th>mercury</th>\n",
       "      <th>mini</th>\n",
       "      <th>mitsubishi</th>\n",
       "      <th>morgan</th>\n",
       "      <th>nissan</th>\n",
       "      <th>pontiac</th>\n",
       "      <th>porche</th>\n",
       "      <th>ram</th>\n",
       "      <th>rover</th>\n",
       "      <th>saturn</th>\n",
       "      <th>...</th>\n",
       "      <th>hybrid</th>\n",
       "      <th>clean</th>\n",
       "      <th>lien</th>\n",
       "      <th>missing</th>\n",
       "      <th>parts only</th>\n",
       "      <th>rebuilt</th>\n",
       "      <th>salvage</th>\n",
       "      <th>automatic</th>\n",
       "      <th>manual</th>\n",
       "      <th>4wd</th>\n",
       "      <th>fwd</th>\n",
       "      <th>rwd</th>\n",
       "      <th>compact</th>\n",
       "      <th>full-size</th>\n",
       "      <th>mid-size</th>\n",
       "      <th>sub-compact</th>\n",
       "      <th>SUV</th>\n",
       "      <th>bus</th>\n",
       "      <th>convertible</th>\n",
       "      <th>coupe</th>\n",
       "      <th>hatchback</th>\n",
       "      <th>mini-van</th>\n",
       "      <th>offroad</th>\n",
       "      <th>pickup</th>\n",
       "      <th>sedan</th>\n",
       "      <th>truck</th>\n",
       "      <th>van</th>\n",
       "      <th>wagon</th>\n",
       "      <th>black</th>\n",
       "      <th>blue</th>\n",
       "      <th>brown</th>\n",
       "      <th>custom</th>\n",
       "      <th>green</th>\n",
       "      <th>grey</th>\n",
       "      <th>orange</th>\n",
       "      <th>purple</th>\n",
       "      <th>red</th>\n",
       "      <th>silver</th>\n",
       "      <th>white</th>\n",
       "      <th>yellow</th>\n",
       "    </tr>\n",
       "  </thead>\n",
       "  <tbody>\n",
       "    <tr>\n",
       "      <th>0</th>\n",
       "      <td>2009</td>\n",
       "      <td>9000</td>\n",
       "      <td>0</td>\n",
       "      <td>0</td>\n",
       "      <td>0</td>\n",
       "      <td>0</td>\n",
       "      <td>0</td>\n",
       "      <td>0</td>\n",
       "      <td>0</td>\n",
       "      <td>1</td>\n",
       "      <td>0</td>\n",
       "      <td>0</td>\n",
       "      <td>0</td>\n",
       "      <td>0</td>\n",
       "      <td>0</td>\n",
       "      <td>0</td>\n",
       "      <td>0</td>\n",
       "      <td>0</td>\n",
       "      <td>0</td>\n",
       "      <td>0</td>\n",
       "      <td>0</td>\n",
       "      <td>0</td>\n",
       "      <td>0</td>\n",
       "      <td>0</td>\n",
       "      <td>0</td>\n",
       "      <td>0</td>\n",
       "      <td>0</td>\n",
       "      <td>0</td>\n",
       "      <td>0</td>\n",
       "      <td>0</td>\n",
       "      <td>0</td>\n",
       "      <td>0</td>\n",
       "      <td>0</td>\n",
       "      <td>0</td>\n",
       "      <td>0</td>\n",
       "      <td>0</td>\n",
       "      <td>0</td>\n",
       "      <td>0</td>\n",
       "      <td>0</td>\n",
       "      <td>0</td>\n",
       "      <td>...</td>\n",
       "      <td>0</td>\n",
       "      <td>1</td>\n",
       "      <td>0</td>\n",
       "      <td>0</td>\n",
       "      <td>0</td>\n",
       "      <td>0</td>\n",
       "      <td>0</td>\n",
       "      <td>1</td>\n",
       "      <td>0</td>\n",
       "      <td>0</td>\n",
       "      <td>0</td>\n",
       "      <td>1</td>\n",
       "      <td>0</td>\n",
       "      <td>1</td>\n",
       "      <td>0</td>\n",
       "      <td>0</td>\n",
       "      <td>1</td>\n",
       "      <td>0</td>\n",
       "      <td>0</td>\n",
       "      <td>0</td>\n",
       "      <td>0</td>\n",
       "      <td>0</td>\n",
       "      <td>0</td>\n",
       "      <td>0</td>\n",
       "      <td>0</td>\n",
       "      <td>0</td>\n",
       "      <td>0</td>\n",
       "      <td>0</td>\n",
       "      <td>0</td>\n",
       "      <td>0</td>\n",
       "      <td>0</td>\n",
       "      <td>0</td>\n",
       "      <td>0</td>\n",
       "      <td>0</td>\n",
       "      <td>0</td>\n",
       "      <td>0</td>\n",
       "      <td>0</td>\n",
       "      <td>0</td>\n",
       "      <td>1</td>\n",
       "      <td>0</td>\n",
       "    </tr>\n",
       "    <tr>\n",
       "      <th>1</th>\n",
       "      <td>2002</td>\n",
       "      <td>6000</td>\n",
       "      <td>0</td>\n",
       "      <td>0</td>\n",
       "      <td>0</td>\n",
       "      <td>0</td>\n",
       "      <td>0</td>\n",
       "      <td>0</td>\n",
       "      <td>0</td>\n",
       "      <td>0</td>\n",
       "      <td>0</td>\n",
       "      <td>0</td>\n",
       "      <td>0</td>\n",
       "      <td>0</td>\n",
       "      <td>0</td>\n",
       "      <td>0</td>\n",
       "      <td>1</td>\n",
       "      <td>0</td>\n",
       "      <td>0</td>\n",
       "      <td>0</td>\n",
       "      <td>0</td>\n",
       "      <td>0</td>\n",
       "      <td>0</td>\n",
       "      <td>0</td>\n",
       "      <td>0</td>\n",
       "      <td>0</td>\n",
       "      <td>0</td>\n",
       "      <td>0</td>\n",
       "      <td>0</td>\n",
       "      <td>0</td>\n",
       "      <td>0</td>\n",
       "      <td>0</td>\n",
       "      <td>0</td>\n",
       "      <td>0</td>\n",
       "      <td>0</td>\n",
       "      <td>0</td>\n",
       "      <td>0</td>\n",
       "      <td>0</td>\n",
       "      <td>0</td>\n",
       "      <td>0</td>\n",
       "      <td>...</td>\n",
       "      <td>0</td>\n",
       "      <td>1</td>\n",
       "      <td>0</td>\n",
       "      <td>0</td>\n",
       "      <td>0</td>\n",
       "      <td>0</td>\n",
       "      <td>0</td>\n",
       "      <td>1</td>\n",
       "      <td>0</td>\n",
       "      <td>1</td>\n",
       "      <td>0</td>\n",
       "      <td>0</td>\n",
       "      <td>0</td>\n",
       "      <td>0</td>\n",
       "      <td>0</td>\n",
       "      <td>0</td>\n",
       "      <td>0</td>\n",
       "      <td>0</td>\n",
       "      <td>0</td>\n",
       "      <td>0</td>\n",
       "      <td>0</td>\n",
       "      <td>0</td>\n",
       "      <td>0</td>\n",
       "      <td>1</td>\n",
       "      <td>0</td>\n",
       "      <td>0</td>\n",
       "      <td>0</td>\n",
       "      <td>0</td>\n",
       "      <td>0</td>\n",
       "      <td>0</td>\n",
       "      <td>0</td>\n",
       "      <td>0</td>\n",
       "      <td>0</td>\n",
       "      <td>0</td>\n",
       "      <td>0</td>\n",
       "      <td>0</td>\n",
       "      <td>0</td>\n",
       "      <td>0</td>\n",
       "      <td>1</td>\n",
       "      <td>0</td>\n",
       "    </tr>\n",
       "    <tr>\n",
       "      <th>2</th>\n",
       "      <td>2007</td>\n",
       "      <td>7000</td>\n",
       "      <td>0</td>\n",
       "      <td>0</td>\n",
       "      <td>0</td>\n",
       "      <td>0</td>\n",
       "      <td>0</td>\n",
       "      <td>0</td>\n",
       "      <td>0</td>\n",
       "      <td>0</td>\n",
       "      <td>0</td>\n",
       "      <td>0</td>\n",
       "      <td>0</td>\n",
       "      <td>0</td>\n",
       "      <td>0</td>\n",
       "      <td>0</td>\n",
       "      <td>0</td>\n",
       "      <td>0</td>\n",
       "      <td>0</td>\n",
       "      <td>0</td>\n",
       "      <td>0</td>\n",
       "      <td>0</td>\n",
       "      <td>0</td>\n",
       "      <td>0</td>\n",
       "      <td>0</td>\n",
       "      <td>0</td>\n",
       "      <td>0</td>\n",
       "      <td>0</td>\n",
       "      <td>0</td>\n",
       "      <td>0</td>\n",
       "      <td>0</td>\n",
       "      <td>0</td>\n",
       "      <td>0</td>\n",
       "      <td>0</td>\n",
       "      <td>0</td>\n",
       "      <td>1</td>\n",
       "      <td>0</td>\n",
       "      <td>0</td>\n",
       "      <td>0</td>\n",
       "      <td>0</td>\n",
       "      <td>...</td>\n",
       "      <td>0</td>\n",
       "      <td>1</td>\n",
       "      <td>0</td>\n",
       "      <td>0</td>\n",
       "      <td>0</td>\n",
       "      <td>0</td>\n",
       "      <td>0</td>\n",
       "      <td>1</td>\n",
       "      <td>0</td>\n",
       "      <td>0</td>\n",
       "      <td>1</td>\n",
       "      <td>0</td>\n",
       "      <td>1</td>\n",
       "      <td>0</td>\n",
       "      <td>0</td>\n",
       "      <td>0</td>\n",
       "      <td>0</td>\n",
       "      <td>0</td>\n",
       "      <td>1</td>\n",
       "      <td>0</td>\n",
       "      <td>0</td>\n",
       "      <td>0</td>\n",
       "      <td>0</td>\n",
       "      <td>0</td>\n",
       "      <td>0</td>\n",
       "      <td>0</td>\n",
       "      <td>0</td>\n",
       "      <td>0</td>\n",
       "      <td>0</td>\n",
       "      <td>0</td>\n",
       "      <td>0</td>\n",
       "      <td>0</td>\n",
       "      <td>0</td>\n",
       "      <td>0</td>\n",
       "      <td>0</td>\n",
       "      <td>0</td>\n",
       "      <td>1</td>\n",
       "      <td>0</td>\n",
       "      <td>0</td>\n",
       "      <td>0</td>\n",
       "    </tr>\n",
       "  </tbody>\n",
       "</table>\n",
       "<p>3 rows × 100 columns</p>\n",
       "</div>"
      ],
      "text/plain": [
       "   year  price  acura  alfa-romeo  ...  red  silver  white  yellow\n",
       "0  2009   9000      0           0  ...    0       0      1       0\n",
       "1  2002   6000      0           0  ...    0       0      1       0\n",
       "2  2007   7000      0           0  ...    1       0      0       0\n",
       "\n",
       "[3 rows x 100 columns]"
      ]
     },
     "execution_count": 11,
     "metadata": {
      "tags": []
     },
     "output_type": "execute_result"
    }
   ],
   "source": [
    "df= cars.copy()\n",
    "for col in categoricas:\n",
    "    df = pd.concat([df, (pd.get_dummies(df[col])).astype(int)], axis=1)\n",
    "    df.drop(columns=[col],inplace=True)\n",
    "    \n",
    "    \n",
    "#Al crear las variables dummies se crean varias columnas referentes a categorias\n",
    "# 'other' que no aportan ningún valor al dataset por lo cual las eliminamos\n",
    "df.drop('other', axis=1, inplace=True)   #la variable other no nos aporta información, se procede a eliminar tal variable\n",
    "print(df.shape)\n",
    "df.head(3)"
   ]
  },
  {
   "cell_type": "markdown",
   "metadata": {
    "id": "6Ax7aI9HJle1"
   },
   "source": [
    "Se obtiene un dataset con 100 columas. Observemos ahora si todas las variables son tipo entero:"
   ]
  },
  {
   "cell_type": "code",
   "execution_count": 12,
   "metadata": {
    "colab": {
     "base_uri": "https://localhost:8080/"
    },
    "id": "5Iesa56hVz8s",
    "outputId": "19c74e3e-7879-49f0-f8d8-ab9fd3b21508"
   },
   "outputs": [
    {
     "name": "stdout",
     "output_type": "stream",
     "text": [
      "Tipos de variables 0\n",
      "int64    100\n",
      "dtype: int64\n"
     ]
    }
   ],
   "source": [
    "types = pd.DataFrame(df.dtypes)\n",
    "print(\"Tipos de variables\",types.groupby(0).size())"
   ]
  },
  {
   "cell_type": "code",
   "execution_count": 13,
   "metadata": {
    "id": "wEnVdwFTJle2"
   },
   "outputs": [],
   "source": [
    "df = df.astype({col: 'int32' for col in df.select_dtypes('int64').columns})\n",
    "#df.dtypes"
   ]
  },
  {
   "cell_type": "code",
   "execution_count": 14,
   "metadata": {
    "colab": {
     "base_uri": "https://localhost:8080/"
    },
    "id": "Ibf4ZKXVJle3",
    "outputId": "88aa6bac-eae0-4576-97b1-b454a60a51e7"
   },
   "outputs": [
    {
     "data": {
      "text/plain": [
       "year            int32\n",
       "price           int32\n",
       "acura           int32\n",
       "alfa-romeo      int32\n",
       "aston-martin    int32\n",
       "                ...  \n",
       "purple          int32\n",
       "red             int32\n",
       "silver          int32\n",
       "white           int32\n",
       "yellow          int32\n",
       "Length: 100, dtype: object"
      ]
     },
     "execution_count": 14,
     "metadata": {
      "tags": []
     },
     "output_type": "execute_result"
    }
   ],
   "source": [
    "df.dtypes"
   ]
  },
  {
   "cell_type": "code",
   "execution_count": 15,
   "metadata": {
    "colab": {
     "base_uri": "https://localhost:8080/"
    },
    "id": "3uJbx15CJle3",
    "outputId": "f944226b-c59a-452f-b981-921c1b037b74"
   },
   "outputs": [
    {
     "name": "stdout",
     "output_type": "stream",
     "text": [
      "Tipos de variables 0\n",
      "int32    100\n",
      "dtype: int64\n"
     ]
    }
   ],
   "source": [
    "types = pd.DataFrame(df.dtypes)\n",
    "print(\"Tipos de variables\",types.groupby(0).size())"
   ]
  },
  {
   "cell_type": "markdown",
   "metadata": {
    "id": "inZW60yLJle4"
   },
   "source": [
    "Especificando las features y la variable **respuesta**, para luego proceder a separar datos."
   ]
  },
  {
   "cell_type": "code",
   "execution_count": 16,
   "metadata": {
    "colab": {
     "base_uri": "https://localhost:8080/",
     "height": 208
    },
    "id": "d-Isxxj2wzPX",
    "outputId": "2d2b3e45-6b2d-4b2a-ea15-a6d0a0b54ca9"
   },
   "outputs": [
    {
     "data": {
      "text/html": [
       "<div>\n",
       "<style scoped>\n",
       "    .dataframe tbody tr th:only-of-type {\n",
       "        vertical-align: middle;\n",
       "    }\n",
       "\n",
       "    .dataframe tbody tr th {\n",
       "        vertical-align: top;\n",
       "    }\n",
       "\n",
       "    .dataframe thead th {\n",
       "        text-align: right;\n",
       "    }\n",
       "</style>\n",
       "<table border=\"1\" class=\"dataframe\">\n",
       "  <thead>\n",
       "    <tr style=\"text-align: right;\">\n",
       "      <th></th>\n",
       "      <th>5 cylinders</th>\n",
       "      <th>white</th>\n",
       "      <th>green</th>\n",
       "      <th>audi</th>\n",
       "      <th>lexus</th>\n",
       "      <th>mitsubishi</th>\n",
       "      <th>brown</th>\n",
       "      <th>black</th>\n",
       "      <th>gmc</th>\n",
       "      <th>mercury</th>\n",
       "      <th>electric</th>\n",
       "      <th>full-size</th>\n",
       "      <th>salvage</th>\n",
       "      <th>salvage</th>\n",
       "      <th>land rover</th>\n",
       "      <th>ford</th>\n",
       "      <th>yellow</th>\n",
       "      <th>custom</th>\n",
       "      <th>hybrid</th>\n",
       "      <th>8 cylinders</th>\n",
       "      <th>3 cylinders</th>\n",
       "      <th>like new</th>\n",
       "      <th>new</th>\n",
       "      <th>bus</th>\n",
       "      <th>convertible</th>\n",
       "      <th>van</th>\n",
       "      <th>mini-van</th>\n",
       "      <th>blue</th>\n",
       "      <th>good</th>\n",
       "      <th>purple</th>\n",
       "      <th>4wd</th>\n",
       "      <th>12 cylinders</th>\n",
       "      <th>rover</th>\n",
       "      <th>ram</th>\n",
       "      <th>excellent</th>\n",
       "      <th>porche</th>\n",
       "      <th>rebuilt</th>\n",
       "      <th>lincoln</th>\n",
       "      <th>compact</th>\n",
       "      <th>truck</th>\n",
       "      <th>...</th>\n",
       "      <th>hatchback</th>\n",
       "      <th>sedan</th>\n",
       "      <th>subaru</th>\n",
       "      <th>nissan</th>\n",
       "      <th>6 cylinders</th>\n",
       "      <th>diesel</th>\n",
       "      <th>automatic</th>\n",
       "      <th>hyundai</th>\n",
       "      <th>coupe</th>\n",
       "      <th>aston-martin</th>\n",
       "      <th>lien</th>\n",
       "      <th>SUV</th>\n",
       "      <th>saturn</th>\n",
       "      <th>datsun</th>\n",
       "      <th>mazda</th>\n",
       "      <th>infiniti</th>\n",
       "      <th>missing</th>\n",
       "      <th>harley-davidson</th>\n",
       "      <th>gas</th>\n",
       "      <th>fair</th>\n",
       "      <th>chevrolet</th>\n",
       "      <th>jeep</th>\n",
       "      <th>morgan</th>\n",
       "      <th>red</th>\n",
       "      <th>pontiac</th>\n",
       "      <th>hennessey</th>\n",
       "      <th>clean</th>\n",
       "      <th>cadillac</th>\n",
       "      <th>4 cylinders</th>\n",
       "      <th>mini</th>\n",
       "      <th>silver</th>\n",
       "      <th>volkswagen</th>\n",
       "      <th>buick</th>\n",
       "      <th>bmw</th>\n",
       "      <th>toyota</th>\n",
       "      <th>10 cylinders</th>\n",
       "      <th>fwd</th>\n",
       "      <th>ferrari</th>\n",
       "      <th>parts only</th>\n",
       "      <th>alfa-romeo</th>\n",
       "    </tr>\n",
       "  </thead>\n",
       "  <tbody>\n",
       "    <tr>\n",
       "      <th>0</th>\n",
       "      <td>0</td>\n",
       "      <td>1</td>\n",
       "      <td>0</td>\n",
       "      <td>0</td>\n",
       "      <td>0</td>\n",
       "      <td>0</td>\n",
       "      <td>0</td>\n",
       "      <td>0</td>\n",
       "      <td>0</td>\n",
       "      <td>0</td>\n",
       "      <td>0</td>\n",
       "      <td>1</td>\n",
       "      <td>0</td>\n",
       "      <td>0</td>\n",
       "      <td>0</td>\n",
       "      <td>0</td>\n",
       "      <td>0</td>\n",
       "      <td>0</td>\n",
       "      <td>0</td>\n",
       "      <td>1</td>\n",
       "      <td>0</td>\n",
       "      <td>0</td>\n",
       "      <td>0</td>\n",
       "      <td>0</td>\n",
       "      <td>0</td>\n",
       "      <td>0</td>\n",
       "      <td>0</td>\n",
       "      <td>0</td>\n",
       "      <td>1</td>\n",
       "      <td>0</td>\n",
       "      <td>0</td>\n",
       "      <td>0</td>\n",
       "      <td>0</td>\n",
       "      <td>0</td>\n",
       "      <td>0</td>\n",
       "      <td>0</td>\n",
       "      <td>0</td>\n",
       "      <td>0</td>\n",
       "      <td>0</td>\n",
       "      <td>0</td>\n",
       "      <td>...</td>\n",
       "      <td>0</td>\n",
       "      <td>0</td>\n",
       "      <td>0</td>\n",
       "      <td>0</td>\n",
       "      <td>0</td>\n",
       "      <td>0</td>\n",
       "      <td>1</td>\n",
       "      <td>0</td>\n",
       "      <td>0</td>\n",
       "      <td>0</td>\n",
       "      <td>0</td>\n",
       "      <td>1</td>\n",
       "      <td>0</td>\n",
       "      <td>0</td>\n",
       "      <td>0</td>\n",
       "      <td>0</td>\n",
       "      <td>0</td>\n",
       "      <td>0</td>\n",
       "      <td>1</td>\n",
       "      <td>0</td>\n",
       "      <td>1</td>\n",
       "      <td>0</td>\n",
       "      <td>0</td>\n",
       "      <td>0</td>\n",
       "      <td>0</td>\n",
       "      <td>0</td>\n",
       "      <td>1</td>\n",
       "      <td>0</td>\n",
       "      <td>0</td>\n",
       "      <td>0</td>\n",
       "      <td>0</td>\n",
       "      <td>0</td>\n",
       "      <td>0</td>\n",
       "      <td>0</td>\n",
       "      <td>0</td>\n",
       "      <td>0</td>\n",
       "      <td>0</td>\n",
       "      <td>0</td>\n",
       "      <td>0</td>\n",
       "      <td>0</td>\n",
       "    </tr>\n",
       "    <tr>\n",
       "      <th>1</th>\n",
       "      <td>0</td>\n",
       "      <td>1</td>\n",
       "      <td>0</td>\n",
       "      <td>0</td>\n",
       "      <td>0</td>\n",
       "      <td>0</td>\n",
       "      <td>0</td>\n",
       "      <td>0</td>\n",
       "      <td>1</td>\n",
       "      <td>0</td>\n",
       "      <td>0</td>\n",
       "      <td>0</td>\n",
       "      <td>0</td>\n",
       "      <td>0</td>\n",
       "      <td>0</td>\n",
       "      <td>0</td>\n",
       "      <td>0</td>\n",
       "      <td>0</td>\n",
       "      <td>0</td>\n",
       "      <td>1</td>\n",
       "      <td>0</td>\n",
       "      <td>0</td>\n",
       "      <td>0</td>\n",
       "      <td>0</td>\n",
       "      <td>0</td>\n",
       "      <td>0</td>\n",
       "      <td>0</td>\n",
       "      <td>0</td>\n",
       "      <td>1</td>\n",
       "      <td>0</td>\n",
       "      <td>1</td>\n",
       "      <td>0</td>\n",
       "      <td>0</td>\n",
       "      <td>0</td>\n",
       "      <td>0</td>\n",
       "      <td>0</td>\n",
       "      <td>0</td>\n",
       "      <td>0</td>\n",
       "      <td>0</td>\n",
       "      <td>0</td>\n",
       "      <td>...</td>\n",
       "      <td>0</td>\n",
       "      <td>0</td>\n",
       "      <td>0</td>\n",
       "      <td>0</td>\n",
       "      <td>0</td>\n",
       "      <td>0</td>\n",
       "      <td>1</td>\n",
       "      <td>0</td>\n",
       "      <td>0</td>\n",
       "      <td>0</td>\n",
       "      <td>0</td>\n",
       "      <td>0</td>\n",
       "      <td>0</td>\n",
       "      <td>0</td>\n",
       "      <td>0</td>\n",
       "      <td>0</td>\n",
       "      <td>0</td>\n",
       "      <td>0</td>\n",
       "      <td>1</td>\n",
       "      <td>0</td>\n",
       "      <td>0</td>\n",
       "      <td>0</td>\n",
       "      <td>0</td>\n",
       "      <td>0</td>\n",
       "      <td>0</td>\n",
       "      <td>0</td>\n",
       "      <td>1</td>\n",
       "      <td>0</td>\n",
       "      <td>0</td>\n",
       "      <td>0</td>\n",
       "      <td>0</td>\n",
       "      <td>0</td>\n",
       "      <td>0</td>\n",
       "      <td>0</td>\n",
       "      <td>0</td>\n",
       "      <td>0</td>\n",
       "      <td>0</td>\n",
       "      <td>0</td>\n",
       "      <td>0</td>\n",
       "      <td>0</td>\n",
       "    </tr>\n",
       "    <tr>\n",
       "      <th>2</th>\n",
       "      <td>0</td>\n",
       "      <td>0</td>\n",
       "      <td>0</td>\n",
       "      <td>0</td>\n",
       "      <td>0</td>\n",
       "      <td>0</td>\n",
       "      <td>0</td>\n",
       "      <td>0</td>\n",
       "      <td>0</td>\n",
       "      <td>0</td>\n",
       "      <td>0</td>\n",
       "      <td>0</td>\n",
       "      <td>0</td>\n",
       "      <td>0</td>\n",
       "      <td>0</td>\n",
       "      <td>0</td>\n",
       "      <td>0</td>\n",
       "      <td>0</td>\n",
       "      <td>0</td>\n",
       "      <td>0</td>\n",
       "      <td>0</td>\n",
       "      <td>0</td>\n",
       "      <td>0</td>\n",
       "      <td>0</td>\n",
       "      <td>1</td>\n",
       "      <td>0</td>\n",
       "      <td>0</td>\n",
       "      <td>0</td>\n",
       "      <td>0</td>\n",
       "      <td>0</td>\n",
       "      <td>0</td>\n",
       "      <td>0</td>\n",
       "      <td>0</td>\n",
       "      <td>0</td>\n",
       "      <td>1</td>\n",
       "      <td>0</td>\n",
       "      <td>0</td>\n",
       "      <td>0</td>\n",
       "      <td>1</td>\n",
       "      <td>0</td>\n",
       "      <td>...</td>\n",
       "      <td>0</td>\n",
       "      <td>0</td>\n",
       "      <td>0</td>\n",
       "      <td>0</td>\n",
       "      <td>0</td>\n",
       "      <td>0</td>\n",
       "      <td>1</td>\n",
       "      <td>0</td>\n",
       "      <td>0</td>\n",
       "      <td>0</td>\n",
       "      <td>0</td>\n",
       "      <td>0</td>\n",
       "      <td>0</td>\n",
       "      <td>0</td>\n",
       "      <td>0</td>\n",
       "      <td>0</td>\n",
       "      <td>0</td>\n",
       "      <td>0</td>\n",
       "      <td>1</td>\n",
       "      <td>0</td>\n",
       "      <td>0</td>\n",
       "      <td>0</td>\n",
       "      <td>0</td>\n",
       "      <td>1</td>\n",
       "      <td>1</td>\n",
       "      <td>0</td>\n",
       "      <td>1</td>\n",
       "      <td>0</td>\n",
       "      <td>1</td>\n",
       "      <td>0</td>\n",
       "      <td>0</td>\n",
       "      <td>0</td>\n",
       "      <td>0</td>\n",
       "      <td>0</td>\n",
       "      <td>0</td>\n",
       "      <td>0</td>\n",
       "      <td>1</td>\n",
       "      <td>0</td>\n",
       "      <td>0</td>\n",
       "      <td>0</td>\n",
       "    </tr>\n",
       "  </tbody>\n",
       "</table>\n",
       "<p>3 rows × 99 columns</p>\n",
       "</div>"
      ],
      "text/plain": [
       "   5 cylinders  white  green  audi  ...  fwd  ferrari  parts only  alfa-romeo\n",
       "0            0      1      0     0  ...    0        0           0           0\n",
       "1            0      1      0     0  ...    0        0           0           0\n",
       "2            0      0      0     0  ...    1        0           0           0\n",
       "\n",
       "[3 rows x 99 columns]"
      ]
     },
     "execution_count": 16,
     "metadata": {
      "tags": []
     },
     "output_type": "execute_result"
    }
   ],
   "source": [
    "numeric_columns = list(set(types.index[types[0] ==\"int32\"].values) - set([\"price\"]))   # int32   o   int64\n",
    "variables_consolidadas = df[numeric_columns] \n",
    "objetivo = df[\"price\"] #Variable objetivo de nuestra regresion.\n",
    "\n",
    "variables_consolidadas.head(3)"
   ]
  },
  {
   "cell_type": "markdown",
   "metadata": {
    "id": "mOP0z86EKrly"
   },
   "source": [
    "### 3. Separando el set de datos consolidados en 3 sets (entrenamiento, prueba y validación)"
   ]
  },
  {
   "cell_type": "code",
   "execution_count": 17,
   "metadata": {
    "colab": {
     "base_uri": "https://localhost:8080/"
    },
    "id": "Jug8ZISZQQ0X",
    "outputId": "ce721ef2-34c6-4695-8c1a-12dbe085f93f"
   },
   "outputs": [
    {
     "data": {
      "text/plain": [
       "(347633, 99)"
      ]
     },
     "execution_count": 17,
     "metadata": {
      "tags": []
     },
     "output_type": "execute_result"
    }
   ],
   "source": [
    "from sklearn.model_selection import train_test_split\n",
    "\n",
    "\n",
    "#Entrenamiento y prueba con relación 80:20\n",
    "x_train, x_test, y_train, y_test = train_test_split(variables_consolidadas,objetivo, test_size=0.2,random_state=2020)   #se especifica una semilla para ser replicable\n",
    "x_train.shape"
   ]
  },
  {
   "cell_type": "code",
   "execution_count": 18,
   "metadata": {
    "colab": {
     "base_uri": "https://localhost:8080/"
    },
    "id": "9OcCB7SJJle6",
    "outputId": "a194e663-e538-40b5-a940-2f10507766ec"
   },
   "outputs": [
    {
     "data": {
      "text/plain": [
       "(312869, 99)"
      ]
     },
     "execution_count": 18,
     "metadata": {
      "tags": []
     },
     "output_type": "execute_result"
    }
   ],
   "source": [
    "#Entrenamiento y validación con relación 90:10\n",
    "x_train, x_val, y_train, y_val = train_test_split(x_train,y_train, test_size=0.1, random_state=2020)\n",
    "x_train.shape"
   ]
  },
  {
   "cell_type": "code",
   "execution_count": 19,
   "metadata": {
    "colab": {
     "base_uri": "https://localhost:8080/"
    },
    "id": "WSXSCEhVJle7",
    "outputId": "2ba07d4c-c51e-4656-b53e-d39122608609"
   },
   "outputs": [
    {
     "name": "stdout",
     "output_type": "stream",
     "text": [
      "Shape of x_train: (312869, 99)\n",
      "Shape of x_test: (86909, 99)\n",
      "Shape of x_val: (34764, 99)\n",
      "Shape of y_train: (312869, 1)\n",
      "Shape of y_test: (86909, 1)\n",
      "Shape of y_val: (34764, 1)\n"
     ]
    }
   ],
   "source": [
    "y_train=y_train.values.reshape(-1,1)    #cambiando la forma-tamaño del set\n",
    "y_test=y_test.values.reshape(-1,1)\n",
    "y_val=y_val.values.reshape(-1,1)\n",
    "\n",
    "print(\"Shape of x_train:\",x_train.shape)\n",
    "print(\"Shape of x_test:\",x_test.shape)\n",
    "print(\"Shape of x_val:\",x_val.shape)\n",
    "print(\"Shape of y_train:\",y_train.shape)\n",
    "print(\"Shape of y_test:\",y_test.shape)\n",
    "print(\"Shape of y_val:\",y_val.shape)"
   ]
  },
  {
   "cell_type": "markdown",
   "metadata": {
    "id": "APBt-AAfNBQj"
   },
   "source": [
    "<h1 id=\"arquitectura\">Diseño, Entrenamiento y Evaluación de la RN</h1>\n",
    "\n",
    "Una vez consolidado los sets de información de entrenamiento, validacion y pruebas ya podemos iniciar a modelar nuestra red neuronal con las siguientes consideraciones:\n",
    "* Primero hay que realiza la prueba con un par de arquitecturas iniciales.\n",
    "* Como segundo paso hay que evaluar el desempeño de la red.\n",
    "* Si el desempeño es bajo vuelve a la información y prueba estrategias de estandarización de la información."
   ]
  },
  {
   "cell_type": "markdown",
   "metadata": {
    "id": "528iJ6fQ86ds"
   },
   "source": [
    "### 4. Implementando una red neuronal con pérdidas (MSE) con el set de prueba sea menor a 0.40.\n",
    "\n",
    "Se procede a estandarizar las features como la variable objetivo (price)."
   ]
  },
  {
   "cell_type": "code",
   "execution_count": 21,
   "metadata": {
    "id": "Y6TWVkxGmcIB"
   },
   "outputs": [],
   "source": [
    "from sklearn.preprocessing import StandardScaler\n",
    "\n",
    "#estandarizando features\n",
    "scaler = StandardScaler()\n",
    "\n",
    "scaler.fit(x_train)\n",
    "x_train_scaled = scaler.transform(x_train)\n",
    "x_val_scaled = scaler.transform(x_val)\n",
    "x_test_scaled = scaler.transform(x_test)"
   ]
  },
  {
   "cell_type": "code",
   "execution_count": 22,
   "metadata": {
    "id": "-nIzUty9Jle9"
   },
   "outputs": [],
   "source": [
    "#estandarizando variable objetivo\n",
    "scaler1 = StandardScaler()\n",
    "\n",
    "scaler1.fit(y_train)\n",
    "y_train_scaled = scaler1.transform(y_train)\n",
    "y_val_scaled = scaler1.transform(y_val)\n",
    "y_test_scaled = scaler1.transform(y_test)"
   ]
  },
  {
   "cell_type": "markdown",
   "metadata": {
    "id": "6gIIX4xDJle9"
   },
   "source": [
    "* Dado que se tiene 99 variables de entrada, se tiene que en la primera capa es óptimo tener 2*99=198 ----> $2^8=256$ en consecuencia se deben tener 256 neuronas en la primera capa.\n",
    "* Segunda y tercera capa de a $2^7=128$ neuronas.\n",
    "\n",
    "* la función de activación **relu**\n",
    "* Para prevenir posibles efectos de sobreajuste se usará una **capa de regularización tipo dropput** para que apague el 20% de las neuronas.\n",
    "* Por ser un problema de regresión la capa de salida tendrá una única neurona. (aquí la función de activación será **linear**)\n",
    "* optimizer = \"adam\",\n",
    "* función de perdidas **\"mse\"** y como métrica se usará el **\"mean_absolute_error\"**\n",
    "\n",
    "El aprendizaje constará de estimar 75,137 parámetros."
   ]
  },
  {
   "cell_type": "code",
   "execution_count": 23,
   "metadata": {
    "colab": {
     "base_uri": "https://localhost:8080/"
    },
    "id": "5WORHuhPQmKX",
    "outputId": "24766017-d5b7-48c3-c4c9-7072b1acef5d"
   },
   "outputs": [
    {
     "name": "stdout",
     "output_type": "stream",
     "text": [
      "Model: \"sequential\"\n",
      "_________________________________________________________________\n",
      "Layer (type)                 Output Shape              Param #   \n",
      "=================================================================\n",
      "dense (Dense)                (None, 256)               25600     \n",
      "_________________________________________________________________\n",
      "dense_1 (Dense)              (None, 128)               32896     \n",
      "_________________________________________________________________\n",
      "dense_2 (Dense)              (None, 128)               16512     \n",
      "_________________________________________________________________\n",
      "dropout (Dropout)            (None, 128)               0         \n",
      "_________________________________________________________________\n",
      "dense_3 (Dense)              (None, 1)                 129       \n",
      "=================================================================\n",
      "Total params: 75,137\n",
      "Trainable params: 75,137\n",
      "Non-trainable params: 0\n",
      "_________________________________________________________________\n",
      "None\n"
     ]
    }
   ],
   "source": [
    "from keras.models import Sequential\n",
    "from keras.layers import Dense, Dropout\n",
    "from keras.utils import plot_model\n",
    "\n",
    "model = Sequential()\n",
    "model.add(Dense(256,input_dim = x_train.shape[1],activation=\"relu\"))\n",
    "model.add(Dense(128,activation=\"relu\"))\n",
    "model.add(Dense(128,activation=\"relu\"))\n",
    "model.add(Dropout(0.2))\n",
    "model.add(Dense(1,activation = \"linear\")) \n",
    "model.compile(optimizer = \"adam\",loss=\"mse\",metrics=[\"mean_absolute_error\"])\n",
    "\n",
    "print(model.summary())"
   ]
  },
  {
   "cell_type": "code",
   "execution_count": 24,
   "metadata": {
    "colab": {
     "base_uri": "https://localhost:8080/"
    },
    "id": "H-y9uDZh_gxS",
    "outputId": "9b47d467-fab6-4350-d7ec-4353ab1a08d0"
   },
   "outputs": [
    {
     "name": "stdout",
     "output_type": "stream",
     "text": [
      "Epoch 1/50\n",
      "306/306 [==============================] - 3s 4ms/step - loss: 0.6439 - mean_absolute_error: 0.5786 - val_loss: 0.4938 - val_mean_absolute_error: 0.4584\n",
      "Epoch 2/50\n",
      "306/306 [==============================] - 1s 3ms/step - loss: 0.4987 - mean_absolute_error: 0.4583 - val_loss: 0.4631 - val_mean_absolute_error: 0.4383\n",
      "Epoch 3/50\n",
      "306/306 [==============================] - 1s 2ms/step - loss: 0.4466 - mean_absolute_error: 0.4418 - val_loss: 0.4420 - val_mean_absolute_error: 0.4344\n",
      "Epoch 4/50\n",
      "306/306 [==============================] - 1s 2ms/step - loss: 0.4555 - mean_absolute_error: 0.4380 - val_loss: 0.4265 - val_mean_absolute_error: 0.4280\n",
      "Epoch 5/50\n",
      "306/306 [==============================] - 1s 3ms/step - loss: 0.4215 - mean_absolute_error: 0.4282 - val_loss: 0.4209 - val_mean_absolute_error: 0.4241\n",
      "Epoch 6/50\n",
      "306/306 [==============================] - 1s 3ms/step - loss: 0.4202 - mean_absolute_error: 0.4249 - val_loss: 0.4148 - val_mean_absolute_error: 0.4235\n",
      "Epoch 7/50\n",
      "306/306 [==============================] - 1s 3ms/step - loss: 0.4067 - mean_absolute_error: 0.4229 - val_loss: 0.4111 - val_mean_absolute_error: 0.4190\n",
      "Epoch 8/50\n",
      "306/306 [==============================] - 1s 2ms/step - loss: 0.4117 - mean_absolute_error: 0.4173 - val_loss: 0.4082 - val_mean_absolute_error: 0.4213\n",
      "Epoch 9/50\n",
      "306/306 [==============================] - 1s 3ms/step - loss: 0.3931 - mean_absolute_error: 0.4135 - val_loss: 0.4081 - val_mean_absolute_error: 0.4240\n",
      "Epoch 10/50\n",
      "306/306 [==============================] - 1s 2ms/step - loss: 0.3870 - mean_absolute_error: 0.4109 - val_loss: 0.4060 - val_mean_absolute_error: 0.4171\n",
      "Epoch 11/50\n",
      "306/306 [==============================] - 1s 2ms/step - loss: 0.3829 - mean_absolute_error: 0.4079 - val_loss: 0.4002 - val_mean_absolute_error: 0.4173\n",
      "Epoch 12/50\n",
      "306/306 [==============================] - 1s 3ms/step - loss: 0.3803 - mean_absolute_error: 0.4066 - val_loss: 0.3954 - val_mean_absolute_error: 0.4133\n",
      "Epoch 13/50\n",
      "306/306 [==============================] - 1s 2ms/step - loss: 0.3708 - mean_absolute_error: 0.4011 - val_loss: 0.3964 - val_mean_absolute_error: 0.4087\n",
      "Epoch 14/50\n",
      "306/306 [==============================] - 1s 2ms/step - loss: 0.3694 - mean_absolute_error: 0.4006 - val_loss: 0.4028 - val_mean_absolute_error: 0.4118\n",
      "Epoch 15/50\n",
      "306/306 [==============================] - 1s 2ms/step - loss: 0.3703 - mean_absolute_error: 0.4003 - val_loss: 0.3920 - val_mean_absolute_error: 0.4096\n",
      "Epoch 16/50\n",
      "306/306 [==============================] - 1s 2ms/step - loss: 0.3605 - mean_absolute_error: 0.3960 - val_loss: 0.3909 - val_mean_absolute_error: 0.4039\n",
      "Epoch 17/50\n",
      "306/306 [==============================] - 1s 2ms/step - loss: 0.3606 - mean_absolute_error: 0.3950 - val_loss: 0.3867 - val_mean_absolute_error: 0.4042\n",
      "Epoch 18/50\n",
      "306/306 [==============================] - 1s 3ms/step - loss: 0.3555 - mean_absolute_error: 0.3922 - val_loss: 0.3916 - val_mean_absolute_error: 0.4032\n",
      "Epoch 19/50\n",
      "306/306 [==============================] - 1s 2ms/step - loss: 0.3532 - mean_absolute_error: 0.3917 - val_loss: 0.3880 - val_mean_absolute_error: 0.4039\n",
      "Epoch 20/50\n",
      "306/306 [==============================] - 1s 2ms/step - loss: 0.3521 - mean_absolute_error: 0.3907 - val_loss: 0.3883 - val_mean_absolute_error: 0.3998\n",
      "Epoch 21/50\n",
      "306/306 [==============================] - 1s 2ms/step - loss: 0.3470 - mean_absolute_error: 0.3880 - val_loss: 0.3837 - val_mean_absolute_error: 0.4010\n",
      "Epoch 22/50\n",
      "306/306 [==============================] - 1s 2ms/step - loss: 0.3476 - mean_absolute_error: 0.3884 - val_loss: 0.3867 - val_mean_absolute_error: 0.3997\n",
      "Epoch 23/50\n",
      "306/306 [==============================] - 1s 2ms/step - loss: 0.3416 - mean_absolute_error: 0.3848 - val_loss: 0.3854 - val_mean_absolute_error: 0.4028\n",
      "Epoch 24/50\n",
      "306/306 [==============================] - 1s 2ms/step - loss: 0.3400 - mean_absolute_error: 0.3842 - val_loss: 0.3852 - val_mean_absolute_error: 0.4002\n",
      "Epoch 25/50\n",
      "306/306 [==============================] - 1s 3ms/step - loss: 0.3375 - mean_absolute_error: 0.3828 - val_loss: 0.3903 - val_mean_absolute_error: 0.4004\n",
      "Epoch 26/50\n",
      "306/306 [==============================] - 1s 2ms/step - loss: 0.3360 - mean_absolute_error: 0.3816 - val_loss: 0.3822 - val_mean_absolute_error: 0.3981\n",
      "Epoch 27/50\n",
      "306/306 [==============================] - 1s 2ms/step - loss: 0.3325 - mean_absolute_error: 0.3796 - val_loss: 0.3823 - val_mean_absolute_error: 0.3999\n",
      "Epoch 28/50\n",
      "306/306 [==============================] - 1s 2ms/step - loss: 0.3327 - mean_absolute_error: 0.3796 - val_loss: 0.3812 - val_mean_absolute_error: 0.3997\n",
      "Epoch 29/50\n",
      "306/306 [==============================] - 1s 2ms/step - loss: 0.3312 - mean_absolute_error: 0.3786 - val_loss: 0.3780 - val_mean_absolute_error: 0.3983\n",
      "Epoch 30/50\n",
      "306/306 [==============================] - 1s 2ms/step - loss: 0.3341 - mean_absolute_error: 0.3785 - val_loss: 0.3817 - val_mean_absolute_error: 0.3959\n",
      "Epoch 31/50\n",
      "306/306 [==============================] - 1s 2ms/step - loss: 0.3386 - mean_absolute_error: 0.3774 - val_loss: 0.3802 - val_mean_absolute_error: 0.3960\n",
      "Epoch 32/50\n",
      "306/306 [==============================] - 1s 2ms/step - loss: 0.3253 - mean_absolute_error: 0.3753 - val_loss: 0.3819 - val_mean_absolute_error: 0.3983\n",
      "Epoch 33/50\n",
      "306/306 [==============================] - 1s 2ms/step - loss: 0.3272 - mean_absolute_error: 0.3762 - val_loss: 0.3803 - val_mean_absolute_error: 0.3966\n",
      "Epoch 34/50\n",
      "306/306 [==============================] - 1s 2ms/step - loss: 0.3182 - mean_absolute_error: 0.3707 - val_loss: 0.3825 - val_mean_absolute_error: 0.3966\n",
      "Epoch 35/50\n",
      "306/306 [==============================] - 1s 2ms/step - loss: 0.3185 - mean_absolute_error: 0.3708 - val_loss: 0.3823 - val_mean_absolute_error: 0.3958\n",
      "Epoch 36/50\n",
      "306/306 [==============================] - 1s 2ms/step - loss: 0.3179 - mean_absolute_error: 0.3700 - val_loss: 0.3791 - val_mean_absolute_error: 0.3919\n",
      "Epoch 37/50\n",
      "306/306 [==============================] - 1s 2ms/step - loss: 0.3173 - mean_absolute_error: 0.3701 - val_loss: 0.4016 - val_mean_absolute_error: 0.3951\n",
      "Epoch 38/50\n",
      "306/306 [==============================] - 1s 2ms/step - loss: 0.3161 - mean_absolute_error: 0.3685 - val_loss: 0.4047 - val_mean_absolute_error: 0.3957\n",
      "Epoch 39/50\n",
      "306/306 [==============================] - 1s 2ms/step - loss: 0.3186 - mean_absolute_error: 0.3692 - val_loss: 0.4395 - val_mean_absolute_error: 0.3951\n",
      "Epoch 40/50\n",
      "306/306 [==============================] - 1s 2ms/step - loss: 0.3157 - mean_absolute_error: 0.3668 - val_loss: 0.3804 - val_mean_absolute_error: 0.3957\n",
      "Epoch 41/50\n",
      "306/306 [==============================] - 1s 2ms/step - loss: 0.3134 - mean_absolute_error: 0.3674 - val_loss: 0.3786 - val_mean_absolute_error: 0.3932\n",
      "Epoch 42/50\n",
      "306/306 [==============================] - 1s 2ms/step - loss: 0.3106 - mean_absolute_error: 0.3653 - val_loss: 0.3786 - val_mean_absolute_error: 0.3933\n",
      "Epoch 43/50\n",
      "306/306 [==============================] - 1s 2ms/step - loss: 0.3073 - mean_absolute_error: 0.3641 - val_loss: 0.3764 - val_mean_absolute_error: 0.3936\n",
      "Epoch 44/50\n",
      "306/306 [==============================] - 1s 3ms/step - loss: 0.3085 - mean_absolute_error: 0.3644 - val_loss: 0.3756 - val_mean_absolute_error: 0.3900\n",
      "Epoch 45/50\n",
      "306/306 [==============================] - 1s 3ms/step - loss: 0.3062 - mean_absolute_error: 0.3634 - val_loss: 0.3825 - val_mean_absolute_error: 0.3959\n",
      "Epoch 46/50\n",
      "306/306 [==============================] - 1s 3ms/step - loss: 0.3047 - mean_absolute_error: 0.3626 - val_loss: 0.3843 - val_mean_absolute_error: 0.3951\n",
      "Epoch 47/50\n",
      "306/306 [==============================] - 1s 3ms/step - loss: 0.3040 - mean_absolute_error: 0.3619 - val_loss: 0.3798 - val_mean_absolute_error: 0.3930\n",
      "Epoch 48/50\n",
      "306/306 [==============================] - 1s 3ms/step - loss: 0.3007 - mean_absolute_error: 0.3606 - val_loss: 0.3789 - val_mean_absolute_error: 0.3945\n",
      "Epoch 49/50\n",
      "306/306 [==============================] - 1s 3ms/step - loss: 0.3054 - mean_absolute_error: 0.3624 - val_loss: 0.3829 - val_mean_absolute_error: 0.3920\n",
      "Epoch 50/50\n",
      "306/306 [==============================] - 1s 3ms/step - loss: 0.3018 - mean_absolute_error: 0.3609 - val_loss: 0.3767 - val_mean_absolute_error: 0.3903\n"
     ]
    }
   ],
   "source": [
    "#Entrenamiento\n",
    "history =model.fit(x_train_scaled,y_train_scaled, validation_data = (x_val_scaled,y_val_scaled),epochs=50, batch_size=1024)"
   ]
  },
  {
   "cell_type": "markdown",
   "metadata": {
    "id": "ubDSL59pCcBg"
   },
   "source": [
    "Se puede observar que la arquitectura ha logrado una perdida de 0.3 con el set de entrenamiento \n",
    "\n",
    "#### Ahora realiza la evaluación del modelo con el set de entrenamiento."
   ]
  },
  {
   "cell_type": "code",
   "execution_count": 25,
   "metadata": {
    "colab": {
     "base_uri": "https://localhost:8080/"
    },
    "id": "B6C_XX0dRHxR",
    "outputId": "f134832f-ffb1-4482-eec7-07d9d29228f1"
   },
   "outputs": [
    {
     "name": "stdout",
     "output_type": "stream",
     "text": [
      "2716/2716 [==============================] - 4s 1ms/step - loss: 0.3821 - mean_absolute_error: 0.3920\n",
      "Metric  loss : 0.38\n",
      "Metric  mean_absolute_error : 0.39\n"
     ]
    }
   ],
   "source": [
    "result = model.evaluate(x_test_scaled,y_test_scaled)\n",
    "for i in range(len(model.metrics_names)):\n",
    " print(\"Metric \",model.metrics_names[i],\":\",\n",
    "str(round(result[i],2)))"
   ]
  },
  {
   "cell_type": "markdown",
   "metadata": {
    "id": "owT0Fwf0_N3i"
   },
   "source": [
    "Si tu modelo cumple con el requerimiento, en este caso un error menor a 40% es pertinente guardarlo con el siguiente comando:"
   ]
  },
  {
   "cell_type": "code",
   "execution_count": 26,
   "metadata": {
    "id": "bsuyXASg-aS0"
   },
   "outputs": [],
   "source": [
    "model.save('PrediccionPrecios.h5') #Guarda configuracion de red y parámetros, para volver a reutilizarlos sin necesidad de reentrenar."
   ]
  },
  {
   "cell_type": "markdown",
   "metadata": {
    "id": "f6Qd8SigDTs3"
   },
   "source": [
    "### 5. Gráfico de la evolución en función de pérdidas a traves de las distintas épocas de entrenamiento.\n",
    "\n",
    "A continuación se mostrará como la red neuronal ha aprendido epoca a epoca."
   ]
  },
  {
   "cell_type": "code",
   "execution_count": 27,
   "metadata": {
    "colab": {
     "base_uri": "https://localhost:8080/",
     "height": 406
    },
    "id": "FigeTaWgRqow",
    "outputId": "01b2aa41-1be9-40d8-85da-5176fdbf3214"
   },
   "outputs": [
    {
     "data": {
      "image/png": "[encoded data removed]",
      "text/plain": [
       "<Figure size 936x432 with 1 Axes>"
      ]
     },
     "metadata": {
      "needs_background": "light",
      "tags": []
     },
     "output_type": "display_data"
    }
   ],
   "source": [
    "import matplotlib.pyplot as plt\n",
    "%matplotlib inline\n",
    "\n",
    "plt.figure(figsize=(13,6))\n",
    "plt.plot(history.history['loss'])\n",
    "plt.plot(history.history['val_loss'])\n",
    "plt.title(\"Pérdidas del modelo con set de entrenamiento y pruebas por época\")\n",
    "plt.ylabel('MSE')\n",
    "plt.xlabel('Épocas')\n",
    "plt.legend(['Entrenamiento', 'Validación'], loc='upper right')\n",
    "plt.show()"
   ]
  },
  {
   "cell_type": "markdown",
   "metadata": {
    "id": "zuxUV14zEYZ9"
   },
   "source": [
    "Al realizar las iteraciones la funcion de perdidas disminuia consecuentemente\n",
    "\n",
    "---\n",
    "\n",
    "#### predicciones con el modelo\n",
    "\n",
    "Se recuerda que la información está estandarizada-escalada, pero para que tenga sentido en termino del precio de los automoviles (dolares) se debe realizar una transformacion inversa de esta normalización (con el método _inverse_transform(_) )"
   ]
  },
  {
   "cell_type": "code",
   "execution_count": 28,
   "metadata": {
    "colab": {
     "base_uri": "https://localhost:8080/"
    },
    "id": "08YjMOGlE0Z4",
    "outputId": "9a139737-2631-4a59-aa24-6206f466f2f9"
   },
   "outputs": [
    {
     "name": "stdout",
     "output_type": "stream",
     "text": [
      "Real=18650, Prediccion=15935.212\n",
      "Real=9950, Prediccion=8274.526\n",
      "Real=2000, Prediccion=1502.7583\n",
      "Real=7999, Prediccion=6533.5864\n",
      "Real=23999, Prediccion=25750.332\n"
     ]
    }
   ],
   "source": [
    "real=pd.DataFrame(y_train)\n",
    "predic=model.predict(pd.DataFrame(x_train_scaled))         #haciendo predicciones pero con valores estandarizados\n",
    "valores_reescalados = scaler1.inverse_transform(predic)   #haciendo la transformación inversa la cual tiene las prediucciones en dólares\n",
    "pred_escal =pd.DataFrame(valores_reescalados)             #se convierte en dataFrame para poder recorrerlo\n",
    "\n",
    "\n",
    "# Muestra los valores reales y las predicciones\n",
    "for i in range(0,5):\n",
    "\tprint(\"Real=%s, Prediccion=%s\" % (real[0][i], pred_escal[0][i]))"
   ]
  },
  {
   "cell_type": "markdown",
   "metadata": {
    "id": "hELy_j6xJlfE"
   },
   "source": [
    "Anteriormete se muestra el valor real y el predicho."
   ]
  }
 ],
 "metadata": {
  "accelerator": "GPU",
  "colab": {
   "collapsed_sections": [],
   "machine_shape": "hm",
   "name": "19_Proyecto_Precios_Vehiculos_Usados.ipynb",
   "provenance": []
  },
  "kernelspec": {
   "display_name": "Python 3",
   "language": "python",
   "name": "python3"
  },
  "language_info": {
   "codemirror_mode": {
    "name": "ipython",
    "version": 3
   },
   "file_extension": ".py",
   "mimetype": "text/x-python",
   "name": "python",
   "nbconvert_exporter": "python",
   "pygments_lexer": "ipython3",
   "version": "3.7.9"
  }
 },
 "nbformat": 4,
 "nbformat_minor": 4
}
