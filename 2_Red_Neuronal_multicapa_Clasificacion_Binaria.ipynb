{
 "cells": [
  {
   "cell_type": "markdown",
   "metadata": {
    "id": "7iFOX_Y3igEV"
   },
   "source": [
    "<h2 align=\"center\">PERCEPTRON MULTICAPA\n",
    "    <h3 align=\"center\">Clasificación binaria: predicción del valor empresarial de Red Hat"
   ]
  },
  {
   "cell_type": "markdown",
   "metadata": {
    "id": "_VfqD089-WuQ"
   },
   "source": [
    "\n",
    "# Contexto analítico\n",
    "\n",
    "Este caso se basa en un reto propuesto por Red Hat en la plataforma Kaggle. (https://www.kaggle.com/c/predicting-red-hat-business-value/data) \n",
    "\n",
    "Red Hat es capaz de obtener una importante cantidad de información de comportamiento de sus clientes. El interes de la compañia se basa en la busqueda de mejores metodos para analizar sus clientes para predecir sobre cuales deberian hacer un especial enfasis que podrian convertirse en clientes de alto valor.\n",
    "\n",
    "En este reto se propone crear un algoritmo de clasificación que identifique los clientes con mayor potencial para convertirse en clientes de alto valor para Red Hat basados en su actividad.\n",
    "\n",
    "Se cuenta con dos datasets (people.csv y act_train.csv) los cuales cargaremos directamente a Colab.\n"
   ]
  },
  {
   "cell_type": "code",
   "execution_count": 1,
   "metadata": {
    "id": "MdkkRVpVZbyQ"
   },
   "outputs": [],
   "source": [
    "#Importamos las librerias necesarias\n",
    "import pandas as pd\n",
    "import numpy as np\n",
    "import io\n",
    "#from google.colab import files         #Librería necesaria para interactuar con archivos \"en Colab\""
   ]
  },
  {
   "cell_type": "code",
   "execution_count": 2,
   "metadata": {
    "colab": {
     "base_uri": "https://localhost:8080/",
     "height": 206
    },
    "id": "lUUfMdJ3rnXz",
    "outputId": "ab497534-90b2-42b4-c5c0-fc5c00cf4799"
   },
   "outputs": [
    {
     "data": {
      "text/html": [
       "<div>\n",
       "<style scoped>\n",
       "    .dataframe tbody tr th:only-of-type {\n",
       "        vertical-align: middle;\n",
       "    }\n",
       "\n",
       "    .dataframe tbody tr th {\n",
       "        vertical-align: top;\n",
       "    }\n",
       "\n",
       "    .dataframe thead th {\n",
       "        text-align: right;\n",
       "    }\n",
       "</style>\n",
       "<table border=\"1\" class=\"dataframe\">\n",
       "  <thead>\n",
       "    <tr style=\"text-align: right;\">\n",
       "      <th></th>\n",
       "      <th>people_id</th>\n",
       "      <th>char_1</th>\n",
       "      <th>group_1</th>\n",
       "      <th>char_2</th>\n",
       "      <th>date</th>\n",
       "      <th>char_3</th>\n",
       "      <th>char_4</th>\n",
       "      <th>char_5</th>\n",
       "      <th>char_6</th>\n",
       "      <th>char_7</th>\n",
       "      <th>...</th>\n",
       "      <th>char_29</th>\n",
       "      <th>char_30</th>\n",
       "      <th>char_31</th>\n",
       "      <th>char_32</th>\n",
       "      <th>char_33</th>\n",
       "      <th>char_34</th>\n",
       "      <th>char_35</th>\n",
       "      <th>char_36</th>\n",
       "      <th>char_37</th>\n",
       "      <th>char_38</th>\n",
       "    </tr>\n",
       "  </thead>\n",
       "  <tbody>\n",
       "    <tr>\n",
       "      <th>0</th>\n",
       "      <td>ppl_100</td>\n",
       "      <td>type 2</td>\n",
       "      <td>group 17304</td>\n",
       "      <td>type 2</td>\n",
       "      <td>2021-06-29</td>\n",
       "      <td>type 5</td>\n",
       "      <td>type 5</td>\n",
       "      <td>type 5</td>\n",
       "      <td>type 3</td>\n",
       "      <td>type 11</td>\n",
       "      <td>...</td>\n",
       "      <td>False</td>\n",
       "      <td>True</td>\n",
       "      <td>True</td>\n",
       "      <td>False</td>\n",
       "      <td>False</td>\n",
       "      <td>True</td>\n",
       "      <td>True</td>\n",
       "      <td>True</td>\n",
       "      <td>False</td>\n",
       "      <td>36</td>\n",
       "    </tr>\n",
       "    <tr>\n",
       "      <th>1</th>\n",
       "      <td>ppl_100002</td>\n",
       "      <td>type 2</td>\n",
       "      <td>group 8688</td>\n",
       "      <td>type 3</td>\n",
       "      <td>2021-01-06</td>\n",
       "      <td>type 28</td>\n",
       "      <td>type 9</td>\n",
       "      <td>type 5</td>\n",
       "      <td>type 3</td>\n",
       "      <td>type 11</td>\n",
       "      <td>...</td>\n",
       "      <td>False</td>\n",
       "      <td>True</td>\n",
       "      <td>True</td>\n",
       "      <td>True</td>\n",
       "      <td>True</td>\n",
       "      <td>True</td>\n",
       "      <td>True</td>\n",
       "      <td>True</td>\n",
       "      <td>False</td>\n",
       "      <td>76</td>\n",
       "    </tr>\n",
       "    <tr>\n",
       "      <th>2</th>\n",
       "      <td>ppl_100003</td>\n",
       "      <td>type 2</td>\n",
       "      <td>group 33592</td>\n",
       "      <td>type 3</td>\n",
       "      <td>2022-06-10</td>\n",
       "      <td>type 4</td>\n",
       "      <td>type 8</td>\n",
       "      <td>type 5</td>\n",
       "      <td>type 2</td>\n",
       "      <td>type 5</td>\n",
       "      <td>...</td>\n",
       "      <td>False</td>\n",
       "      <td>False</td>\n",
       "      <td>True</td>\n",
       "      <td>True</td>\n",
       "      <td>True</td>\n",
       "      <td>True</td>\n",
       "      <td>False</td>\n",
       "      <td>True</td>\n",
       "      <td>True</td>\n",
       "      <td>99</td>\n",
       "    </tr>\n",
       "  </tbody>\n",
       "</table>\n",
       "<p>3 rows × 41 columns</p>\n",
       "</div>"
      ],
      "text/plain": [
       "    people_id  char_1      group_1  char_2        date   char_3  char_4  \\\n",
       "0     ppl_100  type 2  group 17304  type 2  2021-06-29   type 5  type 5   \n",
       "1  ppl_100002  type 2   group 8688  type 3  2021-01-06  type 28  type 9   \n",
       "2  ppl_100003  type 2  group 33592  type 3  2022-06-10   type 4  type 8   \n",
       "\n",
       "   char_5  char_6   char_7  ... char_29 char_30  char_31  char_32  char_33  \\\n",
       "0  type 5  type 3  type 11  ...   False    True     True    False    False   \n",
       "1  type 5  type 3  type 11  ...   False    True     True     True     True   \n",
       "2  type 5  type 2   type 5  ...   False   False     True     True     True   \n",
       "\n",
       "   char_34  char_35  char_36  char_37  char_38  \n",
       "0     True     True     True    False       36  \n",
       "1     True     True     True    False       76  \n",
       "2     True    False     True     True       99  \n",
       "\n",
       "[3 rows x 41 columns]"
      ]
     },
     "execution_count": 2,
     "metadata": {},
     "output_type": "execute_result"
    }
   ],
   "source": [
    "#Cargamos los dataset\n",
    "#uploaded = files.upload()\n",
    "#people = pd.read_csv(io.StringIO(uploaded['people.csv'].decode('utf-8')), sep = ',' )\n",
    "people = pd.read_csv('C:\\\\Users\\\\YULY\\\\Desktop\\\\Desktop\\\\PROGRAMACION ESTADISTICA\\\\Curso Data Science\\\\keras\\\\scripts\\\\people.csv', sep = ',' )\n",
    "people.head(3)"
   ]
  },
  {
   "cell_type": "code",
   "execution_count": 3,
   "metadata": {},
   "outputs": [
    {
     "name": "stdout",
     "output_type": "stream",
     "text": [
      "<class 'pandas.core.frame.DataFrame'>\n",
      "RangeIndex: 189118 entries, 0 to 189117\n",
      "Data columns (total 41 columns):\n",
      " #   Column     Non-Null Count   Dtype \n",
      "---  ------     --------------   ----- \n",
      " 0   people_id  189118 non-null  object\n",
      " 1   char_1     189118 non-null  object\n",
      " 2   group_1    189118 non-null  object\n",
      " 3   char_2     189118 non-null  object\n",
      " 4   date       189118 non-null  object\n",
      " 5   char_3     189118 non-null  object\n",
      " 6   char_4     189118 non-null  object\n",
      " 7   char_5     189118 non-null  object\n",
      " 8   char_6     189118 non-null  object\n",
      " 9   char_7     189118 non-null  object\n",
      " 10  char_8     189118 non-null  object\n",
      " 11  char_9     189118 non-null  object\n",
      " 12  char_10    189118 non-null  bool  \n",
      " 13  char_11    189118 non-null  bool  \n",
      " 14  char_12    189118 non-null  bool  \n",
      " 15  char_13    189118 non-null  bool  \n",
      " 16  char_14    189118 non-null  bool  \n",
      " 17  char_15    189118 non-null  bool  \n",
      " 18  char_16    189118 non-null  bool  \n",
      " 19  char_17    189118 non-null  bool  \n",
      " 20  char_18    189118 non-null  bool  \n",
      " 21  char_19    189118 non-null  bool  \n",
      " 22  char_20    189118 non-null  bool  \n",
      " 23  char_21    189118 non-null  bool  \n",
      " 24  char_22    189118 non-null  bool  \n",
      " 25  char_23    189118 non-null  bool  \n",
      " 26  char_24    189118 non-null  bool  \n",
      " 27  char_25    189118 non-null  bool  \n",
      " 28  char_26    189118 non-null  bool  \n",
      " 29  char_27    189118 non-null  bool  \n",
      " 30  char_28    189118 non-null  bool  \n",
      " 31  char_29    189118 non-null  bool  \n",
      " 32  char_30    189118 non-null  bool  \n",
      " 33  char_31    189118 non-null  bool  \n",
      " 34  char_32    189118 non-null  bool  \n",
      " 35  char_33    189118 non-null  bool  \n",
      " 36  char_34    189118 non-null  bool  \n",
      " 37  char_35    189118 non-null  bool  \n",
      " 38  char_36    189118 non-null  bool  \n",
      " 39  char_37    189118 non-null  bool  \n",
      " 40  char_38    189118 non-null  int64 \n",
      "dtypes: bool(28), int64(1), object(12)\n",
      "memory usage: 23.8+ MB\n"
     ]
    }
   ],
   "source": [
    "#people.dtypes\n",
    "people.info()"
   ]
  },
  {
   "cell_type": "markdown",
   "metadata": {
    "id": "cSWTI9p6ZH9O"
   },
   "source": [
    "El primer hecho a resaltar es que la información se presenta anonimizada, algo muy común en la ciencia de datos. \n",
    "\n",
    "Se aprecia una gran cantidad de campos de naturaleza categórica. \n",
    "\n"
   ]
  },
  {
   "cell_type": "code",
   "execution_count": 4,
   "metadata": {
    "colab": {
     "base_uri": "https://localhost:8080/",
     "height": 135
    },
    "id": "oW6ujZfbnzw0",
    "outputId": "e00db4df-cbf6-4765-d73e-a6f3641b11c0"
   },
   "outputs": [
    {
     "data": {
      "text/html": [
       "<div>\n",
       "<style scoped>\n",
       "    .dataframe tbody tr th:only-of-type {\n",
       "        vertical-align: middle;\n",
       "    }\n",
       "\n",
       "    .dataframe tbody tr th {\n",
       "        vertical-align: top;\n",
       "    }\n",
       "\n",
       "    .dataframe thead th {\n",
       "        text-align: right;\n",
       "    }\n",
       "</style>\n",
       "<table border=\"1\" class=\"dataframe\">\n",
       "  <thead>\n",
       "    <tr style=\"text-align: right;\">\n",
       "      <th></th>\n",
       "      <th>people_id</th>\n",
       "      <th>activity_id</th>\n",
       "      <th>date</th>\n",
       "      <th>activity_category</th>\n",
       "      <th>char_1</th>\n",
       "      <th>char_2</th>\n",
       "      <th>char_3</th>\n",
       "      <th>char_4</th>\n",
       "      <th>char_5</th>\n",
       "      <th>char_6</th>\n",
       "      <th>char_7</th>\n",
       "      <th>char_8</th>\n",
       "      <th>char_9</th>\n",
       "      <th>char_10</th>\n",
       "      <th>outcome</th>\n",
       "    </tr>\n",
       "  </thead>\n",
       "  <tbody>\n",
       "    <tr>\n",
       "      <th>0</th>\n",
       "      <td>ppl_100</td>\n",
       "      <td>act2_1734928</td>\n",
       "      <td>2023-08-26</td>\n",
       "      <td>type 4</td>\n",
       "      <td>NaN</td>\n",
       "      <td>NaN</td>\n",
       "      <td>NaN</td>\n",
       "      <td>NaN</td>\n",
       "      <td>NaN</td>\n",
       "      <td>NaN</td>\n",
       "      <td>NaN</td>\n",
       "      <td>NaN</td>\n",
       "      <td>NaN</td>\n",
       "      <td>type 76</td>\n",
       "      <td>0</td>\n",
       "    </tr>\n",
       "    <tr>\n",
       "      <th>1</th>\n",
       "      <td>ppl_100</td>\n",
       "      <td>act2_2434093</td>\n",
       "      <td>2022-09-27</td>\n",
       "      <td>type 2</td>\n",
       "      <td>NaN</td>\n",
       "      <td>NaN</td>\n",
       "      <td>NaN</td>\n",
       "      <td>NaN</td>\n",
       "      <td>NaN</td>\n",
       "      <td>NaN</td>\n",
       "      <td>NaN</td>\n",
       "      <td>NaN</td>\n",
       "      <td>NaN</td>\n",
       "      <td>type 1</td>\n",
       "      <td>0</td>\n",
       "    </tr>\n",
       "    <tr>\n",
       "      <th>2</th>\n",
       "      <td>ppl_100</td>\n",
       "      <td>act2_3404049</td>\n",
       "      <td>2022-09-27</td>\n",
       "      <td>type 2</td>\n",
       "      <td>NaN</td>\n",
       "      <td>NaN</td>\n",
       "      <td>NaN</td>\n",
       "      <td>NaN</td>\n",
       "      <td>NaN</td>\n",
       "      <td>NaN</td>\n",
       "      <td>NaN</td>\n",
       "      <td>NaN</td>\n",
       "      <td>NaN</td>\n",
       "      <td>type 1</td>\n",
       "      <td>0</td>\n",
       "    </tr>\n",
       "  </tbody>\n",
       "</table>\n",
       "</div>"
      ],
      "text/plain": [
       "  people_id   activity_id        date activity_category char_1 char_2 char_3  \\\n",
       "0   ppl_100  act2_1734928  2023-08-26            type 4    NaN    NaN    NaN   \n",
       "1   ppl_100  act2_2434093  2022-09-27            type 2    NaN    NaN    NaN   \n",
       "2   ppl_100  act2_3404049  2022-09-27            type 2    NaN    NaN    NaN   \n",
       "\n",
       "  char_4 char_5 char_6 char_7 char_8 char_9  char_10  outcome  \n",
       "0    NaN    NaN    NaN    NaN    NaN    NaN  type 76        0  \n",
       "1    NaN    NaN    NaN    NaN    NaN    NaN   type 1        0  \n",
       "2    NaN    NaN    NaN    NaN    NaN    NaN   type 1        0  "
      ]
     },
     "execution_count": 4,
     "metadata": {},
     "output_type": "execute_result"
    }
   ],
   "source": [
    "#uploaded1 = files.upload()\n",
    "#activity = pd.read_csv(io.StringIO(uploaded1['act_train.csv'].decode('utf-8')), sep = ',' )\n",
    "activity = pd.read_csv('C:\\\\Users\\\\YULY\\\\Desktop\\\\Desktop\\\\PROGRAMACION ESTADISTICA\\\\Curso Data Science\\\\keras\\\\scripts\\\\act_train.csv', sep = ',' )\n",
    "activity.head(3)"
   ]
  },
  {
   "cell_type": "code",
   "execution_count": 5,
   "metadata": {},
   "outputs": [
    {
     "name": "stdout",
     "output_type": "stream",
     "text": [
      "(2197291, 15)\n"
     ]
    }
   ],
   "source": [
    "print(activity.shape)"
   ]
  },
  {
   "cell_type": "markdown",
   "metadata": {},
   "source": [
    "Se puede observar que en **people_id** existen las mismas llaves que el anterior archivo lo cual podria indicar unirlos, además algunas columnas similares. La completitud e integridad de la informacion es importante analizar."
   ]
  },
  {
   "cell_type": "markdown",
   "metadata": {
    "id": "B9_dNCTum1Hw"
   },
   "source": [
    "# <h1 id=\"ingenieria\">Ingeniería de datos</h1>\n",
    "\n",
    "Evaluaremos ahora el tamaño de los datasets y la completitud de información en las distintas variables disponibles."
   ]
  },
  {
   "cell_type": "code",
   "execution_count": 6,
   "metadata": {
    "id": "XPzJRTCwO7zy"
   },
   "outputs": [
    {
     "name": "stdout",
     "output_type": "stream",
     "text": [
      "(189118, 41)\n"
     ]
    },
    {
     "data": {
      "text/plain": [
       "people_id    0.0\n",
       "char_1       0.0\n",
       "group_1      0.0\n",
       "char_2       0.0\n",
       "date         0.0\n",
       "char_3       0.0\n",
       "char_4       0.0\n",
       "char_5       0.0\n",
       "char_6       0.0\n",
       "char_7       0.0\n",
       "char_8       0.0\n",
       "char_9       0.0\n",
       "char_10      0.0\n",
       "char_11      0.0\n",
       "char_12      0.0\n",
       "char_13      0.0\n",
       "char_14      0.0\n",
       "char_15      0.0\n",
       "char_16      0.0\n",
       "char_17      0.0\n",
       "char_18      0.0\n",
       "char_19      0.0\n",
       "char_20      0.0\n",
       "char_21      0.0\n",
       "char_22      0.0\n",
       "char_23      0.0\n",
       "char_24      0.0\n",
       "char_25      0.0\n",
       "char_26      0.0\n",
       "char_27      0.0\n",
       "char_28      0.0\n",
       "char_29      0.0\n",
       "char_30      0.0\n",
       "char_31      0.0\n",
       "char_32      0.0\n",
       "char_33      0.0\n",
       "char_34      0.0\n",
       "char_35      0.0\n",
       "char_36      0.0\n",
       "char_37      0.0\n",
       "char_38      0.0\n",
       "dtype: float64"
      ]
     },
     "execution_count": 6,
     "metadata": {},
     "output_type": "execute_result"
    }
   ],
   "source": [
    "print(people.shape)\n",
    "100*people.isnull().sum()/people.shape[0]   # cantiodad de registros nulos en los datos  ---> tasa de nulos=o  el conjunto de datos tiene toda la info"
   ]
  },
  {
   "cell_type": "code",
   "execution_count": 7,
   "metadata": {
    "id": "Xpucjyj0O7p3"
   },
   "outputs": [
    {
     "name": "stdout",
     "output_type": "stream",
     "text": [
      "(2197291, 15)\n"
     ]
    },
    {
     "data": {
      "text/plain": [
       "people_id             0.000000\n",
       "activity_id           0.000000\n",
       "date                  0.000000\n",
       "activity_category     0.000000\n",
       "char_1               92.826849\n",
       "char_2               92.826849\n",
       "char_3               92.826849\n",
       "char_4               92.826849\n",
       "char_5               92.826849\n",
       "char_6               92.826849\n",
       "char_7               92.826849\n",
       "char_8               92.826849\n",
       "char_9               92.826849\n",
       "char_10               7.173151\n",
       "outcome               0.000000\n",
       "dtype: float64"
      ]
     },
     "execution_count": 7,
     "metadata": {},
     "output_type": "execute_result"
    }
   ],
   "source": [
    "#Repetimos el procedimiento con el dataset de activity\n",
    "print(activity.shape)\n",
    "100*activity.isnull().sum()/activity.shape[0]"
   ]
  },
  {
   "cell_type": "markdown",
   "metadata": {
    "id": "C0wRxOQ6msBO"
   },
   "source": [
    "Se evidencia que los campos char_1 al char_9 tienen el 92% de sus valores en nulo Esta cantidad es muy elevada para aplicar metodos de imputación, por lo cual optaremos por elminar las columnas con este inconveniente."
   ]
  },
  {
   "cell_type": "code",
   "execution_count": 8,
   "metadata": {
    "colab": {
     "base_uri": "https://localhost:8080/",
     "height": 88
    },
    "id": "ifiOGXJfxZvD",
    "outputId": "a2e8cbc3-0870-41b0-a77a-ae57abe5f888"
   },
   "outputs": [
    {
     "data": {
      "text/plain": [
       "Index(['people_id', 'activity_id', 'date', 'activity_category', 'char_1',\n",
       "       'char_2', 'char_3', 'char_4', 'char_5', 'char_6', 'char_7', 'char_8',\n",
       "       'char_9', 'char_10', 'outcome'],\n",
       "      dtype='object')"
      ]
     },
     "execution_count": 8,
     "metadata": {},
     "output_type": "execute_result"
    }
   ],
   "source": [
    "activity.columns"
   ]
  },
  {
   "cell_type": "code",
   "execution_count": 9,
   "metadata": {
    "colab": {
     "base_uri": "https://localhost:8080/",
     "height": 153
    },
    "id": "XtrcEw2Bvm7t",
    "outputId": "632f9336-7108-4d33-c5f8-38e023d3eb9b"
   },
   "outputs": [
    {
     "name": "stdout",
     "output_type": "stream",
     "text": [
      "(2197291, 6)\n"
     ]
    },
    {
     "data": {
      "text/html": [
       "<div>\n",
       "<style scoped>\n",
       "    .dataframe tbody tr th:only-of-type {\n",
       "        vertical-align: middle;\n",
       "    }\n",
       "\n",
       "    .dataframe tbody tr th {\n",
       "        vertical-align: top;\n",
       "    }\n",
       "\n",
       "    .dataframe thead th {\n",
       "        text-align: right;\n",
       "    }\n",
       "</style>\n",
       "<table border=\"1\" class=\"dataframe\">\n",
       "  <thead>\n",
       "    <tr style=\"text-align: right;\">\n",
       "      <th></th>\n",
       "      <th>people_id</th>\n",
       "      <th>activity_id</th>\n",
       "      <th>date</th>\n",
       "      <th>activity_category</th>\n",
       "      <th>char_10</th>\n",
       "      <th>outcome</th>\n",
       "    </tr>\n",
       "  </thead>\n",
       "  <tbody>\n",
       "    <tr>\n",
       "      <th>0</th>\n",
       "      <td>ppl_100</td>\n",
       "      <td>act2_1734928</td>\n",
       "      <td>2023-08-26</td>\n",
       "      <td>type 4</td>\n",
       "      <td>type 76</td>\n",
       "      <td>0</td>\n",
       "    </tr>\n",
       "    <tr>\n",
       "      <th>1</th>\n",
       "      <td>ppl_100</td>\n",
       "      <td>act2_2434093</td>\n",
       "      <td>2022-09-27</td>\n",
       "      <td>type 2</td>\n",
       "      <td>type 1</td>\n",
       "      <td>0</td>\n",
       "    </tr>\n",
       "    <tr>\n",
       "      <th>2</th>\n",
       "      <td>ppl_100</td>\n",
       "      <td>act2_3404049</td>\n",
       "      <td>2022-09-27</td>\n",
       "      <td>type 2</td>\n",
       "      <td>type 1</td>\n",
       "      <td>0</td>\n",
       "    </tr>\n",
       "  </tbody>\n",
       "</table>\n",
       "</div>"
      ],
      "text/plain": [
       "  people_id   activity_id        date activity_category  char_10  outcome\n",
       "0   ppl_100  act2_1734928  2023-08-26            type 4  type 76        0\n",
       "1   ppl_100  act2_2434093  2022-09-27            type 2   type 1        0\n",
       "2   ppl_100  act2_3404049  2022-09-27            type 2   type 1        0"
      ]
     },
     "execution_count": 9,
     "metadata": {},
     "output_type": "execute_result"
    }
   ],
   "source": [
    "activity.drop(columns=['char_1','char_2', 'char_3', 'char_4', 'char_5', 'char_6',\\\n",
    "                       'char_7', 'char_8','char_9'],inplace=True)\n",
    "print(activity.shape)\n",
    "activity.head(3)"
   ]
  },
  {
   "cell_type": "markdown",
   "metadata": {
    "id": "D_Sp5RPopl9O"
   },
   "source": [
    "Para consolidar un dataset debemos tener un par de consideraciones previas: \n",
    "\n",
    "* Se aprecia que existen dos variables que tienen los mismos nombres en ambos \n",
    "datasets (char_2 y char_10) por lo cual es buena practica renombrar estas columnas para evitar confusiones al momento de unificar las fuentes.\n",
    "* En el caso de la variable categórica \"tipo_actividad\" existe una proporción de nulos que podemos reemplazar por la moda.\n",
    "\n"
   ]
  },
  {
   "cell_type": "code",
   "execution_count": 10,
   "metadata": {
    "colab": {
     "base_uri": "https://localhost:8080/",
     "height": 141
    },
    "id": "hVNrQiqFO78K",
    "outputId": "a526e7d5-10bd-4e3c-ae3c-d9dda74d927e"
   },
   "outputs": [
    {
     "data": {
      "text/plain": [
       "people_id            0.0\n",
       "activity_id          0.0\n",
       "fecha_actividad      0.0\n",
       "activity_category    0.0\n",
       "tipo_actividad       0.0\n",
       "outcome              0.0\n",
       "dtype: float64"
      ]
     },
     "execution_count": 10,
     "metadata": {},
     "output_type": "execute_result"
    }
   ],
   "source": [
    "#Renombramos columnas\n",
    "activity = activity.rename(columns={\"date\":\"fecha_actividad\",\"char_10\":\"tipo_actividad\"})\n",
    "#Reenplazamos el tipo de actividad por la moda \n",
    "activity[\"tipo_actividad\"] = activity[\"tipo_actividad\"].fillna(activity[\"tipo_actividad\"].mode()[0])\n",
    "#Verificamos el cambio\n",
    "100*activity.isnull().sum()/activity.shape[0]   #porcentaje de nulos"
   ]
  },
  {
   "cell_type": "markdown",
   "metadata": {
    "id": "Ccc9A9hRrgej"
   },
   "source": [
    "Ahora unificamos los datasets empleando la función merge y evaluamos la consistencia luego de esta operación "
   ]
  },
  {
   "cell_type": "code",
   "execution_count": 11,
   "metadata": {
    "colab": {
     "base_uri": "https://localhost:8080/",
     "height": 52
    },
    "id": "uMkkwvb5Pf1t",
    "outputId": "d502f323-39c8-4c31-b242-fc7524cd7c9b"
   },
   "outputs": [
    {
     "name": "stdout",
     "output_type": "stream",
     "text": [
      "Tamaño previo:  (2197291, 6)\n",
      "Nuevo tamaño:  (2197291, 46)\n"
     ]
    }
   ],
   "source": [
    "consolidado = activity.merge(people,on=[\"people_id\"],how=\"inner\")\n",
    "print(\"Tamaño previo: \",activity.shape)\n",
    "print(\"Nuevo tamaño: \",consolidado.shape)"
   ]
  },
  {
   "cell_type": "markdown",
   "metadata": {
    "id": "GwHDh2f_sNPN"
   },
   "source": [
    "La variable objetivo que clasifica la actividad de los usuarios como potenciales clientes es denominada \"outcome\", evaluaremos la distribución de este variable: "
   ]
  },
  {
   "cell_type": "code",
   "execution_count": 12,
   "metadata": {
    "colab": {
     "base_uri": "https://localhost:8080/",
     "height": 88
    },
    "id": "P_TbTWpnPf6U",
    "outputId": "b21ff5fb-457e-4be4-91a3-bde32fc161c7"
   },
   "outputs": [
    {
     "name": "stdout",
     "output_type": "stream",
     "text": [
      "Distribución de outcome: \n",
      " 0    55.60456\n",
      "1    44.39544\n",
      "Name: outcome, dtype: float64\n"
     ]
    }
   ],
   "source": [
    "print(\"Distribución de outcome: \\n\", 100*consolidado[\"outcome\"].value_counts()/consolidado.shape[0])"
   ]
  },
  {
   "cell_type": "markdown",
   "metadata": {
    "id": "bg0W_YUOuQJX"
   },
   "source": [
    "Como lo hemos mencionado, las redes neuronales requieren de entrada sólo valores numericos, por lo cual debemos convertir aquellas que no lo son. El dataset consolidado cuenta con 46 variables de tipo booleanas, numericas o categóricas que deben ser transformadas."
   ]
  },
  {
   "cell_type": "code",
   "execution_count": 13,
   "metadata": {
    "colab": {
     "base_uri": "https://localhost:8080/",
     "height": 177
    },
    "id": "KStwi9ZtPf9E",
    "outputId": "ec515022-18f4-45f7-9bca-919c26d62065"
   },
   "outputs": [
    {
     "name": "stdout",
     "output_type": "stream",
     "text": [
      "Tipos de variables 0\n",
      "bool      28\n",
      "int64      2\n",
      "object    16\n",
      "dtype: int64\n"
     ]
    }
   ],
   "source": [
    "types = pd.DataFrame(consolidado.dtypes)\n",
    "print(\"Tipos de variables\",types.groupby(0).size())"
   ]
  },
  {
   "cell_type": "code",
   "execution_count": 14,
   "metadata": {},
   "outputs": [
    {
     "name": "stdout",
     "output_type": "stream",
     "text": [
      "Tipos de variables luego de reemplazo 0\n",
      "int64     30\n",
      "object    16\n",
      "dtype: int64\n"
     ]
    }
   ],
   "source": [
    "consolidado = consolidado.replace({False: 0, True: 1})\n",
    "\n",
    "types = pd.DataFrame(consolidado.dtypes)\n",
    "print(\"Tipos de variables luego de reemplazo\",types.groupby(0).size())"
   ]
  },
  {
   "cell_type": "markdown",
   "metadata": {
    "id": "xkjmFo88943p"
   },
   "source": [
    "Si recordamos, el identificador people_id se compone por un prefijo \"ppl_\" seguido de un número único por usuario. En este caso basta con recortar el prefijo para transformar esta variable en numerica."
   ]
  },
  {
   "cell_type": "code",
   "execution_count": 15,
   "metadata": {
    "colab": {
     "base_uri": "https://localhost:8080/",
     "height": 88
    },
    "id": "UC3Ph9sD6YRT",
    "outputId": "4285f015-94a1-4a3e-e183-3327ed47e2f4"
   },
   "outputs": [
    {
     "data": {
      "text/html": [
       "<div>\n",
       "<style scoped>\n",
       "    .dataframe tbody tr th:only-of-type {\n",
       "        vertical-align: middle;\n",
       "    }\n",
       "\n",
       "    .dataframe tbody tr th {\n",
       "        vertical-align: top;\n",
       "    }\n",
       "\n",
       "    .dataframe thead th {\n",
       "        text-align: right;\n",
       "    }\n",
       "</style>\n",
       "<table border=\"1\" class=\"dataframe\">\n",
       "  <thead>\n",
       "    <tr style=\"text-align: right;\">\n",
       "      <th></th>\n",
       "      <th>people_id</th>\n",
       "      <th>activity_id</th>\n",
       "      <th>fecha_actividad</th>\n",
       "      <th>activity_category</th>\n",
       "      <th>tipo_actividad</th>\n",
       "      <th>outcome</th>\n",
       "      <th>char_1</th>\n",
       "      <th>group_1</th>\n",
       "      <th>char_2</th>\n",
       "      <th>date</th>\n",
       "      <th>...</th>\n",
       "      <th>char_29</th>\n",
       "      <th>char_30</th>\n",
       "      <th>char_31</th>\n",
       "      <th>char_32</th>\n",
       "      <th>char_33</th>\n",
       "      <th>char_34</th>\n",
       "      <th>char_35</th>\n",
       "      <th>char_36</th>\n",
       "      <th>char_37</th>\n",
       "      <th>char_38</th>\n",
       "    </tr>\n",
       "  </thead>\n",
       "  <tbody>\n",
       "    <tr>\n",
       "      <th>0</th>\n",
       "      <td>100</td>\n",
       "      <td>act2_1734928</td>\n",
       "      <td>2023-08-26</td>\n",
       "      <td>type 4</td>\n",
       "      <td>type 76</td>\n",
       "      <td>0</td>\n",
       "      <td>type 2</td>\n",
       "      <td>group 17304</td>\n",
       "      <td>type 2</td>\n",
       "      <td>2021-06-29</td>\n",
       "      <td>...</td>\n",
       "      <td>0</td>\n",
       "      <td>1</td>\n",
       "      <td>1</td>\n",
       "      <td>0</td>\n",
       "      <td>0</td>\n",
       "      <td>1</td>\n",
       "      <td>1</td>\n",
       "      <td>1</td>\n",
       "      <td>0</td>\n",
       "      <td>36</td>\n",
       "    </tr>\n",
       "    <tr>\n",
       "      <th>1</th>\n",
       "      <td>100</td>\n",
       "      <td>act2_2434093</td>\n",
       "      <td>2022-09-27</td>\n",
       "      <td>type 2</td>\n",
       "      <td>type 1</td>\n",
       "      <td>0</td>\n",
       "      <td>type 2</td>\n",
       "      <td>group 17304</td>\n",
       "      <td>type 2</td>\n",
       "      <td>2021-06-29</td>\n",
       "      <td>...</td>\n",
       "      <td>0</td>\n",
       "      <td>1</td>\n",
       "      <td>1</td>\n",
       "      <td>0</td>\n",
       "      <td>0</td>\n",
       "      <td>1</td>\n",
       "      <td>1</td>\n",
       "      <td>1</td>\n",
       "      <td>0</td>\n",
       "      <td>36</td>\n",
       "    </tr>\n",
       "    <tr>\n",
       "      <th>2</th>\n",
       "      <td>100</td>\n",
       "      <td>act2_3404049</td>\n",
       "      <td>2022-09-27</td>\n",
       "      <td>type 2</td>\n",
       "      <td>type 1</td>\n",
       "      <td>0</td>\n",
       "      <td>type 2</td>\n",
       "      <td>group 17304</td>\n",
       "      <td>type 2</td>\n",
       "      <td>2021-06-29</td>\n",
       "      <td>...</td>\n",
       "      <td>0</td>\n",
       "      <td>1</td>\n",
       "      <td>1</td>\n",
       "      <td>0</td>\n",
       "      <td>0</td>\n",
       "      <td>1</td>\n",
       "      <td>1</td>\n",
       "      <td>1</td>\n",
       "      <td>0</td>\n",
       "      <td>36</td>\n",
       "    </tr>\n",
       "  </tbody>\n",
       "</table>\n",
       "<p>3 rows × 46 columns</p>\n",
       "</div>"
      ],
      "text/plain": [
       "   people_id   activity_id fecha_actividad activity_category tipo_actividad  \\\n",
       "0        100  act2_1734928      2023-08-26            type 4        type 76   \n",
       "1        100  act2_2434093      2022-09-27            type 2         type 1   \n",
       "2        100  act2_3404049      2022-09-27            type 2         type 1   \n",
       "\n",
       "   outcome  char_1      group_1  char_2        date  ... char_29 char_30  \\\n",
       "0        0  type 2  group 17304  type 2  2021-06-29  ...       0       1   \n",
       "1        0  type 2  group 17304  type 2  2021-06-29  ...       0       1   \n",
       "2        0  type 2  group 17304  type 2  2021-06-29  ...       0       1   \n",
       "\n",
       "  char_31 char_32 char_33 char_34 char_35  char_36  char_37  char_38  \n",
       "0       1       0       0       1       1        1        0       36  \n",
       "1       1       0       0       1       1        1        0       36  \n",
       "2       1       0       0       1       1        1        0       36  \n",
       "\n",
       "[3 rows x 46 columns]"
      ]
     },
     "execution_count": 15,
     "metadata": {},
     "output_type": "execute_result"
    }
   ],
   "source": [
    "consolidado.people_id = consolidado.people_id.str.slice(start=4).astype(float).astype(int)\n",
    "consolidado.head(3)"
   ]
  },
  {
   "cell_type": "code",
   "execution_count": 16,
   "metadata": {},
   "outputs": [
    {
     "name": "stdout",
     "output_type": "stream",
     "text": [
      "Tipos de variables luego de 2do reemplazo 0\n",
      "int32      1\n",
      "int64     30\n",
      "object    15\n",
      "dtype: int64\n"
     ]
    }
   ],
   "source": [
    "types = pd.DataFrame(consolidado.dtypes)\n",
    "print(\"Tipos de variables luego de 2do reemplazo\",types.groupby(0).size())"
   ]
  },
  {
   "cell_type": "markdown",
   "metadata": {
    "id": "0Xw6Pde0D_Sx"
   },
   "source": [
    "Al validar el dataset llamado **consolidado** podemos aplicar la misma metodología previamente mencionada a otro conjunto de columnas: \n",
    "\n",
    "\"activity_id\", \"activity_category\", \"group_1\", \"tipo_actividad\""
   ]
  },
  {
   "cell_type": "code",
   "execution_count": 17,
   "metadata": {
    "colab": {
     "base_uri": "https://localhost:8080/",
     "height": 135
    },
    "id": "Pxbqt9iwE3el",
    "outputId": "3c1cb608-b838-4517-d6d1-89bb2487a136"
   },
   "outputs": [
    {
     "data": {
      "text/html": [
       "<div>\n",
       "<style scoped>\n",
       "    .dataframe tbody tr th:only-of-type {\n",
       "        vertical-align: middle;\n",
       "    }\n",
       "\n",
       "    .dataframe tbody tr th {\n",
       "        vertical-align: top;\n",
       "    }\n",
       "\n",
       "    .dataframe thead th {\n",
       "        text-align: right;\n",
       "    }\n",
       "</style>\n",
       "<table border=\"1\" class=\"dataframe\">\n",
       "  <thead>\n",
       "    <tr style=\"text-align: right;\">\n",
       "      <th></th>\n",
       "      <th>activity_id</th>\n",
       "      <th>activity_category</th>\n",
       "      <th>group_1</th>\n",
       "      <th>tipo_actividad</th>\n",
       "    </tr>\n",
       "  </thead>\n",
       "  <tbody>\n",
       "    <tr>\n",
       "      <th>0</th>\n",
       "      <td>act2_1734928</td>\n",
       "      <td>type 4</td>\n",
       "      <td>group 17304</td>\n",
       "      <td>type 76</td>\n",
       "    </tr>\n",
       "    <tr>\n",
       "      <th>1</th>\n",
       "      <td>act2_2434093</td>\n",
       "      <td>type 2</td>\n",
       "      <td>group 17304</td>\n",
       "      <td>type 1</td>\n",
       "    </tr>\n",
       "    <tr>\n",
       "      <th>2</th>\n",
       "      <td>act2_3404049</td>\n",
       "      <td>type 2</td>\n",
       "      <td>group 17304</td>\n",
       "      <td>type 1</td>\n",
       "    </tr>\n",
       "  </tbody>\n",
       "</table>\n",
       "</div>"
      ],
      "text/plain": [
       "    activity_id activity_category      group_1 tipo_actividad\n",
       "0  act2_1734928            type 4  group 17304        type 76\n",
       "1  act2_2434093            type 2  group 17304         type 1\n",
       "2  act2_3404049            type 2  group 17304         type 1"
      ]
     },
     "execution_count": 17,
     "metadata": {},
     "output_type": "execute_result"
    }
   ],
   "source": [
    "consolidado[[\"activity_id\", \"activity_category\", \"group_1\", \"tipo_actividad\"]].head(3)"
   ]
  },
  {
   "cell_type": "code",
   "execution_count": 18,
   "metadata": {
    "colab": {
     "base_uri": "https://localhost:8080/",
     "height": 88
    },
    "id": "zwHaLBSsBzIW",
    "outputId": "c6e02668-2d10-44c1-f6fa-ee81412c4326"
   },
   "outputs": [
    {
     "name": "stdout",
     "output_type": "stream",
     "text": [
      "Tipos de variables luego de 3er reemplazo 0\n",
      "int32      5\n",
      "int64     30\n",
      "object    11\n",
      "dtype: int64\n"
     ]
    }
   ],
   "source": [
    "consolidado.activity_id = consolidado.activity_id.str.slice(start=5).astype(float).astype(int)\n",
    "consolidado.activity_category = consolidado.activity_category.str.slice(start=5).astype(float).astype(int)\n",
    "consolidado.group_1 = consolidado.group_1.str.slice(start=6).astype(float).astype(int)\n",
    "consolidado.tipo_actividad = consolidado.tipo_actividad.str.slice(start=5).astype(float).astype(int)\n",
    "\n",
    "types = pd.DataFrame(consolidado.dtypes)\n",
    "print(\"Tipos de variables luego de 3er reemplazo\",types.groupby(0).size())"
   ]
  },
  {
   "cell_type": "markdown",
   "metadata": {
    "id": "N212VqnfBEsA"
   },
   "source": [
    "Evaluemos las variables que siguen tipo object y averiguemos la cantidad de valores distintos que poseen:"
   ]
  },
  {
   "cell_type": "code",
   "execution_count": 19,
   "metadata": {
    "colab": {
     "base_uri": "https://localhost:8080/",
     "height": 212
    },
    "id": "gs2LPHTT3Xd5",
    "outputId": "72559aa1-d2a6-48cf-b744-6bd92ffc01fa"
   },
   "outputs": [
    {
     "name": "stdout",
     "output_type": "stream",
     "text": [
      "La variable fecha_actividad contiene: 411 distinct values\n",
      "La variable char_1 contiene: 2 distinct values\n",
      "La variable char_2 contiene: 3 distinct values\n",
      "La variable date contiene: 1196 distinct values\n",
      "La variable char_3 contiene: 43 distinct values\n",
      "La variable char_4 contiene: 25 distinct values\n",
      "La variable char_5 contiene: 9 distinct values\n",
      "La variable char_6 contiene: 7 distinct values\n",
      "La variable char_7 contiene: 25 distinct values\n",
      "La variable char_8 contiene: 8 distinct values\n",
      "La variable char_9 contiene: 9 distinct values\n"
     ]
    }
   ],
   "source": [
    "categoricas = types.index[types[0] == 'O'].values\n",
    "for line in categoricas:\n",
    " print(\"La variable \"+ line +\" contiene:\",str(len(consolidado[line].unique()))+\" distinct values\")"
   ]
  },
  {
   "cell_type": "markdown",
   "metadata": {
    "id": "YGMo1pAGF4at"
   },
   "source": [
    "En el resultado anterior se identifica: \n",
    "\n",
    "* la variable _fecha_actividad_ tiene 411 valores diferentes.\n",
    "* la variable _char_1_ tiene 2 valores diferentes.\n",
    "* la variable _char_2_ tiene 3 valores diferentes.\n",
    "* Asi sucesivamente\n",
    "\n",
    "### Trabajo con variables datetime\n",
    "\n",
    "Del listado anterior resaltamos dos variables tipo fecha (\"date\", \"fecha_actividad\") Para la red neuronal representa una oportunidad poder extraer una serie de caracteristicas adicionales que le permitan entender patrones estacionales de diferentes periodicidades (diario, semanal, mensual, etc) es por esto que crearemos una serie de variables adicionales (de naturaleza numérica) a partir de estas dos fechas:"
   ]
  },
  {
   "cell_type": "code",
   "execution_count": 20,
   "metadata": {},
   "outputs": [],
   "source": [
    "#Convertimos la variable objeto en datetime\n",
    "consolidado[\"date\"] = pd.to_datetime(consolidado[\"date\"])"
   ]
  },
  {
   "cell_type": "code",
   "execution_count": 21,
   "metadata": {},
   "outputs": [
    {
     "name": "stderr",
     "output_type": "stream",
     "text": [
      "C:\\Users\\YULY\\anaconda\\envs\\base2\\lib\\site-packages\\ipykernel_launcher.py:4: FutureWarning: Series.dt.weekofyear and Series.dt.week have been deprecated.  Please use Series.dt.isocalendar().week instead.\n",
      "  after removing the cwd from sys.path.\n"
     ]
    },
    {
     "data": {
      "text/html": [
       "<div>\n",
       "<style scoped>\n",
       "    .dataframe tbody tr th:only-of-type {\n",
       "        vertical-align: middle;\n",
       "    }\n",
       "\n",
       "    .dataframe tbody tr th {\n",
       "        vertical-align: top;\n",
       "    }\n",
       "\n",
       "    .dataframe thead th {\n",
       "        text-align: right;\n",
       "    }\n",
       "</style>\n",
       "<table border=\"1\" class=\"dataframe\">\n",
       "  <thead>\n",
       "    <tr style=\"text-align: right;\">\n",
       "      <th></th>\n",
       "      <th>people_id</th>\n",
       "      <th>activity_id</th>\n",
       "      <th>fecha_actividad</th>\n",
       "      <th>activity_category</th>\n",
       "      <th>tipo_actividad</th>\n",
       "      <th>outcome</th>\n",
       "      <th>char_1</th>\n",
       "      <th>group_1</th>\n",
       "      <th>char_2</th>\n",
       "      <th>date</th>\n",
       "      <th>...</th>\n",
       "      <th>char_35</th>\n",
       "      <th>char_36</th>\n",
       "      <th>char_37</th>\n",
       "      <th>char_38</th>\n",
       "      <th>dia</th>\n",
       "      <th>dia_semana</th>\n",
       "      <th>semana</th>\n",
       "      <th>mes</th>\n",
       "      <th>trimestre</th>\n",
       "      <th>año</th>\n",
       "    </tr>\n",
       "  </thead>\n",
       "  <tbody>\n",
       "    <tr>\n",
       "      <th>0</th>\n",
       "      <td>100</td>\n",
       "      <td>1734928</td>\n",
       "      <td>2023-08-26</td>\n",
       "      <td>4</td>\n",
       "      <td>76</td>\n",
       "      <td>0</td>\n",
       "      <td>type 2</td>\n",
       "      <td>17304</td>\n",
       "      <td>type 2</td>\n",
       "      <td>2021-06-29</td>\n",
       "      <td>...</td>\n",
       "      <td>1</td>\n",
       "      <td>1</td>\n",
       "      <td>0</td>\n",
       "      <td>36</td>\n",
       "      <td>29</td>\n",
       "      <td>1</td>\n",
       "      <td>26</td>\n",
       "      <td>6</td>\n",
       "      <td>2</td>\n",
       "      <td>2021</td>\n",
       "    </tr>\n",
       "    <tr>\n",
       "      <th>1</th>\n",
       "      <td>100</td>\n",
       "      <td>2434093</td>\n",
       "      <td>2022-09-27</td>\n",
       "      <td>2</td>\n",
       "      <td>1</td>\n",
       "      <td>0</td>\n",
       "      <td>type 2</td>\n",
       "      <td>17304</td>\n",
       "      <td>type 2</td>\n",
       "      <td>2021-06-29</td>\n",
       "      <td>...</td>\n",
       "      <td>1</td>\n",
       "      <td>1</td>\n",
       "      <td>0</td>\n",
       "      <td>36</td>\n",
       "      <td>29</td>\n",
       "      <td>1</td>\n",
       "      <td>26</td>\n",
       "      <td>6</td>\n",
       "      <td>2</td>\n",
       "      <td>2021</td>\n",
       "    </tr>\n",
       "    <tr>\n",
       "      <th>2</th>\n",
       "      <td>100</td>\n",
       "      <td>3404049</td>\n",
       "      <td>2022-09-27</td>\n",
       "      <td>2</td>\n",
       "      <td>1</td>\n",
       "      <td>0</td>\n",
       "      <td>type 2</td>\n",
       "      <td>17304</td>\n",
       "      <td>type 2</td>\n",
       "      <td>2021-06-29</td>\n",
       "      <td>...</td>\n",
       "      <td>1</td>\n",
       "      <td>1</td>\n",
       "      <td>0</td>\n",
       "      <td>36</td>\n",
       "      <td>29</td>\n",
       "      <td>1</td>\n",
       "      <td>26</td>\n",
       "      <td>6</td>\n",
       "      <td>2</td>\n",
       "      <td>2021</td>\n",
       "    </tr>\n",
       "    <tr>\n",
       "      <th>3</th>\n",
       "      <td>100</td>\n",
       "      <td>3651215</td>\n",
       "      <td>2023-08-04</td>\n",
       "      <td>2</td>\n",
       "      <td>1</td>\n",
       "      <td>0</td>\n",
       "      <td>type 2</td>\n",
       "      <td>17304</td>\n",
       "      <td>type 2</td>\n",
       "      <td>2021-06-29</td>\n",
       "      <td>...</td>\n",
       "      <td>1</td>\n",
       "      <td>1</td>\n",
       "      <td>0</td>\n",
       "      <td>36</td>\n",
       "      <td>29</td>\n",
       "      <td>1</td>\n",
       "      <td>26</td>\n",
       "      <td>6</td>\n",
       "      <td>2</td>\n",
       "      <td>2021</td>\n",
       "    </tr>\n",
       "  </tbody>\n",
       "</table>\n",
       "<p>4 rows × 52 columns</p>\n",
       "</div>"
      ],
      "text/plain": [
       "   people_id  activity_id fecha_actividad  activity_category  tipo_actividad  \\\n",
       "0        100      1734928      2023-08-26                  4              76   \n",
       "1        100      2434093      2022-09-27                  2               1   \n",
       "2        100      3404049      2022-09-27                  2               1   \n",
       "3        100      3651215      2023-08-04                  2               1   \n",
       "\n",
       "   outcome  char_1  group_1  char_2       date  ... char_35 char_36 char_37  \\\n",
       "0        0  type 2    17304  type 2 2021-06-29  ...       1       1       0   \n",
       "1        0  type 2    17304  type 2 2021-06-29  ...       1       1       0   \n",
       "2        0  type 2    17304  type 2 2021-06-29  ...       1       1       0   \n",
       "3        0  type 2    17304  type 2 2021-06-29  ...       1       1       0   \n",
       "\n",
       "  char_38 dia dia_semana semana  mes  trimestre   año  \n",
       "0      36  29          1     26    6          2  2021  \n",
       "1      36  29          1     26    6          2  2021  \n",
       "2      36  29          1     26    6          2  2021  \n",
       "3      36  29          1     26    6          2  2021  \n",
       "\n",
       "[4 rows x 52 columns]"
      ]
     },
     "execution_count": 21,
     "metadata": {},
     "output_type": "execute_result"
    }
   ],
   "source": [
    "#Creamos nuevas variables\n",
    "consolidado[\"dia\"] = consolidado[\"date\"].dt.day\n",
    "consolidado[\"dia_semana\"] = consolidado[\"date\"].dt.weekday\n",
    "consolidado[\"semana\"] = consolidado[\"date\"].dt.week\n",
    "consolidado[\"mes\"] = consolidado[\"date\"].dt.month\n",
    "consolidado[\"trimestre\"] = consolidado[\"date\"].dt.quarter\n",
    "consolidado[\"año\"] = consolidado[\"date\"].dt.year\n",
    "consolidado.head(4)"
   ]
  },
  {
   "cell_type": "code",
   "execution_count": 22,
   "metadata": {},
   "outputs": [
    {
     "name": "stderr",
     "output_type": "stream",
     "text": [
      "C:\\Users\\YULY\\anaconda\\envs\\base2\\lib\\site-packages\\ipykernel_launcher.py:5: FutureWarning: Series.dt.weekofyear and Series.dt.week have been deprecated.  Please use Series.dt.isocalendar().week instead.\n",
      "  \"\"\"\n"
     ]
    },
    {
     "data": {
      "text/html": [
       "<div>\n",
       "<style scoped>\n",
       "    .dataframe tbody tr th:only-of-type {\n",
       "        vertical-align: middle;\n",
       "    }\n",
       "\n",
       "    .dataframe tbody tr th {\n",
       "        vertical-align: top;\n",
       "    }\n",
       "\n",
       "    .dataframe thead th {\n",
       "        text-align: right;\n",
       "    }\n",
       "</style>\n",
       "<table border=\"1\" class=\"dataframe\">\n",
       "  <thead>\n",
       "    <tr style=\"text-align: right;\">\n",
       "      <th></th>\n",
       "      <th>people_id</th>\n",
       "      <th>activity_id</th>\n",
       "      <th>fecha_actividad</th>\n",
       "      <th>activity_category</th>\n",
       "      <th>tipo_actividad</th>\n",
       "      <th>outcome</th>\n",
       "      <th>char_1</th>\n",
       "      <th>group_1</th>\n",
       "      <th>char_2</th>\n",
       "      <th>date</th>\n",
       "      <th>...</th>\n",
       "      <th>semana</th>\n",
       "      <th>mes</th>\n",
       "      <th>trimestre</th>\n",
       "      <th>año</th>\n",
       "      <th>dia_actividad</th>\n",
       "      <th>dia_semana_actividad</th>\n",
       "      <th>semana_actividad</th>\n",
       "      <th>mes_actividad</th>\n",
       "      <th>trimestre_actividad</th>\n",
       "      <th>año_actividad</th>\n",
       "    </tr>\n",
       "  </thead>\n",
       "  <tbody>\n",
       "    <tr>\n",
       "      <th>0</th>\n",
       "      <td>100</td>\n",
       "      <td>1734928</td>\n",
       "      <td>2023-08-26</td>\n",
       "      <td>4</td>\n",
       "      <td>76</td>\n",
       "      <td>0</td>\n",
       "      <td>type 2</td>\n",
       "      <td>17304</td>\n",
       "      <td>type 2</td>\n",
       "      <td>2021-06-29</td>\n",
       "      <td>...</td>\n",
       "      <td>26</td>\n",
       "      <td>6</td>\n",
       "      <td>2</td>\n",
       "      <td>2021</td>\n",
       "      <td>26</td>\n",
       "      <td>5</td>\n",
       "      <td>34</td>\n",
       "      <td>8</td>\n",
       "      <td>3</td>\n",
       "      <td>2023</td>\n",
       "    </tr>\n",
       "    <tr>\n",
       "      <th>1</th>\n",
       "      <td>100</td>\n",
       "      <td>2434093</td>\n",
       "      <td>2022-09-27</td>\n",
       "      <td>2</td>\n",
       "      <td>1</td>\n",
       "      <td>0</td>\n",
       "      <td>type 2</td>\n",
       "      <td>17304</td>\n",
       "      <td>type 2</td>\n",
       "      <td>2021-06-29</td>\n",
       "      <td>...</td>\n",
       "      <td>26</td>\n",
       "      <td>6</td>\n",
       "      <td>2</td>\n",
       "      <td>2021</td>\n",
       "      <td>27</td>\n",
       "      <td>1</td>\n",
       "      <td>39</td>\n",
       "      <td>9</td>\n",
       "      <td>3</td>\n",
       "      <td>2022</td>\n",
       "    </tr>\n",
       "    <tr>\n",
       "      <th>2</th>\n",
       "      <td>100</td>\n",
       "      <td>3404049</td>\n",
       "      <td>2022-09-27</td>\n",
       "      <td>2</td>\n",
       "      <td>1</td>\n",
       "      <td>0</td>\n",
       "      <td>type 2</td>\n",
       "      <td>17304</td>\n",
       "      <td>type 2</td>\n",
       "      <td>2021-06-29</td>\n",
       "      <td>...</td>\n",
       "      <td>26</td>\n",
       "      <td>6</td>\n",
       "      <td>2</td>\n",
       "      <td>2021</td>\n",
       "      <td>27</td>\n",
       "      <td>1</td>\n",
       "      <td>39</td>\n",
       "      <td>9</td>\n",
       "      <td>3</td>\n",
       "      <td>2022</td>\n",
       "    </tr>\n",
       "    <tr>\n",
       "      <th>3</th>\n",
       "      <td>100</td>\n",
       "      <td>3651215</td>\n",
       "      <td>2023-08-04</td>\n",
       "      <td>2</td>\n",
       "      <td>1</td>\n",
       "      <td>0</td>\n",
       "      <td>type 2</td>\n",
       "      <td>17304</td>\n",
       "      <td>type 2</td>\n",
       "      <td>2021-06-29</td>\n",
       "      <td>...</td>\n",
       "      <td>26</td>\n",
       "      <td>6</td>\n",
       "      <td>2</td>\n",
       "      <td>2021</td>\n",
       "      <td>4</td>\n",
       "      <td>4</td>\n",
       "      <td>31</td>\n",
       "      <td>8</td>\n",
       "      <td>3</td>\n",
       "      <td>2023</td>\n",
       "    </tr>\n",
       "  </tbody>\n",
       "</table>\n",
       "<p>4 rows × 58 columns</p>\n",
       "</div>"
      ],
      "text/plain": [
       "   people_id  activity_id fecha_actividad  activity_category  tipo_actividad  \\\n",
       "0        100      1734928      2023-08-26                  4              76   \n",
       "1        100      2434093      2022-09-27                  2               1   \n",
       "2        100      3404049      2022-09-27                  2               1   \n",
       "3        100      3651215      2023-08-04                  2               1   \n",
       "\n",
       "   outcome  char_1  group_1  char_2       date  ... semana mes trimestre  \\\n",
       "0        0  type 2    17304  type 2 2021-06-29  ...     26   6         2   \n",
       "1        0  type 2    17304  type 2 2021-06-29  ...     26   6         2   \n",
       "2        0  type 2    17304  type 2 2021-06-29  ...     26   6         2   \n",
       "3        0  type 2    17304  type 2 2021-06-29  ...     26   6         2   \n",
       "\n",
       "    año dia_actividad dia_semana_actividad semana_actividad  mes_actividad  \\\n",
       "0  2021            26                    5               34              8   \n",
       "1  2021            27                    1               39              9   \n",
       "2  2021            27                    1               39              9   \n",
       "3  2021             4                    4               31              8   \n",
       "\n",
       "   trimestre_actividad  año_actividad  \n",
       "0                    3           2023  \n",
       "1                    3           2022  \n",
       "2                    3           2022  \n",
       "3                    3           2023  \n",
       "\n",
       "[4 rows x 58 columns]"
      ]
     },
     "execution_count": 22,
     "metadata": {},
     "output_type": "execute_result"
    }
   ],
   "source": [
    "#Repetimos el procedimiento anterior con fecha_actividad\n",
    "consolidado[\"fecha_actividad\"] = pd.to_datetime(consolidado[\"fecha_actividad\"])\n",
    "consolidado[\"dia_actividad\"] = consolidado[\"fecha_actividad\"].dt.day\n",
    "consolidado[\"dia_semana_actividad\"] = consolidado[\"fecha_actividad\"].dt.weekday\n",
    "consolidado[\"semana_actividad\"] = consolidado[\"fecha_actividad\"].dt.week\n",
    "consolidado[\"mes_actividad\"] = consolidado[\"fecha_actividad\"].dt.month\n",
    "consolidado[\"trimestre_actividad\"] = consolidado[\"fecha_actividad\"].dt.quarter\n",
    "consolidado[\"año_actividad\"] = consolidado[\"fecha_actividad\"].dt.year\n",
    "consolidado.head(4)"
   ]
  },
  {
   "cell_type": "code",
   "execution_count": 23,
   "metadata": {},
   "outputs": [],
   "source": [
    "#Delete the original date columns\n",
    "del(consolidado[\"date\"])\n",
    "del(consolidado[\"fecha_actividad\"])"
   ]
  },
  {
   "cell_type": "code",
   "execution_count": 24,
   "metadata": {
    "colab": {
     "base_uri": "https://localhost:8080/",
     "height": 88
    },
    "id": "cH_A3NfKPgCK",
    "outputId": "5db79f3c-0b5b-40bc-ad7a-7901ff136ead"
   },
   "outputs": [
    {
     "name": "stdout",
     "output_type": "stream",
     "text": [
      "Tipos de variables luego de 4to reemplazo 0\n",
      "int32      5\n",
      "int64     42\n",
      "object     9\n",
      "dtype: int64\n"
     ]
    }
   ],
   "source": [
    "types = pd.DataFrame(consolidado.dtypes)\n",
    "print(\"Tipos de variables luego de 4to reemplazo\",types.groupby(0).size())"
   ]
  },
  {
   "cell_type": "markdown",
   "metadata": {},
   "source": [
    "**Nos restan 9 variables tipo objeto para poder cambiarla a numerica.**"
   ]
  },
  {
   "cell_type": "code",
   "execution_count": 25,
   "metadata": {
    "colab": {
     "base_uri": "https://localhost:8080/",
     "height": 155
    },
    "id": "yCt_KKF3PgHN",
    "outputId": "e3986e25-3cae-4f84-f735-61b62f02aa73"
   },
   "outputs": [
    {
     "data": {
      "text/html": [
       "<div>\n",
       "<style scoped>\n",
       "    .dataframe tbody tr th:only-of-type {\n",
       "        vertical-align: middle;\n",
       "    }\n",
       "\n",
       "    .dataframe tbody tr th {\n",
       "        vertical-align: top;\n",
       "    }\n",
       "\n",
       "    .dataframe thead th {\n",
       "        text-align: right;\n",
       "    }\n",
       "</style>\n",
       "<table border=\"1\" class=\"dataframe\">\n",
       "  <thead>\n",
       "    <tr style=\"text-align: right;\">\n",
       "      <th></th>\n",
       "      <th>people_id</th>\n",
       "      <th>activity_id</th>\n",
       "      <th>activity_category</th>\n",
       "      <th>tipo_actividad</th>\n",
       "      <th>outcome</th>\n",
       "      <th>char_1</th>\n",
       "      <th>group_1</th>\n",
       "      <th>char_2</th>\n",
       "      <th>char_3</th>\n",
       "      <th>char_4</th>\n",
       "      <th>...</th>\n",
       "      <th>semana</th>\n",
       "      <th>mes</th>\n",
       "      <th>trimestre</th>\n",
       "      <th>año</th>\n",
       "      <th>dia_actividad</th>\n",
       "      <th>dia_semana_actividad</th>\n",
       "      <th>semana_actividad</th>\n",
       "      <th>mes_actividad</th>\n",
       "      <th>trimestre_actividad</th>\n",
       "      <th>año_actividad</th>\n",
       "    </tr>\n",
       "  </thead>\n",
       "  <tbody>\n",
       "    <tr>\n",
       "      <th>0</th>\n",
       "      <td>100</td>\n",
       "      <td>1734928</td>\n",
       "      <td>4</td>\n",
       "      <td>76</td>\n",
       "      <td>0</td>\n",
       "      <td>type 2</td>\n",
       "      <td>17304</td>\n",
       "      <td>type 2</td>\n",
       "      <td>type 5</td>\n",
       "      <td>type 5</td>\n",
       "      <td>...</td>\n",
       "      <td>26</td>\n",
       "      <td>6</td>\n",
       "      <td>2</td>\n",
       "      <td>2021</td>\n",
       "      <td>26</td>\n",
       "      <td>5</td>\n",
       "      <td>34</td>\n",
       "      <td>8</td>\n",
       "      <td>3</td>\n",
       "      <td>2023</td>\n",
       "    </tr>\n",
       "    <tr>\n",
       "      <th>1</th>\n",
       "      <td>100</td>\n",
       "      <td>2434093</td>\n",
       "      <td>2</td>\n",
       "      <td>1</td>\n",
       "      <td>0</td>\n",
       "      <td>type 2</td>\n",
       "      <td>17304</td>\n",
       "      <td>type 2</td>\n",
       "      <td>type 5</td>\n",
       "      <td>type 5</td>\n",
       "      <td>...</td>\n",
       "      <td>26</td>\n",
       "      <td>6</td>\n",
       "      <td>2</td>\n",
       "      <td>2021</td>\n",
       "      <td>27</td>\n",
       "      <td>1</td>\n",
       "      <td>39</td>\n",
       "      <td>9</td>\n",
       "      <td>3</td>\n",
       "      <td>2022</td>\n",
       "    </tr>\n",
       "    <tr>\n",
       "      <th>2</th>\n",
       "      <td>100</td>\n",
       "      <td>3404049</td>\n",
       "      <td>2</td>\n",
       "      <td>1</td>\n",
       "      <td>0</td>\n",
       "      <td>type 2</td>\n",
       "      <td>17304</td>\n",
       "      <td>type 2</td>\n",
       "      <td>type 5</td>\n",
       "      <td>type 5</td>\n",
       "      <td>...</td>\n",
       "      <td>26</td>\n",
       "      <td>6</td>\n",
       "      <td>2</td>\n",
       "      <td>2021</td>\n",
       "      <td>27</td>\n",
       "      <td>1</td>\n",
       "      <td>39</td>\n",
       "      <td>9</td>\n",
       "      <td>3</td>\n",
       "      <td>2022</td>\n",
       "    </tr>\n",
       "  </tbody>\n",
       "</table>\n",
       "<p>3 rows × 56 columns</p>\n",
       "</div>"
      ],
      "text/plain": [
       "   people_id  activity_id  activity_category  tipo_actividad  outcome  char_1  \\\n",
       "0        100      1734928                  4              76        0  type 2   \n",
       "1        100      2434093                  2               1        0  type 2   \n",
       "2        100      3404049                  2               1        0  type 2   \n",
       "\n",
       "   group_1  char_2  char_3  char_4  ... semana mes trimestre   año  \\\n",
       "0    17304  type 2  type 5  type 5  ...     26   6         2  2021   \n",
       "1    17304  type 2  type 5  type 5  ...     26   6         2  2021   \n",
       "2    17304  type 2  type 5  type 5  ...     26   6         2  2021   \n",
       "\n",
       "  dia_actividad  dia_semana_actividad  semana_actividad  mes_actividad  \\\n",
       "0            26                     5                34              8   \n",
       "1            27                     1                39              9   \n",
       "2            27                     1                39              9   \n",
       "\n",
       "   trimestre_actividad  año_actividad  \n",
       "0                    3           2023  \n",
       "1                    3           2022  \n",
       "2                    3           2022  \n",
       "\n",
       "[3 rows x 56 columns]"
      ]
     },
     "execution_count": 25,
     "metadata": {},
     "output_type": "execute_result"
    }
   ],
   "source": [
    "consolidado.head(3)"
   ]
  },
  {
   "cell_type": "markdown",
   "metadata": {
    "id": "s1XPWwHuX9HU"
   },
   "source": [
    "## One Hot Encoding\n",
    "\n",
    "Con la relativa pequeña cantidad de variables categoricas que manejamos vamos a proceder a realizar la conversión por One Hot Encoding"
   ]
  },
  {
   "cell_type": "code",
   "execution_count": 26,
   "metadata": {
    "colab": {
     "base_uri": "https://localhost:8080/",
     "height": 177
    },
    "id": "saG7uQAlzG53",
    "outputId": "f6a63708-e618-4392-f6ab-096c2c031375"
   },
   "outputs": [
    {
     "name": "stdout",
     "output_type": "stream",
     "text": [
      "La variable char_1 contiene: 2 distinct values\n",
      "La variable char_2 contiene: 3 distinct values\n",
      "La variable char_3 contiene: 43 distinct values\n",
      "La variable char_4 contiene: 25 distinct values\n",
      "La variable char_5 contiene: 9 distinct values\n",
      "La variable char_6 contiene: 7 distinct values\n",
      "La variable char_7 contiene: 25 distinct values\n",
      "La variable char_8 contiene: 8 distinct values\n",
      "La variable char_9 contiene: 9 distinct values\n"
     ]
    }
   ],
   "source": [
    "categoricas = types.index[types[0] == 'O'].values\n",
    "for line in categoricas:\n",
    " print(\"La variable \"+ line +\" contiene:\",str(len(consolidado[line].unique()))+\" distinct values\")"
   ]
  },
  {
   "cell_type": "code",
   "execution_count": null,
   "metadata": {
    "id": "yM6_lZUoVqvJ"
   },
   "outputs": [],
   "source": [
    "from sklearn.preprocessing import LabelEncoder, OneHotEncoder\n",
    "\n",
    "#ejemplo de One Hot Encoder\n",
    "columna='char_6'\n",
    "le = LabelEncoder()\n",
    "le_ajustado=le.fit_transform(consolidado[columna]).reshape(-1,1)\n",
    "le_ajustado[:10]"
   ]
  },
  {
   "cell_type": "code",
   "execution_count": 28,
   "metadata": {
    "colab": {
     "base_uri": "https://localhost:8080/",
     "height": 141
    },
    "id": "x-D8fQlCXoXe",
    "outputId": "9eccf8d1-9300-4ae4-e993-0a6c5a89d651"
   },
   "outputs": [
    {
     "data": {
      "text/plain": [
       "['char_6_type 1',\n",
       " 'char_6_type 2',\n",
       " 'char_6_type 3',\n",
       " 'char_6_type 4',\n",
       " 'char_6_type 5',\n",
       " 'char_6_type 6',\n",
       " 'char_6_type 7']"
      ]
     },
     "execution_count": 28,
     "metadata": {},
     "output_type": "execute_result"
    }
   ],
   "source": [
    "encoder = OneHotEncoder(sparse=False)\n",
    "column = [columna+ \"_\"+ str(i) for i in le.classes_]\n",
    "column"
   ]
  },
  {
   "cell_type": "code",
   "execution_count": 29,
   "metadata": {
    "colab": {
     "base_uri": "https://localhost:8080/",
     "height": 340
    },
    "id": "_EvY0edbW1ER",
    "outputId": "322557db-5c46-4fa6-b854-775541a14ee4"
   },
   "outputs": [
    {
     "data": {
      "text/html": [
       "<div>\n",
       "<style scoped>\n",
       "    .dataframe tbody tr th:only-of-type {\n",
       "        vertical-align: middle;\n",
       "    }\n",
       "\n",
       "    .dataframe tbody tr th {\n",
       "        vertical-align: top;\n",
       "    }\n",
       "\n",
       "    .dataframe thead th {\n",
       "        text-align: right;\n",
       "    }\n",
       "</style>\n",
       "<table border=\"1\" class=\"dataframe\">\n",
       "  <thead>\n",
       "    <tr style=\"text-align: right;\">\n",
       "      <th></th>\n",
       "      <th>char_6_type 1</th>\n",
       "      <th>char_6_type 2</th>\n",
       "      <th>char_6_type 3</th>\n",
       "      <th>char_6_type 4</th>\n",
       "      <th>char_6_type 5</th>\n",
       "      <th>char_6_type 6</th>\n",
       "      <th>char_6_type 7</th>\n",
       "    </tr>\n",
       "  </thead>\n",
       "  <tbody>\n",
       "    <tr>\n",
       "      <th>0</th>\n",
       "      <td>0.0</td>\n",
       "      <td>0.0</td>\n",
       "      <td>1.0</td>\n",
       "      <td>0.0</td>\n",
       "      <td>0.0</td>\n",
       "      <td>0.0</td>\n",
       "      <td>0.0</td>\n",
       "    </tr>\n",
       "    <tr>\n",
       "      <th>1</th>\n",
       "      <td>0.0</td>\n",
       "      <td>0.0</td>\n",
       "      <td>1.0</td>\n",
       "      <td>0.0</td>\n",
       "      <td>0.0</td>\n",
       "      <td>0.0</td>\n",
       "      <td>0.0</td>\n",
       "    </tr>\n",
       "    <tr>\n",
       "      <th>2</th>\n",
       "      <td>0.0</td>\n",
       "      <td>0.0</td>\n",
       "      <td>1.0</td>\n",
       "      <td>0.0</td>\n",
       "      <td>0.0</td>\n",
       "      <td>0.0</td>\n",
       "      <td>0.0</td>\n",
       "    </tr>\n",
       "    <tr>\n",
       "      <th>3</th>\n",
       "      <td>0.0</td>\n",
       "      <td>0.0</td>\n",
       "      <td>1.0</td>\n",
       "      <td>0.0</td>\n",
       "      <td>0.0</td>\n",
       "      <td>0.0</td>\n",
       "      <td>0.0</td>\n",
       "    </tr>\n",
       "    <tr>\n",
       "      <th>4</th>\n",
       "      <td>0.0</td>\n",
       "      <td>0.0</td>\n",
       "      <td>1.0</td>\n",
       "      <td>0.0</td>\n",
       "      <td>0.0</td>\n",
       "      <td>0.0</td>\n",
       "      <td>0.0</td>\n",
       "    </tr>\n",
       "    <tr>\n",
       "      <th>5</th>\n",
       "      <td>0.0</td>\n",
       "      <td>0.0</td>\n",
       "      <td>1.0</td>\n",
       "      <td>0.0</td>\n",
       "      <td>0.0</td>\n",
       "      <td>0.0</td>\n",
       "      <td>0.0</td>\n",
       "    </tr>\n",
       "    <tr>\n",
       "      <th>6</th>\n",
       "      <td>0.0</td>\n",
       "      <td>0.0</td>\n",
       "      <td>1.0</td>\n",
       "      <td>0.0</td>\n",
       "      <td>0.0</td>\n",
       "      <td>0.0</td>\n",
       "      <td>0.0</td>\n",
       "    </tr>\n",
       "    <tr>\n",
       "      <th>7</th>\n",
       "      <td>0.0</td>\n",
       "      <td>0.0</td>\n",
       "      <td>1.0</td>\n",
       "      <td>0.0</td>\n",
       "      <td>0.0</td>\n",
       "      <td>0.0</td>\n",
       "      <td>0.0</td>\n",
       "    </tr>\n",
       "    <tr>\n",
       "      <th>8</th>\n",
       "      <td>0.0</td>\n",
       "      <td>1.0</td>\n",
       "      <td>0.0</td>\n",
       "      <td>0.0</td>\n",
       "      <td>0.0</td>\n",
       "      <td>0.0</td>\n",
       "      <td>0.0</td>\n",
       "    </tr>\n",
       "    <tr>\n",
       "      <th>9</th>\n",
       "      <td>0.0</td>\n",
       "      <td>1.0</td>\n",
       "      <td>0.0</td>\n",
       "      <td>0.0</td>\n",
       "      <td>0.0</td>\n",
       "      <td>0.0</td>\n",
       "      <td>0.0</td>\n",
       "    </tr>\n",
       "  </tbody>\n",
       "</table>\n",
       "</div>"
      ],
      "text/plain": [
       "   char_6_type 1  char_6_type 2  char_6_type 3  char_6_type 4  char_6_type 5  \\\n",
       "0            0.0            0.0            1.0            0.0            0.0   \n",
       "1            0.0            0.0            1.0            0.0            0.0   \n",
       "2            0.0            0.0            1.0            0.0            0.0   \n",
       "3            0.0            0.0            1.0            0.0            0.0   \n",
       "4            0.0            0.0            1.0            0.0            0.0   \n",
       "5            0.0            0.0            1.0            0.0            0.0   \n",
       "6            0.0            0.0            1.0            0.0            0.0   \n",
       "7            0.0            0.0            1.0            0.0            0.0   \n",
       "8            0.0            1.0            0.0            0.0            0.0   \n",
       "9            0.0            1.0            0.0            0.0            0.0   \n",
       "\n",
       "   char_6_type 6  char_6_type 7  \n",
       "0            0.0            0.0  \n",
       "1            0.0            0.0  \n",
       "2            0.0            0.0  \n",
       "3            0.0            0.0  \n",
       "4            0.0            0.0  \n",
       "5            0.0            0.0  \n",
       "6            0.0            0.0  \n",
       "7            0.0            0.0  \n",
       "8            0.0            0.0  \n",
       "9            0.0            0.0  "
      ]
     },
     "execution_count": 29,
     "metadata": {},
     "output_type": "execute_result"
    }
   ],
   "source": [
    "pd.DataFrame(encoder.fit_transform(le_ajustado),columns =column).head(10)"
   ]
  },
  {
   "cell_type": "markdown",
   "metadata": {},
   "source": [
    "* Si la primer observación era tipo3, entonces todas las filas serán 0 excepto en la columna **type_3** \n",
    "* Si alguna observación era tipo6, entonces todas las filas serán 0 excepto en la columna **type_6** \n",
    "* El procedimiento es el mismo para las demás observaciones.\n",
    "\n",
    "---\n",
    "\n",
    "\n",
    "El siguiente código hace el **One Hot Encodin** de una forma más rápida. "
   ]
  },
  {
   "cell_type": "code",
   "execution_count": 30,
   "metadata": {
    "id": "tkHN8cnOQQwP"
   },
   "outputs": [],
   "source": [
    "#Se define función que captura el dataframe y la columna para retornar un dataframe luego de OHE\n",
    "def crea_OneHotEncoding(df, columna):\n",
    "  le = LabelEncoder()\n",
    "  le_ajustado=le.fit_transform(df[columna]).reshape(-1,1)\n",
    "  encoder = OneHotEncoder(sparse=False)\n",
    "  column = [columna+ \"_\"+ str(i) for i in le.classes_]\n",
    "  data = encoder.fit_transform(le_ajustado)\n",
    "  return(pd.DataFrame(data,columns =column))"
   ]
  },
  {
   "cell_type": "code",
   "execution_count": 31,
   "metadata": {
    "colab": {
     "base_uri": "https://localhost:8080/",
     "height": 195
    },
    "id": "KeONNDhnMYz4",
    "outputId": "c9aa2289-2d6f-48af-dade-2238a89a8a93"
   },
   "outputs": [
    {
     "name": "stdout",
     "output_type": "stream",
     "text": [
      "Columna  char_1  transformada!\n",
      "Columna  char_2  transformada!\n",
      "Columna  char_3  transformada!\n",
      "Columna  char_4  transformada!\n",
      "Columna  char_5  transformada!\n",
      "Columna  char_6  transformada!\n",
      "Columna  char_7  transformada!\n",
      "Columna  char_8  transformada!\n",
      "Columna  char_9  transformada!\n",
      "Tamaño final del dataset transformado: (2197291, 172)\n"
     ]
    }
   ],
   "source": [
    "numeric_columns = list(set(types.index[types[0] ==\"int64\"].values) - set([\"outcome\"]))\n",
    "variables_consolidadas = consolidado[numeric_columns]\n",
    "objetivo = consolidado[\"outcome\"]\n",
    "\n",
    "categoricas = types.index[types[0] == 'O'].values\n",
    "for column in categoricas:\n",
    "  df = crea_OneHotEncoding(consolidado,column)\n",
    "  variables_consolidadas = pd.concat([variables_consolidadas,df],axis=1)\n",
    "  print(\"Columna \",column, \" transformada!\")\n",
    "\n",
    "print(\"Tamaño final del dataset transformado:\",variables_consolidadas.shape)"
   ]
  },
  {
   "cell_type": "markdown",
   "metadata": {},
   "source": [
    "Se tiene la misma cantidad deregistros pero con la diferencia de más columnas (variables) 172 ."
   ]
  },
  {
   "cell_type": "code",
   "execution_count": 33,
   "metadata": {
    "colab": {
     "base_uri": "https://localhost:8080/",
     "height": 201
    },
    "id": "d-Isxxj2wzPX",
    "outputId": "f610b55c-4c63-4856-bf16-770a58bf6a27"
   },
   "outputs": [
    {
     "data": {
      "text/html": [
       "<div>\n",
       "<style scoped>\n",
       "    .dataframe tbody tr th:only-of-type {\n",
       "        vertical-align: middle;\n",
       "    }\n",
       "\n",
       "    .dataframe tbody tr th {\n",
       "        vertical-align: top;\n",
       "    }\n",
       "\n",
       "    .dataframe thead th {\n",
       "        text-align: right;\n",
       "    }\n",
       "</style>\n",
       "<table border=\"1\" class=\"dataframe\">\n",
       "  <thead>\n",
       "    <tr style=\"text-align: right;\">\n",
       "      <th></th>\n",
       "      <th>año</th>\n",
       "      <th>char_37</th>\n",
       "      <th>char_11</th>\n",
       "      <th>char_27</th>\n",
       "      <th>char_26</th>\n",
       "      <th>char_14</th>\n",
       "      <th>char_16</th>\n",
       "      <th>char_34</th>\n",
       "      <th>trimestre</th>\n",
       "      <th>mes_actividad</th>\n",
       "      <th>...</th>\n",
       "      <th>char_8_type 8</th>\n",
       "      <th>char_9_type 1</th>\n",
       "      <th>char_9_type 2</th>\n",
       "      <th>char_9_type 3</th>\n",
       "      <th>char_9_type 4</th>\n",
       "      <th>char_9_type 5</th>\n",
       "      <th>char_9_type 6</th>\n",
       "      <th>char_9_type 7</th>\n",
       "      <th>char_9_type 8</th>\n",
       "      <th>char_9_type 9</th>\n",
       "    </tr>\n",
       "  </thead>\n",
       "  <tbody>\n",
       "    <tr>\n",
       "      <th>0</th>\n",
       "      <td>2021</td>\n",
       "      <td>0</td>\n",
       "      <td>0</td>\n",
       "      <td>1</td>\n",
       "      <td>0</td>\n",
       "      <td>1</td>\n",
       "      <td>1</td>\n",
       "      <td>1</td>\n",
       "      <td>2</td>\n",
       "      <td>8</td>\n",
       "      <td>...</td>\n",
       "      <td>0.0</td>\n",
       "      <td>0.0</td>\n",
       "      <td>1.0</td>\n",
       "      <td>0.0</td>\n",
       "      <td>0.0</td>\n",
       "      <td>0.0</td>\n",
       "      <td>0.0</td>\n",
       "      <td>0.0</td>\n",
       "      <td>0.0</td>\n",
       "      <td>0.0</td>\n",
       "    </tr>\n",
       "    <tr>\n",
       "      <th>1</th>\n",
       "      <td>2021</td>\n",
       "      <td>0</td>\n",
       "      <td>0</td>\n",
       "      <td>1</td>\n",
       "      <td>0</td>\n",
       "      <td>1</td>\n",
       "      <td>1</td>\n",
       "      <td>1</td>\n",
       "      <td>2</td>\n",
       "      <td>9</td>\n",
       "      <td>...</td>\n",
       "      <td>0.0</td>\n",
       "      <td>0.0</td>\n",
       "      <td>1.0</td>\n",
       "      <td>0.0</td>\n",
       "      <td>0.0</td>\n",
       "      <td>0.0</td>\n",
       "      <td>0.0</td>\n",
       "      <td>0.0</td>\n",
       "      <td>0.0</td>\n",
       "      <td>0.0</td>\n",
       "    </tr>\n",
       "    <tr>\n",
       "      <th>2</th>\n",
       "      <td>2021</td>\n",
       "      <td>0</td>\n",
       "      <td>0</td>\n",
       "      <td>1</td>\n",
       "      <td>0</td>\n",
       "      <td>1</td>\n",
       "      <td>1</td>\n",
       "      <td>1</td>\n",
       "      <td>2</td>\n",
       "      <td>9</td>\n",
       "      <td>...</td>\n",
       "      <td>0.0</td>\n",
       "      <td>0.0</td>\n",
       "      <td>1.0</td>\n",
       "      <td>0.0</td>\n",
       "      <td>0.0</td>\n",
       "      <td>0.0</td>\n",
       "      <td>0.0</td>\n",
       "      <td>0.0</td>\n",
       "      <td>0.0</td>\n",
       "      <td>0.0</td>\n",
       "    </tr>\n",
       "  </tbody>\n",
       "</table>\n",
       "<p>3 rows × 172 columns</p>\n",
       "</div>"
      ],
      "text/plain": [
       "    año  char_37  char_11  char_27  char_26  char_14  char_16  char_34  \\\n",
       "0  2021        0        0        1        0        1        1        1   \n",
       "1  2021        0        0        1        0        1        1        1   \n",
       "2  2021        0        0        1        0        1        1        1   \n",
       "\n",
       "   trimestre  mes_actividad  ...  char_8_type 8  char_9_type 1  char_9_type 2  \\\n",
       "0          2              8  ...            0.0            0.0            1.0   \n",
       "1          2              9  ...            0.0            0.0            1.0   \n",
       "2          2              9  ...            0.0            0.0            1.0   \n",
       "\n",
       "   char_9_type 3  char_9_type 4  char_9_type 5  char_9_type 6  char_9_type 7  \\\n",
       "0            0.0            0.0            0.0            0.0            0.0   \n",
       "1            0.0            0.0            0.0            0.0            0.0   \n",
       "2            0.0            0.0            0.0            0.0            0.0   \n",
       "\n",
       "   char_9_type 8  char_9_type 9  \n",
       "0            0.0            0.0  \n",
       "1            0.0            0.0  \n",
       "2            0.0            0.0  \n",
       "\n",
       "[3 rows x 172 columns]"
      ]
     },
     "execution_count": 33,
     "metadata": {},
     "output_type": "execute_result"
    }
   ],
   "source": [
    "variables_consolidadas.head(3)"
   ]
  },
  {
   "cell_type": "markdown",
   "metadata": {
    "id": "mOP0z86EKrly"
   },
   "source": [
    "Se logra observar que todas las variables son de tipo numerica.\n",
    "\n",
    "# MUESTRAS DE ENTRENAMIENTO, VALIDACIÓN Y PRUEBA\n",
    "\n",
    "Con el dataset ya consolidado procedemos a seleccionar las muestras de:\n",
    "\n",
    "* **Entrenamiento**.\n",
    "* **Validación**. Los datos de _validación_ son tomados a partir del dataset de _entrenamiento_. \n",
    "* **prueba**. (con el que al final se evaluará para hacer pruebas)"
   ]
  },
  {
   "cell_type": "code",
   "execution_count": 34,
   "metadata": {
    "colab": {
     "base_uri": "https://localhost:8080/",
     "height": 124
    },
    "id": "Jug8ZISZQQ0X",
    "outputId": "425d4d29-c26a-40bd-e04b-7b717efcd454"
   },
   "outputs": [
    {
     "name": "stdout",
     "output_type": "stream",
     "text": [
      "Shape of x_train: (1582048, 172)\n",
      "Shape of x_test: (439459, 172)\n",
      "Shape of x_val: (175784, 172)\n",
      "Shape of y_train: (1582048,)\n",
      "Shape of y_test: (439459,)\n",
      "Shape of y_val: (175784,)\n"
     ]
    }
   ],
   "source": [
    "from sklearn.model_selection import train_test_split\n",
    "\n",
    "#Entrenamiento y prueba con relación 80:20\n",
    "x_train, x_test, y_train, y_test = train_test_split(variables_consolidadas,objetivo, test_size=0.2,random_state=2020)\n",
    "#Entrenamiento y validación con relación 90:10\n",
    "x_train, x_val, y_train, y_val = train_test_split(x_train,y_train, test_size=0.1, random_state=2020)\n",
    "\n",
    "print(\"Shape of x_train:\",x_train.shape)\n",
    "print(\"Shape of x_test:\",x_test.shape)\n",
    "print(\"Shape of x_val:\",x_val.shape)\n",
    "print(\"Shape of y_train:\",y_train.shape)\n",
    "print(\"Shape of y_test:\",y_test.shape)\n",
    "print(\"Shape of y_val:\",y_val.shape)"
   ]
  },
  {
   "cell_type": "markdown",
   "metadata": {
    "id": "APBt-AAfNBQj"
   },
   "source": [
    "El entrenamisntodurara mucho tiempo, ya que son (1582048, 172) obs de entrenamiento, es recomendable entonces implementar una arquitectura y realizar pruebas con un número pequeño de iteraciones o epocas, dependiendo de losresultados en estas épocas se decide si se cambia la arquitecura o si incrementasolamente el número de iteraciones.\n",
    "\n",
    "# <h1 id=\"arquitectura\">Arquitectura Propuesta</h1>\n",
    "\n",
    "Una vez consolidado los sets de información de entrenamiento, validacion y pruebas ya podemos iniciar a modelar nuestra red neuronal con las siguientes consideraciones:\n",
    "* Debido a que el problema consiste en un clasificador binario la función de perdidas más recomendada es **\"binary_crossentropy\"**.\n",
    "* De manera similar una función de activación que se adecua al tipo de problema es la **\"sigmoid\"**.\n",
    "* La metrica para evaluación sera la precisión **\"accuracy\"**\n",
    "* Debido a la gran cantidad de información el entrenamiento tomara más tiempo, en este escenario se implementaran arquitecturas más pequeñas con pocas epocas de entrenamiento y se escalará el modelo a medida los resultados del accuracy mejoren."
   ]
  },
  {
   "cell_type": "code",
   "execution_count": 36,
   "metadata": {
    "colab": {
     "base_uri": "https://localhost:8080/",
     "height": 284
    },
    "id": "5WORHuhPQmKX",
    "outputId": "f85468b8-7a59-4ace-c095-7760becd4cfa"
   },
   "outputs": [
    {
     "name": "stdout",
     "output_type": "stream",
     "text": [
      "Model: \"sequential_1\"\n",
      "_________________________________________________________________\n",
      "Layer (type)                 Output Shape              Param #   \n",
      "=================================================================\n",
      "dense_3 (Dense)              (None, 256)               44288     \n",
      "_________________________________________________________________\n",
      "dense_4 (Dense)              (None, 256)               65792     \n",
      "_________________________________________________________________\n",
      "dense_5 (Dense)              (None, 1)                 257       \n",
      "=================================================================\n",
      "Total params: 110,337\n",
      "Trainable params: 110,337\n",
      "Non-trainable params: 0\n",
      "_________________________________________________________________\n",
      "None\n"
     ]
    }
   ],
   "source": [
    "#Se realizara un pequeño modelo ----> secuential\n",
    "\n",
    "from keras.models import Sequential\n",
    "from keras.layers import Dense\n",
    "from keras.utils import plot_model\n",
    "\n",
    "#Red neuronal pequeña\n",
    "model = Sequential()\n",
    "model.add(Dense(256,input_dim = x_train.shape[1],activation=\"relu\"))#Al tener 177 var entrada, comenz con capa de 256 neuronas. input_dim = dimens d imput\n",
    "model.add(Dense(256,activation=\"relu\"))                             # Aqui funcionara la función de activación _relu_ \n",
    "model.add(Dense(1,activation = \"sigmoid\"))                          # 1 nerurona de salida, usamos _sigmoid_\n",
    "model.compile(optimizer = \"Adam\",loss=\"binary_crossentropy\",metrics=[\"accuracy\"])\n",
    "\n",
    "print(model.summary())"
   ]
  },
  {
   "cell_type": "code",
   "execution_count": 37,
   "metadata": {
    "colab": {
     "base_uri": "https://localhost:8080/",
     "height": 422
    },
    "id": "6aDTIdkX3lq6",
    "outputId": "44c0560e-d3e9-4898-9dc2-06327e314d21"
   },
   "outputs": [
    {
     "data": {
      "image/png": "[encoded data removed]",
      "text/plain": [
       "<IPython.core.display.Image object>"
      ]
     },
     "execution_count": 37,
     "metadata": {},
     "output_type": "execute_result"
    }
   ],
   "source": [
    "plot_model(model, to_file='model.png',show_shapes=True)"
   ]
  },
  {
   "cell_type": "code",
   "execution_count": 38,
   "metadata": {
    "colab": {
     "base_uri": "https://localhost:8080/",
     "height": 159
    },
    "id": "tOHDiEkZ3mrD",
    "outputId": "642f8168-588d-4dba-a904-527350cdd641"
   },
   "outputs": [
    {
     "name": "stdout",
     "output_type": "stream",
     "text": [
      "Epoch 1/3\n",
      "24720/24720 [==============================] - 133s 5ms/step - loss: 1.1105 - accuracy: 0.7992 - val_loss: 0.3169 - val_accuracy: 0.8586\n",
      "Epoch 2/3\n",
      "24720/24720 [==============================] - 100s 4ms/step - loss: 0.3181 - accuracy: 0.8578 - val_loss: 0.3131 - val_accuracy: 0.8584\n",
      "Epoch 3/3\n",
      "24720/24720 [==============================] - 101s 4ms/step - loss: 0.3151 - accuracy: 0.8598 - val_loss: 0.3248 - val_accuracy: 0.8533\n"
     ]
    },
    {
     "data": {
      "text/plain": [
       "<tensorflow.python.keras.callbacks.History at 0x269baa7c688>"
      ]
     },
     "execution_count": 38,
     "metadata": {},
     "output_type": "execute_result"
    }
   ],
   "source": [
    "model.fit(x_train,y_train, validation_data = (x_val,y_val),epochs=3, batch_size=64)    #entrenando con 3 epochs"
   ]
  },
  {
   "cell_type": "code",
   "execution_count": 39,
   "metadata": {},
   "outputs": [
    {
     "name": "stdout",
     "output_type": "stream",
     "text": [
      "Distribución de outcome: \n",
      " 0    55.60456\n",
      "1    44.39544\n",
      "Name: outcome, dtype: float64\n"
     ]
    }
   ],
   "source": [
    "print(\"Distribución de outcome: \\n\", 100*consolidado['outcome'].value_counts()/consolidado.shape[0] )"
   ]
  },
  {
   "cell_type": "markdown",
   "metadata": {},
   "source": [
    "El accuracy en cada iteración no está aprendiendo se estanca en 0.85 (no tiene un buen desempeño y daria igual clasificar aleatoriamente) . Además al observar la proporción se afirma que el 55% de los valores se clasificacan como 0 \"cero\" y el 44 % se clasifica comno \"uno\" 1\n",
    "\n",
    "---\n",
    "\n",
    "Creamos una arquitetctura más grande:\n",
    "\n",
    "* Colocamos uina nueva capa (intermedia).\n",
    "* El numero de neuronas porcapa lo multiplicamos por una potencia de 2, en este caso 256*2.\n",
    "* Dejamos la misma funcion de activación por capa **ReLU**.\n",
    "* Realizamos 3 **epochs**.\n"
   ]
  },
  {
   "cell_type": "code",
   "execution_count": 40,
   "metadata": {
    "colab": {
     "base_uri": "https://localhost:8080/",
     "height": 159
    },
    "id": "nEhDc_PGQ4lY",
    "outputId": "76e688fe-817f-4fdc-8288-cdbaccc7a409"
   },
   "outputs": [
    {
     "name": "stdout",
     "output_type": "stream",
     "text": [
      "Epoch 1/3\n",
      "24720/24720 [==============================] - 381s 12ms/step - loss: 0.9554 - accuracy: 0.8268 - val_loss: 0.3155 - val_accuracy: 0.8598\n",
      "Epoch 2/3\n",
      "24720/24720 [==============================] - 300s 12ms/step - loss: 0.3175 - accuracy: 0.8593 - val_loss: 0.3127 - val_accuracy: 0.8598\n",
      "Epoch 3/3\n",
      "24720/24720 [==============================] - 337s 14ms/step - loss: 0.3120 - accuracy: 0.8604 - val_loss: 0.3082 - val_accuracy: 0.8626\n"
     ]
    },
    {
     "data": {
      "text/plain": [
       "<tensorflow.python.keras.callbacks.History at 0x269bbd45d88>"
      ]
     },
     "execution_count": 40,
     "metadata": {},
     "output_type": "execute_result"
    }
   ],
   "source": [
    "#Red neuronal de 2 capas\n",
    "model = Sequential()\n",
    "model.add(Dense(512,input_dim = x_train.shape[1],activation=\"relu\"))\n",
    "model.add(Dense(512,activation=\"relu\"))\n",
    "model.add(Dense(256,activation=\"relu\"))\n",
    "model.add(Dense(1,activation = \"sigmoid\"))\n",
    "model.compile(optimizer = \"Adam\",loss=\"binary_crossentropy\",metrics=[\"accuracy\"])\n",
    "model.fit(x_train,y_train, validation_data = (x_val,y_val),epochs=3, batch_size=64)"
   ]
  },
  {
   "cell_type": "markdown",
   "metadata": {
    "id": "fbcKkP7K-OYf"
   },
   "source": [
    "Mejoro un poco el accuracy, sin embargo puede mejorar aún más. En el caso de haber escalado la red los resultados sigan siendo descepcionantes. se sugiere  volver a validar los datos disponibles. En este punto existen dos opciones a explorar: \n",
    "\n",
    "* Estandarizar las variables numericas disponibles.\n",
    "* Volver a realizar el One Hot Encoding."
   ]
  },
  {
   "cell_type": "code",
   "execution_count": 41,
   "metadata": {},
   "outputs": [
    {
     "data": {
      "text/html": [
       "<div>\n",
       "<style scoped>\n",
       "    .dataframe tbody tr th:only-of-type {\n",
       "        vertical-align: middle;\n",
       "    }\n",
       "\n",
       "    .dataframe tbody tr th {\n",
       "        vertical-align: top;\n",
       "    }\n",
       "\n",
       "    .dataframe thead th {\n",
       "        text-align: right;\n",
       "    }\n",
       "</style>\n",
       "<table border=\"1\" class=\"dataframe\">\n",
       "  <thead>\n",
       "    <tr style=\"text-align: right;\">\n",
       "      <th></th>\n",
       "      <th>año</th>\n",
       "      <th>char_37</th>\n",
       "      <th>char_11</th>\n",
       "      <th>char_27</th>\n",
       "      <th>char_26</th>\n",
       "      <th>char_14</th>\n",
       "      <th>char_16</th>\n",
       "      <th>char_34</th>\n",
       "      <th>trimestre</th>\n",
       "      <th>mes_actividad</th>\n",
       "      <th>...</th>\n",
       "      <th>char_8_type 8</th>\n",
       "      <th>char_9_type 1</th>\n",
       "      <th>char_9_type 2</th>\n",
       "      <th>char_9_type 3</th>\n",
       "      <th>char_9_type 4</th>\n",
       "      <th>char_9_type 5</th>\n",
       "      <th>char_9_type 6</th>\n",
       "      <th>char_9_type 7</th>\n",
       "      <th>char_9_type 8</th>\n",
       "      <th>char_9_type 9</th>\n",
       "    </tr>\n",
       "  </thead>\n",
       "  <tbody>\n",
       "    <tr>\n",
       "      <th>1742909</th>\n",
       "      <td>2021</td>\n",
       "      <td>1</td>\n",
       "      <td>1</td>\n",
       "      <td>0</td>\n",
       "      <td>0</td>\n",
       "      <td>0</td>\n",
       "      <td>1</td>\n",
       "      <td>1</td>\n",
       "      <td>2</td>\n",
       "      <td>10</td>\n",
       "      <td>...</td>\n",
       "      <td>0.0</td>\n",
       "      <td>0.0</td>\n",
       "      <td>1.0</td>\n",
       "      <td>0.0</td>\n",
       "      <td>0.0</td>\n",
       "      <td>0.0</td>\n",
       "      <td>0.0</td>\n",
       "      <td>0.0</td>\n",
       "      <td>0.0</td>\n",
       "      <td>0.0</td>\n",
       "    </tr>\n",
       "    <tr>\n",
       "      <th>711687</th>\n",
       "      <td>2022</td>\n",
       "      <td>1</td>\n",
       "      <td>1</td>\n",
       "      <td>1</td>\n",
       "      <td>0</td>\n",
       "      <td>1</td>\n",
       "      <td>1</td>\n",
       "      <td>1</td>\n",
       "      <td>4</td>\n",
       "      <td>12</td>\n",
       "      <td>...</td>\n",
       "      <td>0.0</td>\n",
       "      <td>0.0</td>\n",
       "      <td>0.0</td>\n",
       "      <td>0.0</td>\n",
       "      <td>0.0</td>\n",
       "      <td>0.0</td>\n",
       "      <td>0.0</td>\n",
       "      <td>0.0</td>\n",
       "      <td>0.0</td>\n",
       "      <td>1.0</td>\n",
       "    </tr>\n",
       "    <tr>\n",
       "      <th>2054827</th>\n",
       "      <td>2022</td>\n",
       "      <td>0</td>\n",
       "      <td>0</td>\n",
       "      <td>0</td>\n",
       "      <td>0</td>\n",
       "      <td>0</td>\n",
       "      <td>0</td>\n",
       "      <td>0</td>\n",
       "      <td>4</td>\n",
       "      <td>10</td>\n",
       "      <td>...</td>\n",
       "      <td>0.0</td>\n",
       "      <td>0.0</td>\n",
       "      <td>0.0</td>\n",
       "      <td>1.0</td>\n",
       "      <td>0.0</td>\n",
       "      <td>0.0</td>\n",
       "      <td>0.0</td>\n",
       "      <td>0.0</td>\n",
       "      <td>0.0</td>\n",
       "      <td>0.0</td>\n",
       "    </tr>\n",
       "  </tbody>\n",
       "</table>\n",
       "<p>3 rows × 172 columns</p>\n",
       "</div>"
      ],
      "text/plain": [
       "          año  char_37  char_11  char_27  char_26  char_14  char_16  char_34  \\\n",
       "1742909  2021        1        1        0        0        0        1        1   \n",
       "711687   2022        1        1        1        0        1        1        1   \n",
       "2054827  2022        0        0        0        0        0        0        0   \n",
       "\n",
       "         trimestre  mes_actividad  ...  char_8_type 8  char_9_type 1  \\\n",
       "1742909          2             10  ...            0.0            0.0   \n",
       "711687           4             12  ...            0.0            0.0   \n",
       "2054827          4             10  ...            0.0            0.0   \n",
       "\n",
       "         char_9_type 2  char_9_type 3  char_9_type 4  char_9_type 5  \\\n",
       "1742909            1.0            0.0            0.0            0.0   \n",
       "711687             0.0            0.0            0.0            0.0   \n",
       "2054827            0.0            1.0            0.0            0.0   \n",
       "\n",
       "         char_9_type 6  char_9_type 7  char_9_type 8  char_9_type 9  \n",
       "1742909            0.0            0.0            0.0            0.0  \n",
       "711687             0.0            0.0            0.0            1.0  \n",
       "2054827            0.0            0.0            0.0            0.0  \n",
       "\n",
       "[3 rows x 172 columns]"
      ]
     },
     "execution_count": 41,
     "metadata": {},
     "output_type": "execute_result"
    }
   ],
   "source": [
    "x_train.head(3)"
   ]
  },
  {
   "cell_type": "code",
   "execution_count": 42,
   "metadata": {
    "id": "5SmQFYMSRHcB"
   },
   "outputs": [],
   "source": [
    "#Estandarización de todas las variables pues existen valores en otro rango más alto\n",
    "from sklearn.preprocessing import StandardScaler\n",
    "\n",
    "scaler = StandardScaler()\n",
    "scaler.fit(x_train)\n",
    "x_train_scaled = scaler.transform(x_train)\n",
    "x_val_scaled = scaler.transform(x_val)\n",
    "x_test_scaled = scaler.transform(x_test)"
   ]
  },
  {
   "cell_type": "code",
   "execution_count": 43,
   "metadata": {
    "colab": {
     "base_uri": "https://localhost:8080/",
     "height": 159
    },
    "id": "VYWUPxcoRHn9",
    "outputId": "cc90122c-34bc-4b39-c034-c32931e29ce7"
   },
   "outputs": [
    {
     "name": "stdout",
     "output_type": "stream",
     "text": [
      "Epoch 1/3\n",
      "24720/24720 [==============================] - 342s 13ms/step - loss: 0.2563 - accuracy: 0.8868 - val_loss: 0.1621 - val_accuracy: 0.9331\n",
      "Epoch 2/3\n",
      "24720/24720 [==============================] - 350s 14ms/step - loss: 0.1448 - accuracy: 0.9405 - val_loss: 0.1249 - val_accuracy: 0.9500\n",
      "Epoch 3/3\n",
      "24720/24720 [==============================] - 346s 14ms/step - loss: 0.1100 - accuracy: 0.9560 - val_loss: 0.1040 - val_accuracy: 0.9592\n"
     ]
    },
    {
     "data": {
      "text/plain": [
       "<tensorflow.python.keras.callbacks.History at 0x269bbf1f388>"
      ]
     },
     "execution_count": 43,
     "metadata": {},
     "output_type": "execute_result"
    }
   ],
   "source": [
    "#Red neuronal anterior cambiando datasets.\n",
    "model = Sequential()\n",
    "model.add(Dense(512,input_dim = x_train_scaled.shape[1],activation=\"relu\"))\n",
    "model.add(Dense(512,activation=\"relu\"))\n",
    "model.add(Dense(256,activation=\"relu\"))\n",
    "model.add(Dense(1,activation = \"sigmoid\"))\n",
    "model.compile(optimizer = \"Adam\",loss=\"binary_crossentropy\",metrics=[\"accuracy\"])\n",
    "model.fit(x_train_scaled,y_train, validation_data = (x_val_scaled,y_val),epochs=3, batch_size=64)"
   ]
  },
  {
   "cell_type": "markdown",
   "metadata": {
    "id": "ubDSL59pCcBg"
   },
   "source": [
    "Con sólo la estandarización de la información el desempeño del modelo ha mejorado drasticamente logrando una precision del 96%! Podriamos seguir evaluanto redes más grandes, pero es un valor aceptable para nosotros por el momento. El siguiente paso es probar este mismo modelo con información que la red nunca haya visto (set de prueba)"
   ]
  },
  {
   "cell_type": "markdown",
   "metadata": {},
   "source": [
    "---\n",
    "####  Prueba del modelo"
   ]
  },
  {
   "cell_type": "code",
   "execution_count": null,
   "metadata": {
    "colab": {
     "base_uri": "https://localhost:8080/",
     "height": 70
    },
    "id": "B6C_XX0dRHxR",
    "outputId": "2012039d-6d7b-4084-b120-09735c9a84b9"
   },
   "outputs": [
    {
     "name": "stdout",
     "output_type": "stream",
     "text": [
      "439459/439459 [==============================] - 21s 48us/step\n",
      "Metric  loss : 0.09\n",
      "Metric  acc : 0.96\n"
     ]
    }
   ],
   "source": [
    "result = model.evaluate(x_test_scaled,y_test)\n",
    "for i in range(len(model.metrics_names)):\n",
    " print(\"Metric \",model.metrics_names[i],\":\",\n",
    "str(round(result[i],2)))"
   ]
  },
  {
   "cell_type": "markdown",
   "metadata": {
    "id": "OLQb96GiC3vb"
   },
   "source": [
    "El desempeño con el **set de prueba** sigue siendo bueno por lo cual ya podemos emplear la arquitectura definida y realizar un entrenamiento con un mayor número de epocas."
   ]
  },
  {
   "cell_type": "code",
   "execution_count": null,
   "metadata": {
    "colab": {
     "base_uri": "https://localhost:8080/",
     "height": 479
    },
    "id": "SMi2p6qoRfbo",
    "outputId": "6cf3325c-f246-4f77-eeb9-dbd2a16446f3"
   },
   "outputs": [
    {
     "name": "stdout",
     "output_type": "stream",
     "text": [
      "Train on 1582048 samples, validate on 175784 samples\n",
      "Epoch 1/12\n",
      "1582048/1582048 [==============================] - 131s 83us/step - loss: 0.1972 - acc: 0.9129 - val_loss: 0.1430 - val_acc: 0.9409\n",
      "Epoch 2/12\n",
      "1582048/1582048 [==============================] - 130s 82us/step - loss: 0.1188 - acc: 0.9518 - val_loss: 0.1088 - val_acc: 0.9571\n",
      "Epoch 3/12\n",
      "1582048/1582048 [==============================] - 129s 82us/step - loss: 0.0927 - acc: 0.9636 - val_loss: 0.0898 - val_acc: 0.9652\n",
      "Epoch 4/12\n",
      "1582048/1582048 [==============================] - 130s 82us/step - loss: 0.0780 - acc: 0.9697 - val_loss: 0.0831 - val_acc: 0.9688\n",
      "Epoch 5/12\n",
      "1582048/1582048 [==============================] - 129s 82us/step - loss: 0.0689 - acc: 0.9735 - val_loss: 0.0781 - val_acc: 0.9717\n",
      "Epoch 6/12\n",
      "1582048/1582048 [==============================] - 130s 82us/step - loss: 0.0624 - acc: 0.9766 - val_loss: 0.0746 - val_acc: 0.9737\n",
      "Epoch 7/12\n",
      "1582048/1582048 [==============================] - 129s 82us/step - loss: 0.0583 - acc: 0.9784 - val_loss: 0.0712 - val_acc: 0.9753\n",
      "Epoch 8/12\n",
      "1582048/1582048 [==============================] - 127s 80us/step - loss: 0.0542 - acc: 0.9801 - val_loss: 0.0702 - val_acc: 0.9771\n",
      "Epoch 9/12\n",
      "1582048/1582048 [==============================] - 127s 80us/step - loss: 0.0520 - acc: 0.9812 - val_loss: 0.0711 - val_acc: 0.9777\n",
      "Epoch 10/12\n",
      "1582048/1582048 [==============================] - 127s 80us/step - loss: 0.0511 - acc: 0.9818 - val_loss: 0.0668 - val_acc: 0.9789\n",
      "Epoch 11/12\n",
      "1582048/1582048 [==============================] - 127s 80us/step - loss: 0.0497 - acc: 0.9826 - val_loss: 0.0721 - val_acc: 0.9791\n",
      "Epoch 12/12\n",
      "1582048/1582048 [==============================] - 126s 80us/step - loss: 0.0527 - acc: 0.9830 - val_loss: 0.0704 - val_acc: 0.9777\n"
     ]
    },
    {
     "data": {
      "text/plain": [
       "<keras.callbacks.History at 0x7f068cd30668>"
      ]
     },
     "execution_count": 187,
     "metadata": {
      "tags": []
     },
     "output_type": "execute_result"
    }
   ],
   "source": [
    "model = Sequential()\n",
    "model.add(Dense(512,input_dim = x_train_scaled.shape[1],activation=\"relu\"))\n",
    "model.add(Dense(512,activation=\"relu\"))\n",
    "model.add(Dense(256,activation=\"relu\"))\n",
    "model.add(Dense(1,activation = \"sigmoid\"))\n",
    "model.compile(optimizer = \"Adam\",loss=\"binary_crossentropy\",metrics=[\"accuracy\"])\n",
    "model.fit(x_train_scaled,y_train, validation_data = (x_val_scaled,y_val),epochs=12, batch_size=64)"
   ]
  },
  {
   "cell_type": "markdown",
   "metadata": {
    "id": "f6Qd8SigDTs3"
   },
   "source": [
    "# <h1 id=\"evaluacion\">Evaluación del modelo</h1>\n",
    "\n",
    "#### Evaluando el desempeño\n",
    "\n",
    "La red ha logrado mejorar un poco su desempeño con más epocas de entrenamiento. Finalmente vamos a evaluar gráficamente el desempeño de la función de pérdidas y la presición a traves de cada época de entrenamiento con el fin de validar algun posible sobre-entrenamiento."
   ]
  },
  {
   "cell_type": "code",
   "execution_count": 45,
   "metadata": {
    "colab": {
     "base_uri": "https://localhost:8080/",
     "height": 70
    },
    "id": "LP_Wvay7RfXw",
    "outputId": "c591284b-c2b9-40d6-b164-c6b910305062"
   },
   "outputs": [
    {
     "name": "stdout",
     "output_type": "stream",
     "text": [
      "13734/13734 [==============================] - 55s 4ms/step - loss: 0.1026 - accuracy: 0.9596 0s - loss: 0.1\n",
      "Metric  loss : 0.1\n",
      "Metric  accuracy : 0.96\n"
     ]
    }
   ],
   "source": [
    "result = model.evaluate(x_test_scaled,y_test)\n",
    "for i in range(len(model.metrics_names)):\n",
    " print(\"Metric \",model.metrics_names[i],\":\",str(round(result[i],2)))"
   ]
  },
  {
   "cell_type": "code",
   "execution_count": null,
   "metadata": {
    "colab": {
     "base_uri": "https://localhost:8080/",
     "height": 406
    },
    "id": "FigeTaWgRqow",
    "outputId": "2bb09c07-ee48-49ce-f5a1-0fd202bedf14"
   },
   "outputs": [
    {
     "data": {
      "image/png": "[encoded data removed]",
      "text/plain": [
       "<Figure size 936x432 with 1 Axes>"
      ]
     },
     "metadata": {
      "tags": []
     },
     "output_type": "display_data"
    }
   ],
   "source": [
    "import matplotlib.pyplot as plt\n",
    "%matplotlib inline\n",
    "\n",
    "plt.figure(figsize=(13,6))\n",
    "plt.plot(model.history.history['loss'])\n",
    "plt.plot(model.history.history['val_loss'])\n",
    "plt.title(\"Pérdidas del modelo con set de entrenamiento y pruebas por época\")\n",
    "plt.ylabel('Pérdidas')\n",
    "plt.xlabel('Épocas')\n",
    "plt.legend(['Entrenamiento', 'Validación'], loc='upper right')\n",
    "plt.show()"
   ]
  },
  {
   "cell_type": "markdown",
   "metadata": {},
   "source": [
    "A través de las distintas **epochs** la función de pérdidas va disminuyendo tanto con la información de entrenamiento como en la informaciónd e validación.\n",
    "\n",
    "Miremos ahora lasmétricas de desempeño **accuracy**."
   ]
  },
  {
   "cell_type": "code",
   "execution_count": null,
   "metadata": {
    "colab": {
     "base_uri": "https://localhost:8080/",
     "height": 406
    },
    "id": "_hJBWIbURqyH",
    "outputId": "40d86ce4-264a-4f27-9eb0-14011e239d6a"
   },
   "outputs": [
    {
     "data": {
      "image/png": "[encoded data removed]",
      "text/plain": [
       "<Figure size 936x432 with 1 Axes>"
      ]
     },
     "metadata": {
      "tags": []
     },
     "output_type": "display_data"
    }
   ],
   "source": [
    "plt.figure(figsize=(13,6))\n",
    "plt.plot(model.history.history['acc'])\n",
    "plt.plot(model.history.history['val_acc'])\n",
    "plt.title(\"Pérdidas del modelo con set de entrenamiento y pruebas por época\")\n",
    "plt.ylabel('Accuracy')\n",
    "plt.xlabel('Épocas')\n",
    "plt.legend(['Entrenamiento', 'Validación'], loc='lower right')\n",
    "plt.show()"
   ]
  },
  {
   "cell_type": "markdown",
   "metadata": {
    "id": "8FzLOeui6l63"
   },
   "source": [
    "Aqí puede observarse que a partir de la réplica 12 el entrenamiento deja de aprender (las curvas se aplanan)"
   ]
  },
  {
   "cell_type": "code",
   "execution_count": null,
   "metadata": {},
   "outputs": [],
   "source": []
  }
 ],
 "metadata": {
  "accelerator": "GPU",
  "colab": {
   "machine_shape": "hm",
   "name": "11_Clasificacion_Binaria.ipynb",
   "provenance": []
  },
  "kernelspec": {
   "display_name": "Python 3",
   "language": "python",
   "name": "python3"
  },
  "language_info": {
   "codemirror_mode": {
    "name": "ipython",
    "version": 3
   },
   "file_extension": ".py",
   "mimetype": "text/x-python",
   "name": "python",
   "nbconvert_exporter": "python",
   "pygments_lexer": "ipython3",
   "version": "3.7.9"
  }
 },
 "nbformat": 4,
 "nbformat_minor": 4
}
